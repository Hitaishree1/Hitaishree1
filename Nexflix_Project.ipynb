{
  "cells": [
    {
      "cell_type": "markdown",
      "metadata": {
        "id": "view-in-github",
        "colab_type": "text"
      },
      "source": [
        "<a href=\"https://colab.research.google.com/github/Hitaishree1/Hitaishree1/blob/main/Nexflix_Project.ipynb\" target=\"_parent\"><img src=\"https://colab.research.google.com/assets/colab-badge.svg\" alt=\"Open In Colab\"/></a>"
      ]
    },
    {
      "cell_type": "code",
      "execution_count": null,
      "metadata": {
        "id": "dkBcCzCuSsna"
      },
      "outputs": [],
      "source": []
    },
    {
      "cell_type": "markdown",
      "metadata": {
        "id": "YBw_-ifqSsnc"
      },
      "source": [
        "#  Recommendation System for Netflix Prize Dataset using SVD"
      ]
    },
    {
      "cell_type": "code",
      "execution_count": null,
      "metadata": {
        "id": "uWb5OE-0Ssng"
      },
      "outputs": [],
      "source": [
        "# Import libraries\n",
        "import numpy as np\n",
        "import pandas as pd\n",
        "import matplotlib.pyplot as plt"
      ]
    },
    {
      "cell_type": "markdown",
      "metadata": {
        "id": "kUFxDEt1Ssnh"
      },
      "source": [
        "# To load the 'combined_data_1' dataset after uploading it to Jupyter notebook"
      ]
    },
    {
      "cell_type": "code",
      "execution_count": null,
      "metadata": {
        "id": "RmjwZMplSsni"
      },
      "outputs": [],
      "source": [
        "# Reading dataset file\n",
        "dataset = pd.read_csv('combined_data_1.txt',header = None, names = ['Cust_Id', 'Rating'], usecols = [0,1])\n",
        "#not named---->we are naming the columns\n",
        "\n",
        "# Convert Ratings column to a float\n",
        "dataset['Rating'] = dataset['Rating'].astype(float)\n",
        "#3\n",
        "#3.5----->float--->rating column\n",
        "\n"
      ]
    },
    {
      "cell_type": "raw",
      "metadata": {
        "id": "FG-ILL7lSsnk"
      },
      "source": [
        "  0       1               2\n",
        "Cust_Id  Rating\n",
        "1:        nan------------------------------->movie 1\n",
        "1488844,  3            ,2005-09-06"
      ]
    },
    {
      "cell_type": "code",
      "execution_count": null,
      "metadata": {
        "id": "O2g1Ksl6Ssnk",
        "outputId": "8c1bceef-b8dd-4172-b255-f3197f772d8d"
      },
      "outputs": [
        {
          "data": {
            "text/plain": [
              "Cust_Id     object\n",
              "Rating     float64\n",
              "dtype: object"
            ]
          },
          "execution_count": 5,
          "metadata": {},
          "output_type": "execute_result"
        }
      ],
      "source": [
        "#To print the datatype of columns\n",
        "dataset.dtypes"
      ]
    },
    {
      "cell_type": "code",
      "execution_count": null,
      "metadata": {
        "id": "y5tBGI5ESsnm",
        "outputId": "858315fd-036a-4573-b777-e6d05f09ebcf"
      },
      "outputs": [
        {
          "data": {
            "text/plain": [
              "(24058263, 2)"
            ]
          },
          "execution_count": 4,
          "metadata": {},
          "output_type": "execute_result"
        }
      ],
      "source": [
        "#To inspect the shape of the datset\n",
        "dataset.shape\n",
        "\n"
      ]
    },
    {
      "cell_type": "code",
      "execution_count": null,
      "metadata": {
        "id": "Siicw2-cSsnn",
        "outputId": "52860bdb-ce97-42b8-d221-7a5a7a8d7275"
      },
      "outputs": [
        {
          "data": {
            "text/html": [
              "<div>\n",
              "<style scoped>\n",
              "    .dataframe tbody tr th:only-of-type {\n",
              "        vertical-align: middle;\n",
              "    }\n",
              "\n",
              "    .dataframe tbody tr th {\n",
              "        vertical-align: top;\n",
              "    }\n",
              "\n",
              "    .dataframe thead th {\n",
              "        text-align: right;\n",
              "    }\n",
              "</style>\n",
              "<table border=\"1\" class=\"dataframe\">\n",
              "  <thead>\n",
              "    <tr style=\"text-align: right;\">\n",
              "      <th></th>\n",
              "      <th>Cust_Id</th>\n",
              "      <th>Rating</th>\n",
              "    </tr>\n",
              "  </thead>\n",
              "  <tbody>\n",
              "    <tr>\n",
              "      <th>0</th>\n",
              "      <td>1:</td>\n",
              "      <td>NaN</td>\n",
              "    </tr>\n",
              "    <tr>\n",
              "      <th>1</th>\n",
              "      <td>1488844</td>\n",
              "      <td>3.0</td>\n",
              "    </tr>\n",
              "    <tr>\n",
              "      <th>2</th>\n",
              "      <td>822109</td>\n",
              "      <td>5.0</td>\n",
              "    </tr>\n",
              "    <tr>\n",
              "      <th>3</th>\n",
              "      <td>885013</td>\n",
              "      <td>4.0</td>\n",
              "    </tr>\n",
              "    <tr>\n",
              "      <th>4</th>\n",
              "      <td>30878</td>\n",
              "      <td>4.0</td>\n",
              "    </tr>\n",
              "  </tbody>\n",
              "</table>\n",
              "</div>"
            ],
            "text/plain": [
              "   Cust_Id  Rating\n",
              "0       1:     NaN\n",
              "1  1488844     3.0\n",
              "2   822109     5.0\n",
              "3   885013     4.0\n",
              "4    30878     4.0"
            ]
          },
          "execution_count": 5,
          "metadata": {},
          "output_type": "execute_result"
        }
      ],
      "source": [
        "#To print the head of dataset\n",
        "dataset.head()\n",
        "\n",
        "#1:----->1st movie\n",
        "#1xyz rows"
      ]
    },
    {
      "cell_type": "code",
      "execution_count": null,
      "metadata": {
        "id": "GEAeE4gASsnn",
        "outputId": "f0393940-dcf8-42b7-ac4d-3e3729368fde"
      },
      "outputs": [
        {
          "data": {
            "text/html": [
              "<div>\n",
              "<style scoped>\n",
              "    .dataframe tbody tr th:only-of-type {\n",
              "        vertical-align: middle;\n",
              "    }\n",
              "\n",
              "    .dataframe tbody tr th {\n",
              "        vertical-align: top;\n",
              "    }\n",
              "\n",
              "    .dataframe thead th {\n",
              "        text-align: right;\n",
              "    }\n",
              "</style>\n",
              "<table border=\"1\" class=\"dataframe\">\n",
              "  <thead>\n",
              "    <tr style=\"text-align: right;\">\n",
              "      <th></th>\n",
              "      <th>count</th>\n",
              "    </tr>\n",
              "    <tr>\n",
              "      <th>Rating</th>\n",
              "      <th></th>\n",
              "    </tr>\n",
              "  </thead>\n",
              "  <tbody>\n",
              "    <tr>\n",
              "      <th>1.0</th>\n",
              "      <td>1118186</td>\n",
              "    </tr>\n",
              "    <tr>\n",
              "      <th>2.0</th>\n",
              "      <td>2439073</td>\n",
              "    </tr>\n",
              "    <tr>\n",
              "      <th>3.0</th>\n",
              "      <td>6904181</td>\n",
              "    </tr>\n",
              "    <tr>\n",
              "      <th>4.0</th>\n",
              "      <td>8085741</td>\n",
              "    </tr>\n",
              "    <tr>\n",
              "      <th>5.0</th>\n",
              "      <td>5506583</td>\n",
              "    </tr>\n",
              "  </tbody>\n",
              "</table>\n",
              "</div>"
            ],
            "text/plain": [
              "          count\n",
              "Rating         \n",
              "1.0     1118186\n",
              "2.0     2439073\n",
              "3.0     6904181\n",
              "4.0     8085741\n",
              "5.0     5506583"
            ]
          },
          "execution_count": 6,
          "metadata": {},
          "output_type": "execute_result"
        }
      ],
      "source": [
        "#To find the distribution of different ratings in the datset\n",
        "p = dataset.groupby('Rating')['Rating'].agg(['count'])\n",
        "#3--->1st row\n",
        "#3--->10th row\n",
        "#3  merge it\n",
        "p"
      ]
    },
    {
      "cell_type": "code",
      "execution_count": null,
      "metadata": {
        "id": "uu8s4SWBSsno",
        "outputId": "00f6291f-fda0-44f8-f466-2786b3d0c5ef"
      },
      "outputs": [
        {
          "data": {
            "text/plain": [
              "4499"
            ]
          },
          "execution_count": 7,
          "metadata": {},
          "output_type": "execute_result"
        }
      ],
      "source": [
        "# get movie count by counting nan values\n",
        "\n",
        "movie_count = dataset.isnull().sum()[1]\n",
        "\n",
        "movie_count\n",
        "\n",
        "#4499 total number of movies present in dataset"
      ]
    },
    {
      "cell_type": "code",
      "execution_count": null,
      "metadata": {
        "id": "rQS0zLPsSsno",
        "outputId": "9e32b06e-245c-4a1c-cfeb-6de54338a48e"
      },
      "outputs": [
        {
          "data": {
            "text/plain": [
              "470758"
            ]
          },
          "execution_count": 8,
          "metadata": {},
          "output_type": "execute_result"
        }
      ],
      "source": [
        "# get customer count\n",
        "cust_count = dataset['Cust_Id'].nunique()-movie_count\n",
        "\n",
        "cust_count"
      ]
    },
    {
      "cell_type": "raw",
      "metadata": {
        "id": "nrrDFXBdSsnp"
      },
      "source": [
        "1: ---------------->m1\n",
        "54554 3\n",
        "43534 5\n",
        ".\n",
        ".\n",
        ".\n",
        "100\n",
        "2:------------->m2\n",
        "43434 2\n",
        "76575 5\n",
        ".\n",
        ".\n",
        ".\n",
        ".\n",
        ".\n",
        ".\n",
        "150\n",
        "\n",
        "4499--->total movies\n",
        "10000\n",
        "nunique---->removing duplicatin\n",
        "4499-1000000\n",
        "total customers"
      ]
    },
    {
      "cell_type": "code",
      "execution_count": null,
      "metadata": {
        "id": "bR60zjE0Ssnp",
        "outputId": "e8988405-2d79-4909-f050-ce103744248b"
      },
      "outputs": [
        {
          "data": {
            "text/plain": [
              "24053764"
            ]
          },
          "execution_count": 9,
          "metadata": {},
          "output_type": "execute_result"
        }
      ],
      "source": [
        "# get rating count\n",
        "\n",
        "rating_count = dataset['Cust_Id'].count() - movie_count\n",
        "\n",
        "rating_count"
      ]
    },
    {
      "cell_type": "markdown",
      "metadata": {
        "id": "Ct8e7n1bSsnq"
      },
      "source": [
        "## To plot the distribution of the ratings in as a bar plot"
      ]
    },
    {
      "cell_type": "code",
      "execution_count": null,
      "metadata": {
        "id": "oGxO7T4mSsnq",
        "outputId": "6c9b1aa9-9ef2-4c71-dd49-018ca3bb856e",
        "colab": {
          "base_uri": "https://localhost:8080/",
          "height": 228
        }
      },
      "outputs": [
        {
          "output_type": "error",
          "ename": "NameError",
          "evalue": "name 'p' is not defined",
          "traceback": [
            "\u001b[0;31m---------------------------------------------------------------------------\u001b[0m",
            "\u001b[0;31mNameError\u001b[0m                                 Traceback (most recent call last)",
            "\u001b[0;32m<ipython-input-1-f5de586aa6e2>\u001b[0m in \u001b[0;36m<cell line: 1>\u001b[0;34m()\u001b[0m\n\u001b[0;32m----> 1\u001b[0;31m \u001b[0max\u001b[0m \u001b[0;34m=\u001b[0m \u001b[0mp\u001b[0m\u001b[0;34m.\u001b[0m\u001b[0mplot\u001b[0m\u001b[0;34m(\u001b[0m\u001b[0mkind\u001b[0m \u001b[0;34m=\u001b[0m \u001b[0;34m'barh'\u001b[0m\u001b[0;34m,\u001b[0m \u001b[0mlegend\u001b[0m \u001b[0;34m=\u001b[0m \u001b[0;32mFalse\u001b[0m\u001b[0;34m,\u001b[0m \u001b[0mfigsize\u001b[0m \u001b[0;34m=\u001b[0m \u001b[0;34m(\u001b[0m\u001b[0;36m15\u001b[0m\u001b[0;34m,\u001b[0m\u001b[0;36m10\u001b[0m\u001b[0;34m)\u001b[0m\u001b[0;34m)\u001b[0m\u001b[0;34m\u001b[0m\u001b[0;34m\u001b[0m\u001b[0m\n\u001b[0m\u001b[1;32m      2\u001b[0m \u001b[0mplt\u001b[0m\u001b[0;34m.\u001b[0m\u001b[0mtitle\u001b[0m\u001b[0;34m(\u001b[0m\u001b[0;34mf'Total pool: {movie_count} Movies, {cust_count} customers, {rating_count} ratings given'\u001b[0m\u001b[0;34m,\u001b[0m \u001b[0mfontsize\u001b[0m\u001b[0;34m=\u001b[0m\u001b[0;36m20\u001b[0m\u001b[0;34m)\u001b[0m\u001b[0;34m\u001b[0m\u001b[0;34m\u001b[0m\u001b[0m\n\u001b[1;32m      3\u001b[0m \u001b[0;31m#plt.axis('off')\u001b[0m\u001b[0;34m\u001b[0m\u001b[0;34m\u001b[0m\u001b[0m\n\u001b[1;32m      4\u001b[0m \u001b[0;34m\u001b[0m\u001b[0m\n\u001b[1;32m      5\u001b[0m \u001b[0;34m\u001b[0m\u001b[0m\n",
            "\u001b[0;31mNameError\u001b[0m: name 'p' is not defined"
          ]
        }
      ],
      "source": [
        "ax = p.plot(kind = 'barh', legend = False, figsize = (15,10))\n",
        "plt.title(f'Total pool: {movie_count} Movies, {cust_count} customers, {rating_count} ratings given', fontsize=20)\n",
        "#plt.axis('off')\n",
        "\n",
        "\n",
        "#print--->print data  '' 'Total pool'"
      ]
    },
    {
      "cell_type": "markdown",
      "metadata": {
        "id": "q1BP9ayUSsnr"
      },
      "source": [
        "# To create a numpy array containing movie ids corresponding to the rows in the 'ratings' dataset"
      ]
    },
    {
      "cell_type": "code",
      "execution_count": null,
      "metadata": {
        "id": "Laf6FAT8Ssnr",
        "outputId": "07e27557-54ee-4755-f806-593173573e8f"
      },
      "outputs": [
        {
          "data": {
            "text/html": [
              "<div>\n",
              "<style scoped>\n",
              "    .dataframe tbody tr th:only-of-type {\n",
              "        vertical-align: middle;\n",
              "    }\n",
              "\n",
              "    .dataframe tbody tr th {\n",
              "        vertical-align: top;\n",
              "    }\n",
              "\n",
              "    .dataframe thead th {\n",
              "        text-align: right;\n",
              "    }\n",
              "</style>\n",
              "<table border=\"1\" class=\"dataframe\">\n",
              "  <thead>\n",
              "    <tr style=\"text-align: right;\">\n",
              "      <th></th>\n",
              "      <th>Rating</th>\n",
              "    </tr>\n",
              "  </thead>\n",
              "  <tbody>\n",
              "    <tr>\n",
              "      <th>0</th>\n",
              "      <td>True</td>\n",
              "    </tr>\n",
              "    <tr>\n",
              "      <th>1</th>\n",
              "      <td>False</td>\n",
              "    </tr>\n",
              "    <tr>\n",
              "      <th>2</th>\n",
              "      <td>False</td>\n",
              "    </tr>\n",
              "    <tr>\n",
              "      <th>3</th>\n",
              "      <td>False</td>\n",
              "    </tr>\n",
              "    <tr>\n",
              "      <th>4</th>\n",
              "      <td>False</td>\n",
              "    </tr>\n",
              "  </tbody>\n",
              "</table>\n",
              "</div>"
            ],
            "text/plain": [
              "   Rating\n",
              "0    True\n",
              "1   False\n",
              "2   False\n",
              "3   False\n",
              "4   False"
            ]
          },
          "execution_count": 11,
          "metadata": {},
          "output_type": "execute_result"
        }
      ],
      "source": [
        "# To count all the 'nan' values in the Ratings column in the 'ratings' dataset\n",
        "df_nan = pd.DataFrame(pd.isnull(dataset.Rating))\n",
        "\n",
        "df_nan.head()"
      ]
    },
    {
      "cell_type": "code",
      "execution_count": null,
      "metadata": {
        "id": "KF2DjecDSsns",
        "outputId": "b91b905e-c49a-438e-da9c-741e9134fd03"
      },
      "outputs": [
        {
          "data": {
            "text/plain": [
              "(4499, 1)"
            ]
          },
          "execution_count": 12,
          "metadata": {},
          "output_type": "execute_result"
        }
      ],
      "source": [
        "# To store the index of all the rows containing 'nan' values\n",
        "df_nan = df_nan[df_nan['Rating'] == True]\n",
        "\n",
        "\n",
        "df_nan.shape"
      ]
    },
    {
      "cell_type": "code",
      "execution_count": null,
      "metadata": {
        "id": "iYo1AaoGSsns",
        "outputId": "033dcce8-d9da-45aa-ef7c-164125a905d1"
      },
      "outputs": [
        {
          "data": {
            "text/html": [
              "<div>\n",
              "<style scoped>\n",
              "    .dataframe tbody tr th:only-of-type {\n",
              "        vertical-align: middle;\n",
              "    }\n",
              "\n",
              "    .dataframe tbody tr th {\n",
              "        vertical-align: top;\n",
              "    }\n",
              "\n",
              "    .dataframe thead th {\n",
              "        text-align: right;\n",
              "    }\n",
              "</style>\n",
              "<table border=\"1\" class=\"dataframe\">\n",
              "  <thead>\n",
              "    <tr style=\"text-align: right;\">\n",
              "      <th></th>\n",
              "      <th>index</th>\n",
              "      <th>Rating</th>\n",
              "    </tr>\n",
              "  </thead>\n",
              "  <tbody>\n",
              "    <tr>\n",
              "      <th>0</th>\n",
              "      <td>0</td>\n",
              "      <td>True</td>\n",
              "    </tr>\n",
              "    <tr>\n",
              "      <th>1</th>\n",
              "      <td>548</td>\n",
              "      <td>True</td>\n",
              "    </tr>\n",
              "    <tr>\n",
              "      <th>2</th>\n",
              "      <td>694</td>\n",
              "      <td>True</td>\n",
              "    </tr>\n",
              "    <tr>\n",
              "      <th>3</th>\n",
              "      <td>2707</td>\n",
              "      <td>True</td>\n",
              "    </tr>\n",
              "    <tr>\n",
              "      <th>4</th>\n",
              "      <td>2850</td>\n",
              "      <td>True</td>\n",
              "    </tr>\n",
              "  </tbody>\n",
              "</table>\n",
              "</div>"
            ],
            "text/plain": [
              "   index  Rating\n",
              "0      0    True\n",
              "1    548    True\n",
              "2    694    True\n",
              "3   2707    True\n",
              "4   2850    True"
            ]
          },
          "execution_count": 13,
          "metadata": {},
          "output_type": "execute_result"
        }
      ],
      "source": [
        "# To reset the index of the dataframe\n",
        "df_nan = df_nan.reset_index()\n",
        "\n",
        "\n",
        "\n",
        "df_nan.head()"
      ]
    },
    {
      "cell_type": "code",
      "execution_count": null,
      "metadata": {
        "id": "atBb4_ZISsnt",
        "outputId": "50c5cd92-44c7-4a1a-ef32-acb6b871579a"
      },
      "outputs": [
        {
          "name": "stdout",
          "output_type": "stream",
          "text": [
            "Movie numpy: [1.000e+00 1.000e+00 1.000e+00 ... 4.499e+03 4.499e+03 4.499e+03]\n",
            "Length: 24053764\n"
          ]
        }
      ],
      "source": [
        "#To create a numpy array containing movie ids according the 'ratings' dataset\n",
        "\n",
        "movie_np = []\n",
        "movie_id = 1\n",
        "#into tuple\n",
        "for i,j in zip(df_nan['index'][1:],df_nan['index'][:-1]):\n",
        "    # numpy approach\n",
        "    temp = np.full((1,i-j-1), movie_id)\n",
        "    movie_np = np.append(movie_np, temp)\n",
        "    movie_id += 1\n",
        "\n",
        "# Account for last record and corresponding length\n",
        "# numpy approach\n",
        "last_record = np.full((1,len(dataset) - df_nan.iloc[-1, 0] - 1),movie_id)\n",
        "movie_np = np.append(movie_np, last_record)\n",
        "\n",
        "print(f'Movie numpy: {movie_np}')\n",
        "print(f'Length: {len(movie_np)}')"
      ]
    },
    {
      "cell_type": "raw",
      "metadata": {
        "id": "hsuwKqOaSsnt"
      },
      "source": [
        "2,2-->1\n",
        "\n",
        "1 1\n",
        "1 1"
      ]
    },
    {
      "cell_type": "code",
      "execution_count": null,
      "metadata": {
        "id": "H5i0KjK5Ssnu"
      },
      "outputs": [],
      "source": [
        "#x =zip(df_nan['index'][1:],df_nan['index'][:-1])"
      ]
    },
    {
      "cell_type": "code",
      "execution_count": null,
      "metadata": {
        "id": "d4CDN-_QSsnu"
      },
      "outputs": [],
      "source": [
        "#temp = np.full((1,547), 1)"
      ]
    },
    {
      "cell_type": "code",
      "execution_count": null,
      "metadata": {
        "id": "JHK7kxdESsnu"
      },
      "outputs": [],
      "source": [
        "#print(temp)"
      ]
    },
    {
      "cell_type": "code",
      "execution_count": null,
      "metadata": {
        "id": "_L_2tGAgSsnv"
      },
      "outputs": [],
      "source": [
        "#tuple(x)"
      ]
    },
    {
      "cell_type": "code",
      "execution_count": null,
      "metadata": {
        "id": "rQB1398PSsnv",
        "outputId": "04232d4a-1dd6-44d2-f664-b7cb1daa428c"
      },
      "outputs": [
        {
          "name": "stdout",
          "output_type": "stream",
          "text": [
            "-Dataset examples-\n"
          ]
        },
        {
          "data": {
            "text/html": [
              "<div>\n",
              "<style scoped>\n",
              "    .dataframe tbody tr th:only-of-type {\n",
              "        vertical-align: middle;\n",
              "    }\n",
              "\n",
              "    .dataframe tbody tr th {\n",
              "        vertical-align: top;\n",
              "    }\n",
              "\n",
              "    .dataframe thead th {\n",
              "        text-align: right;\n",
              "    }\n",
              "</style>\n",
              "<table border=\"1\" class=\"dataframe\">\n",
              "  <thead>\n",
              "    <tr style=\"text-align: right;\">\n",
              "      <th></th>\n",
              "      <th>Cust_Id</th>\n",
              "      <th>Rating</th>\n",
              "      <th>Movie_Id</th>\n",
              "    </tr>\n",
              "  </thead>\n",
              "  <tbody>\n",
              "    <tr>\n",
              "      <th>1</th>\n",
              "      <td>1488844</td>\n",
              "      <td>3.0</td>\n",
              "      <td>1</td>\n",
              "    </tr>\n",
              "    <tr>\n",
              "      <th>2</th>\n",
              "      <td>822109</td>\n",
              "      <td>5.0</td>\n",
              "      <td>1</td>\n",
              "    </tr>\n",
              "    <tr>\n",
              "      <th>3</th>\n",
              "      <td>885013</td>\n",
              "      <td>4.0</td>\n",
              "      <td>1</td>\n",
              "    </tr>\n",
              "    <tr>\n",
              "      <th>4</th>\n",
              "      <td>30878</td>\n",
              "      <td>4.0</td>\n",
              "      <td>1</td>\n",
              "    </tr>\n",
              "    <tr>\n",
              "      <th>5</th>\n",
              "      <td>823519</td>\n",
              "      <td>3.0</td>\n",
              "      <td>1</td>\n",
              "    </tr>\n",
              "  </tbody>\n",
              "</table>\n",
              "</div>"
            ],
            "text/plain": [
              "   Cust_Id  Rating  Movie_Id\n",
              "1  1488844     3.0         1\n",
              "2   822109     5.0         1\n",
              "3   885013     4.0         1\n",
              "4    30878     4.0         1\n",
              "5   823519     3.0         1"
            ]
          },
          "execution_count": 15,
          "metadata": {},
          "output_type": "execute_result"
        }
      ],
      "source": [
        "#To append the above created array to the datset after removing the 'nan' rows\n",
        "dataset = dataset[pd.notnull(dataset['Rating'])]#movies count so nan\n",
        "dataset['Movie_Id'] = movie_np.astype(int)\n",
        "dataset['Cust_Id'] =dataset['Cust_Id'].astype(int)\n",
        "print('-Dataset examples-')\n",
        "dataset.head()"
      ]
    },
    {
      "cell_type": "code",
      "execution_count": null,
      "metadata": {
        "id": "hCmyiK_FSsnw",
        "outputId": "6ba52f84-fb98-4d5f-ff36-9ef0be189ec6"
      },
      "outputs": [
        {
          "data": {
            "text/plain": [
              "(24053764, 3)"
            ]
          },
          "execution_count": 16,
          "metadata": {},
          "output_type": "execute_result"
        }
      ],
      "source": [
        "dataset.shape"
      ]
    },
    {
      "cell_type": "markdown",
      "metadata": {
        "id": "nItCI2f4Ssnw"
      },
      "source": [
        "# Data Cleaning"
      ]
    },
    {
      "cell_type": "code",
      "execution_count": null,
      "metadata": {
        "id": "N22iVCG3Ssnx"
      },
      "outputs": [],
      "source": [
        "f = ['count','mean']\n",
        "#count and mean"
      ]
    },
    {
      "cell_type": "code",
      "execution_count": null,
      "metadata": {
        "id": "Pg2AVBR4Ssny",
        "outputId": "6a12d299-32cb-48e2-a9fe-15b5f5d1a1c6"
      },
      "outputs": [
        {
          "name": "stdout",
          "output_type": "stream",
          "text": [
            "Movie minimum times of review: 1799.0\n"
          ]
        }
      ],
      "source": [
        "#To create a list of all the movies rated less often(only include top 30% rated movies)\n",
        "dataset_movie_summary = dataset.groupby('Movie_Id')['Rating'].agg(f)\n",
        "\n",
        "dataset_movie_summary.index = dataset_movie_summary.index.map(int)\n",
        "\n",
        "movie_benchmark = round(dataset_movie_summary['count'].quantile(0.7),0)\n",
        "\n",
        "drop_movie_list = dataset_movie_summary[dataset_movie_summary['count'] < movie_benchmark].index\n",
        "\n",
        "print('Movie minimum times of review: {}'.format(movie_benchmark))"
      ]
    },
    {
      "cell_type": "code",
      "execution_count": null,
      "metadata": {
        "id": "bQS-luCHSsny",
        "outputId": "7bf42d9e-5c6c-4243-beda-2b55919db3ad"
      },
      "outputs": [
        {
          "name": "stdout",
          "output_type": "stream",
          "text": [
            "Customer minimum times of review: 52.0\n"
          ]
        }
      ],
      "source": [
        "#To create a list of all the inactive users(users who rate less often)\n",
        "dataset_cust_summary = dataset.groupby('Cust_Id')['Rating'].agg(f) #mean and count of customer id\n",
        "dataset_cust_summary.index = dataset_cust_summary.index.map(int) #integer format\n",
        "cust_benchmark = round(dataset_cust_summary['count'].quantile(0.7),0)\n",
        "drop_cust_list = dataset_cust_summary[dataset_cust_summary['count'] < cust_benchmark].index\n",
        "#                                           6                       <  5\n",
        "#drop_cust_list[3,4]\n",
        "print(f'Customer minimum times of review: {cust_benchmark}')\n",
        "\n"
      ]
    },
    {
      "cell_type": "code",
      "execution_count": null,
      "metadata": {
        "id": "q06K5cwMSsn0",
        "outputId": "caf33f2c-6f11-4492-8da2-cb804f89cca1"
      },
      "outputs": [
        {
          "name": "stdout",
          "output_type": "stream",
          "text": [
            "Original Shape: (24053764, 3)\n"
          ]
        }
      ],
      "source": [
        "print(f'Original Shape: {dataset.shape}')\n"
      ]
    },
    {
      "cell_type": "code",
      "execution_count": null,
      "metadata": {
        "id": "WOFARQ-7Ssn1",
        "outputId": "df7ad16f-1ed4-421c-e0d3-3ff77144f82b"
      },
      "outputs": [
        {
          "name": "stdout",
          "output_type": "stream",
          "text": [
            "After Trim Shape: (17337458, 3)\n"
          ]
        }
      ],
      "source": [
        "dataset = dataset[~dataset['Movie_Id'].isin(drop_movie_list)]\n",
        "#in dataset --->in all movie ids------>if the whic ever  movies we put under drop list are present or not---\n",
        "#if present drop /remove them\n",
        "dataset = dataset[~dataset['Cust_Id'].isin(drop_cust_list)]\n",
        "#removing all inactive users from our dataset\n",
        "print('After Trim Shape: {}'.format(dataset.shape))"
      ]
    },
    {
      "cell_type": "code",
      "execution_count": null,
      "metadata": {
        "id": "qYMNydpWSsn2",
        "outputId": "52d124b4-e8a0-4ceb-e15a-a6607cc04721"
      },
      "outputs": [
        {
          "name": "stdout",
          "output_type": "stream",
          "text": [
            "-Data Examples-\n"
          ]
        },
        {
          "data": {
            "text/html": [
              "<div>\n",
              "<style scoped>\n",
              "    .dataframe tbody tr th:only-of-type {\n",
              "        vertical-align: middle;\n",
              "    }\n",
              "\n",
              "    .dataframe tbody tr th {\n",
              "        vertical-align: top;\n",
              "    }\n",
              "\n",
              "    .dataframe thead th {\n",
              "        text-align: right;\n",
              "    }\n",
              "</style>\n",
              "<table border=\"1\" class=\"dataframe\">\n",
              "  <thead>\n",
              "    <tr style=\"text-align: right;\">\n",
              "      <th></th>\n",
              "      <th>Cust_Id</th>\n",
              "      <th>Rating</th>\n",
              "      <th>Movie_Id</th>\n",
              "    </tr>\n",
              "  </thead>\n",
              "  <tbody>\n",
              "    <tr>\n",
              "      <th>696</th>\n",
              "      <td>712664</td>\n",
              "      <td>5.0</td>\n",
              "      <td>3</td>\n",
              "    </tr>\n",
              "    <tr>\n",
              "      <th>697</th>\n",
              "      <td>1331154</td>\n",
              "      <td>4.0</td>\n",
              "      <td>3</td>\n",
              "    </tr>\n",
              "    <tr>\n",
              "      <th>698</th>\n",
              "      <td>2632461</td>\n",
              "      <td>3.0</td>\n",
              "      <td>3</td>\n",
              "    </tr>\n",
              "    <tr>\n",
              "      <th>699</th>\n",
              "      <td>44937</td>\n",
              "      <td>5.0</td>\n",
              "      <td>3</td>\n",
              "    </tr>\n",
              "    <tr>\n",
              "      <th>700</th>\n",
              "      <td>656399</td>\n",
              "      <td>4.0</td>\n",
              "      <td>3</td>\n",
              "    </tr>\n",
              "  </tbody>\n",
              "</table>\n",
              "</div>"
            ],
            "text/plain": [
              "     Cust_Id  Rating  Movie_Id\n",
              "696   712664     5.0         3\n",
              "697  1331154     4.0         3\n",
              "698  2632461     3.0         3\n",
              "699    44937     5.0         3\n",
              "700   656399     4.0         3"
            ]
          },
          "execution_count": 28,
          "metadata": {},
          "output_type": "execute_result"
        }
      ],
      "source": [
        "\n",
        "print('-Data Examples-')\n",
        "dataset.head()"
      ]
    },
    {
      "cell_type": "markdown",
      "metadata": {
        "id": "JhTParsKSsn3"
      },
      "source": [
        "# Create ratings matrix for 'ratings' matrix with Rows = userId, Columns = movieId"
      ]
    },
    {
      "cell_type": "code",
      "execution_count": null,
      "metadata": {
        "id": "leDFuxZLSsn3",
        "outputId": "081a41f7-5363-4e33-d9d8-13de223f90a6"
      },
      "outputs": [
        {
          "name": "stdout",
          "output_type": "stream",
          "text": [
            "(143458, 1350)\n"
          ]
        }
      ],
      "source": [
        "df_p = pd.pivot_table(dataset,values='Rating',index='Cust_Id',columns='Movie_Id')\n",
        "\n",
        "print(df_p.shape)"
      ]
    },
    {
      "cell_type": "code",
      "execution_count": null,
      "metadata": {
        "id": "Yyh79MfpSsn4",
        "outputId": "042e379b-4468-449a-e03d-0e75ce50eddc"
      },
      "outputs": [
        {
          "data": {
            "text/html": [
              "<div>\n",
              "<style scoped>\n",
              "    .dataframe tbody tr th:only-of-type {\n",
              "        vertical-align: middle;\n",
              "    }\n",
              "\n",
              "    .dataframe tbody tr th {\n",
              "        vertical-align: top;\n",
              "    }\n",
              "\n",
              "    .dataframe thead th {\n",
              "        text-align: right;\n",
              "    }\n",
              "</style>\n",
              "<table border=\"1\" class=\"dataframe\">\n",
              "  <thead>\n",
              "    <tr style=\"text-align: right;\">\n",
              "      <th>Movie_Id</th>\n",
              "      <th>3</th>\n",
              "      <th>8</th>\n",
              "      <th>16</th>\n",
              "      <th>17</th>\n",
              "      <th>18</th>\n",
              "      <th>26</th>\n",
              "      <th>28</th>\n",
              "      <th>30</th>\n",
              "      <th>32</th>\n",
              "      <th>33</th>\n",
              "      <th>...</th>\n",
              "      <th>4472</th>\n",
              "      <th>4474</th>\n",
              "      <th>4478</th>\n",
              "      <th>4479</th>\n",
              "      <th>4485</th>\n",
              "      <th>4488</th>\n",
              "      <th>4490</th>\n",
              "      <th>4492</th>\n",
              "      <th>4493</th>\n",
              "      <th>4496</th>\n",
              "    </tr>\n",
              "    <tr>\n",
              "      <th>Cust_Id</th>\n",
              "      <th></th>\n",
              "      <th></th>\n",
              "      <th></th>\n",
              "      <th></th>\n",
              "      <th></th>\n",
              "      <th></th>\n",
              "      <th></th>\n",
              "      <th></th>\n",
              "      <th></th>\n",
              "      <th></th>\n",
              "      <th></th>\n",
              "      <th></th>\n",
              "      <th></th>\n",
              "      <th></th>\n",
              "      <th></th>\n",
              "      <th></th>\n",
              "      <th></th>\n",
              "      <th></th>\n",
              "      <th></th>\n",
              "      <th></th>\n",
              "      <th></th>\n",
              "    </tr>\n",
              "  </thead>\n",
              "  <tbody>\n",
              "    <tr>\n",
              "      <th>6</th>\n",
              "      <td>NaN</td>\n",
              "      <td>NaN</td>\n",
              "      <td>NaN</td>\n",
              "      <td>NaN</td>\n",
              "      <td>NaN</td>\n",
              "      <td>NaN</td>\n",
              "      <td>NaN</td>\n",
              "      <td>3.0</td>\n",
              "      <td>NaN</td>\n",
              "      <td>NaN</td>\n",
              "      <td>...</td>\n",
              "      <td>3.0</td>\n",
              "      <td>NaN</td>\n",
              "      <td>NaN</td>\n",
              "      <td>NaN</td>\n",
              "      <td>NaN</td>\n",
              "      <td>NaN</td>\n",
              "      <td>NaN</td>\n",
              "      <td>NaN</td>\n",
              "      <td>NaN</td>\n",
              "      <td>NaN</td>\n",
              "    </tr>\n",
              "    <tr>\n",
              "      <th>7</th>\n",
              "      <td>NaN</td>\n",
              "      <td>5.0</td>\n",
              "      <td>NaN</td>\n",
              "      <td>NaN</td>\n",
              "      <td>NaN</td>\n",
              "      <td>NaN</td>\n",
              "      <td>4.0</td>\n",
              "      <td>5.0</td>\n",
              "      <td>NaN</td>\n",
              "      <td>NaN</td>\n",
              "      <td>...</td>\n",
              "      <td>3.0</td>\n",
              "      <td>NaN</td>\n",
              "      <td>NaN</td>\n",
              "      <td>5.0</td>\n",
              "      <td>NaN</td>\n",
              "      <td>NaN</td>\n",
              "      <td>NaN</td>\n",
              "      <td>NaN</td>\n",
              "      <td>NaN</td>\n",
              "      <td>NaN</td>\n",
              "    </tr>\n",
              "    <tr>\n",
              "      <th>79</th>\n",
              "      <td>NaN</td>\n",
              "      <td>NaN</td>\n",
              "      <td>NaN</td>\n",
              "      <td>NaN</td>\n",
              "      <td>NaN</td>\n",
              "      <td>NaN</td>\n",
              "      <td>NaN</td>\n",
              "      <td>3.0</td>\n",
              "      <td>NaN</td>\n",
              "      <td>NaN</td>\n",
              "      <td>...</td>\n",
              "      <td>4.0</td>\n",
              "      <td>NaN</td>\n",
              "      <td>NaN</td>\n",
              "      <td>NaN</td>\n",
              "      <td>NaN</td>\n",
              "      <td>NaN</td>\n",
              "      <td>4.0</td>\n",
              "      <td>NaN</td>\n",
              "      <td>NaN</td>\n",
              "      <td>NaN</td>\n",
              "    </tr>\n",
              "    <tr>\n",
              "      <th>97</th>\n",
              "      <td>NaN</td>\n",
              "      <td>NaN</td>\n",
              "      <td>NaN</td>\n",
              "      <td>NaN</td>\n",
              "      <td>NaN</td>\n",
              "      <td>NaN</td>\n",
              "      <td>NaN</td>\n",
              "      <td>NaN</td>\n",
              "      <td>NaN</td>\n",
              "      <td>NaN</td>\n",
              "      <td>...</td>\n",
              "      <td>NaN</td>\n",
              "      <td>NaN</td>\n",
              "      <td>NaN</td>\n",
              "      <td>NaN</td>\n",
              "      <td>NaN</td>\n",
              "      <td>NaN</td>\n",
              "      <td>NaN</td>\n",
              "      <td>NaN</td>\n",
              "      <td>NaN</td>\n",
              "      <td>NaN</td>\n",
              "    </tr>\n",
              "    <tr>\n",
              "      <th>134</th>\n",
              "      <td>NaN</td>\n",
              "      <td>NaN</td>\n",
              "      <td>NaN</td>\n",
              "      <td>NaN</td>\n",
              "      <td>NaN</td>\n",
              "      <td>NaN</td>\n",
              "      <td>5.0</td>\n",
              "      <td>NaN</td>\n",
              "      <td>NaN</td>\n",
              "      <td>NaN</td>\n",
              "      <td>...</td>\n",
              "      <td>NaN</td>\n",
              "      <td>NaN</td>\n",
              "      <td>NaN</td>\n",
              "      <td>NaN</td>\n",
              "      <td>NaN</td>\n",
              "      <td>NaN</td>\n",
              "      <td>NaN</td>\n",
              "      <td>NaN</td>\n",
              "      <td>NaN</td>\n",
              "      <td>NaN</td>\n",
              "    </tr>\n",
              "  </tbody>\n",
              "</table>\n",
              "<p>5 rows × 1350 columns</p>\n",
              "</div>"
            ],
            "text/plain": [
              "Movie_Id  3     8     16    17    18    26    28    30    32    33    ...  \\\n",
              "Cust_Id                                                               ...   \n",
              "6          NaN   NaN   NaN   NaN   NaN   NaN   NaN   3.0   NaN   NaN  ...   \n",
              "7          NaN   5.0   NaN   NaN   NaN   NaN   4.0   5.0   NaN   NaN  ...   \n",
              "79         NaN   NaN   NaN   NaN   NaN   NaN   NaN   3.0   NaN   NaN  ...   \n",
              "97         NaN   NaN   NaN   NaN   NaN   NaN   NaN   NaN   NaN   NaN  ...   \n",
              "134        NaN   NaN   NaN   NaN   NaN   NaN   5.0   NaN   NaN   NaN  ...   \n",
              "\n",
              "Movie_Id  4472  4474  4478  4479  4485  4488  4490  4492  4493  4496  \n",
              "Cust_Id                                                               \n",
              "6          3.0   NaN   NaN   NaN   NaN   NaN   NaN   NaN   NaN   NaN  \n",
              "7          3.0   NaN   NaN   5.0   NaN   NaN   NaN   NaN   NaN   NaN  \n",
              "79         4.0   NaN   NaN   NaN   NaN   NaN   4.0   NaN   NaN   NaN  \n",
              "97         NaN   NaN   NaN   NaN   NaN   NaN   NaN   NaN   NaN   NaN  \n",
              "134        NaN   NaN   NaN   NaN   NaN   NaN   NaN   NaN   NaN   NaN  \n",
              "\n",
              "[5 rows x 1350 columns]"
            ]
          },
          "execution_count": 30,
          "metadata": {},
          "output_type": "execute_result"
        }
      ],
      "source": [
        "df_p.head()"
      ]
    },
    {
      "cell_type": "markdown",
      "metadata": {
        "id": "aoCSIcQLSsn4"
      },
      "source": [
        "### To load the movie_titles dataset"
      ]
    },
    {
      "cell_type": "code",
      "execution_count": null,
      "metadata": {
        "id": "aSuNitffSsoQ",
        "outputId": "2546f52c-6f50-42d4-9bc5-7adb67c1901b"
      },
      "outputs": [
        {
          "name": "stdout",
          "output_type": "stream",
          "text": [
            "            Year                          Name\n",
            "Movie_Id                                      \n",
            "1         2003.0               Dinosaur Planet\n",
            "2         2004.0    Isle of Man TT 2004 Review\n",
            "3         1997.0                     Character\n",
            "4         1994.0  Paula Abdul's Get Up & Dance\n",
            "5         2004.0      The Rise and Fall of ECW\n",
            "6         1997.0                          Sick\n",
            "7         1992.0                         8 Man\n",
            "8         2004.0    What the #$*! Do We Know!?\n",
            "9         1991.0      Class of Nuke 'Em High 2\n",
            "10        2001.0                       Fighter\n"
          ]
        }
      ],
      "source": [
        "df_title = pd.read_csv('movie_titles.csv', encoding = \"ISO-8859-1\", header = None, names = ['Movie_Id', 'Year', 'Name'])\n",
        "\n",
        "df_title.set_index('Movie_Id', inplace = True)\n",
        "\n",
        "print (df_title.head(10))"
      ]
    },
    {
      "cell_type": "markdown",
      "metadata": {
        "id": "38Wkot0mSsoR"
      },
      "source": [
        "# To install the scikit-surprise library for implementing SVD"
      ]
    },
    {
      "cell_type": "markdown",
      "metadata": {
        "id": "ljlKVRDySsoR"
      },
      "source": [
        "### Run the following command in the Anaconda Prompt to install surprise package"
      ]
    },
    {
      "cell_type": "code",
      "execution_count": null,
      "metadata": {
        "id": "KOsbhJgJSsoR",
        "outputId": "243d45a9-37f0-4354-a66b-4c86a75786ed"
      },
      "outputs": [
        {
          "name": "stdout",
          "output_type": "stream",
          "text": [
            "Collecting package metadata (current_repodata.json): ...working... done\n",
            "Solving environment: ...working... done\n",
            "\n",
            "## Package Plan ##\n",
            "\n",
            "  environment location: C:\\Users\\Admin\\anaconda3\n",
            "\n",
            "  added / updated specs:\n",
            "    - scikit-surprise\n",
            "\n",
            "\n",
            "The following packages will be downloaded:\n",
            "\n",
            "    package                    |            build\n",
            "    ---------------------------|-----------------\n",
            "    conda-4.11.0               |   py38haa244fe_0        16.9 MB  conda-forge\n",
            "    ------------------------------------------------------------\n",
            "                                           Total:        16.9 MB\n",
            "\n",
            "The following packages will be UPDATED:\n",
            "\n",
            "  conda                               4.10.3-py38haa244fe_4 --> 4.11.0-py38haa244fe_0\n",
            "\n",
            "\n",
            "\n",
            "Downloading and Extracting Packages\n",
            "\n",
            "conda-4.11.0         | 16.9 MB   |            |   0% \n",
            "conda-4.11.0         | 16.9 MB   |            |   0% \n",
            "conda-4.11.0         | 16.9 MB   | 5          |   6% \n",
            "conda-4.11.0         | 16.9 MB   | #1         |  11% \n",
            "conda-4.11.0         | 16.9 MB   | #5         |  15% \n",
            "conda-4.11.0         | 16.9 MB   | #9         |  20% \n",
            "conda-4.11.0         | 16.9 MB   | ##3        |  23% \n",
            "conda-4.11.0         | 16.9 MB   | ##7        |  27% \n",
            "conda-4.11.0         | 16.9 MB   | ###1       |  31% \n",
            "conda-4.11.0         | 16.9 MB   | ###5       |  36% \n",
            "conda-4.11.0         | 16.9 MB   | ####       |  40% \n",
            "conda-4.11.0         | 16.9 MB   | ####4      |  44% \n",
            "conda-4.11.0         | 16.9 MB   | ####9      |  49% \n",
            "conda-4.11.0         | 16.9 MB   | #####4     |  54% \n",
            "conda-4.11.0         | 16.9 MB   | #####9     |  60% \n",
            "conda-4.11.0         | 16.9 MB   | ######4    |  64% \n",
            "conda-4.11.0         | 16.9 MB   | ######8    |  69% \n",
            "conda-4.11.0         | 16.9 MB   | #######3   |  73% \n",
            "conda-4.11.0         | 16.9 MB   | #######7   |  78% \n",
            "conda-4.11.0         | 16.9 MB   | ########3  |  84% \n",
            "conda-4.11.0         | 16.9 MB   | ########8  |  88% \n",
            "conda-4.11.0         | 16.9 MB   | #########2 |  92% \n",
            "conda-4.11.0         | 16.9 MB   | #########6 |  97% \n",
            "Note: you may need to restart the kernel to use updated packages.\n",
            "\n",
            "conda-4.11.0         | 16.9 MB   | ########## | 100% \n",
            "Preparing transaction: ...working... done\n",
            "Verifying transaction: ...working... done\n",
            "Executing transaction: ...working... done\n"
          ]
        }
      ],
      "source": [
        "conda install -c conda-forge scikit-surprise"
      ]
    },
    {
      "cell_type": "code",
      "execution_count": null,
      "metadata": {
        "id": "eFy27QKXSsoS"
      },
      "outputs": [],
      "source": [
        "# Import required libraries\n",
        "import math\n",
        "\n",
        "import matplotlib.pyplot as plt\n",
        "\n",
        "from surprise import Reader, Dataset, SVD\n",
        "from surprise.model_selection import cross_validate"
      ]
    },
    {
      "cell_type": "code",
      "execution_count": null,
      "metadata": {
        "id": "sMgi-vk7SsoS",
        "outputId": "1e0064d1-da9a-42d1-a3ae-e371aac5cbb5"
      },
      "outputs": [
        {
          "name": "stdout",
          "output_type": "stream",
          "text": [
            "Evaluating RMSE, MAE of algorithm SVD on 3 split(s).\n",
            "\n",
            "                  Fold 1  Fold 2  Fold 3  Mean    Std     \n",
            "RMSE (testset)    1.0037  0.9920  0.9975  0.9977  0.0048  \n",
            "MAE (testset)     0.8083  0.7966  0.8039  0.8029  0.0048  \n",
            "Fit time          3.79    3.64    3.71    3.72    0.06    \n",
            "Test time         0.17    0.25    0.17    0.20    0.04    \n"
          ]
        },
        {
          "data": {
            "text/plain": [
              "{'test_rmse': array([1.0036749 , 0.99200842, 0.99751972]),\n",
              " 'test_mae': array([0.80832566, 0.79661763, 0.80385189]),\n",
              " 'fit_time': (3.7909035682678223, 3.641662836074829, 3.714344024658203),\n",
              " 'test_time': (0.1735367774963379, 0.24933338165283203, 0.17453360557556152)}"
            ]
          },
          "execution_count": 34,
          "metadata": {},
          "output_type": "execute_result"
        }
      ],
      "source": [
        "# Load Reader library\n",
        "reader = Reader()\n",
        "\n",
        "# get just top 100K rows for faster run time\n",
        "data = Dataset.load_from_df(dataset[['Cust_Id', 'Movie_Id', 'Rating']][:100000], reader)\n",
        "\n",
        "# Use the SVD algorithm.\n",
        "svd = SVD()\n",
        "\n",
        "# Compute the RMSE of the SVD algorithm\n",
        "cross_validate(svd, data, measures=['RMSE', 'MAE'], cv=3, verbose=True)"
      ]
    },
    {
      "cell_type": "code",
      "execution_count": null,
      "metadata": {
        "id": "bQZ9l6j_SsoS",
        "outputId": "7dbade34-fc53-4d1c-fcef-baae02c4dc94"
      },
      "outputs": [
        {
          "data": {
            "text/html": [
              "<div>\n",
              "<style scoped>\n",
              "    .dataframe tbody tr th:only-of-type {\n",
              "        vertical-align: middle;\n",
              "    }\n",
              "\n",
              "    .dataframe tbody tr th {\n",
              "        vertical-align: top;\n",
              "    }\n",
              "\n",
              "    .dataframe thead th {\n",
              "        text-align: right;\n",
              "    }\n",
              "</style>\n",
              "<table border=\"1\" class=\"dataframe\">\n",
              "  <thead>\n",
              "    <tr style=\"text-align: right;\">\n",
              "      <th></th>\n",
              "      <th>Cust_Id</th>\n",
              "      <th>Rating</th>\n",
              "      <th>Movie_Id</th>\n",
              "    </tr>\n",
              "  </thead>\n",
              "  <tbody>\n",
              "    <tr>\n",
              "      <th>696</th>\n",
              "      <td>712664</td>\n",
              "      <td>5.0</td>\n",
              "      <td>3</td>\n",
              "    </tr>\n",
              "    <tr>\n",
              "      <th>697</th>\n",
              "      <td>1331154</td>\n",
              "      <td>4.0</td>\n",
              "      <td>3</td>\n",
              "    </tr>\n",
              "    <tr>\n",
              "      <th>698</th>\n",
              "      <td>2632461</td>\n",
              "      <td>3.0</td>\n",
              "      <td>3</td>\n",
              "    </tr>\n",
              "    <tr>\n",
              "      <th>699</th>\n",
              "      <td>44937</td>\n",
              "      <td>5.0</td>\n",
              "      <td>3</td>\n",
              "    </tr>\n",
              "    <tr>\n",
              "      <th>700</th>\n",
              "      <td>656399</td>\n",
              "      <td>4.0</td>\n",
              "      <td>3</td>\n",
              "    </tr>\n",
              "  </tbody>\n",
              "</table>\n",
              "</div>"
            ],
            "text/plain": [
              "     Cust_Id  Rating  Movie_Id\n",
              "696   712664     5.0         3\n",
              "697  1331154     4.0         3\n",
              "698  2632461     3.0         3\n",
              "699    44937     5.0         3\n",
              "700   656399     4.0         3"
            ]
          },
          "execution_count": 35,
          "metadata": {},
          "output_type": "execute_result"
        }
      ],
      "source": [
        "dataset.head()"
      ]
    },
    {
      "cell_type": "markdown",
      "metadata": {
        "id": "hHdPNusYSsoT"
      },
      "source": [
        "## To find all the movies rated as 5 stars by user with userId = 712664"
      ]
    },
    {
      "cell_type": "code",
      "execution_count": null,
      "metadata": {
        "id": "xYtyPHJdSsoT",
        "outputId": "6b58c7cb-31ed-4466-e541-b3d55f885da1"
      },
      "outputs": [
        {
          "data": {
            "text/plain": [
              "Movie_Id\n",
              "3                              Character\n",
              "79                           The Killing\n",
              "175                       Reservoir Dogs\n",
              "199                      The Deer Hunter\n",
              "241                   North by Northwest\n",
              "256    Ghost Dog: The Way of the Samurai\n",
              "348        The Last Temptation of Christ\n",
              "357                House of Sand and Fog\n",
              "416                             Elephant\n",
              "442                  Mississippi Burning\n",
              "Name: Name, dtype: object"
            ]
          },
          "execution_count": 36,
          "metadata": {},
          "output_type": "execute_result"
        }
      ],
      "source": [
        "dataset_712664 = dataset[(dataset['Cust_Id'] == 712664) & (dataset['Rating'] == 5)]\n",
        "dataset_712664 = dataset_712664.set_index('Movie_Id')\n",
        "dataset_712664 = dataset_712664.join(df_title)['Name']\n",
        "dataset_712664.head(10)"
      ]
    },
    {
      "cell_type": "markdown",
      "metadata": {
        "id": "Z355CU3bSsoU"
      },
      "source": [
        "# Train an SVD to predict ratings for user with userId = 1"
      ]
    },
    {
      "cell_type": "code",
      "execution_count": null,
      "metadata": {
        "id": "FZVtuSK2SsoU",
        "outputId": "0fd4dc04-12ae-41a3-accc-2ffe8adfb405"
      },
      "outputs": [
        {
          "name": "stdout",
          "output_type": "stream",
          "text": [
            "        Year                                            Name  Estimate_Score\n",
            "4352  2002.0                  Curb Your Enthusiasm: Season 3        5.000000\n",
            "2018  2004.0                                Samurai Champloo        5.000000\n",
            "721   2003.0                              The Wire: Season 1        5.000000\n",
            "241   1995.0  Neon Genesis Evangelion: The End of Evangelion        5.000000\n",
            "871   1954.0                                   Seven Samurai        5.000000\n",
            "174   1992.0                                  Reservoir Dogs        5.000000\n",
            "2101  1994.0                          The Simpsons: Season 6        4.994354\n",
            "4114  1999.0                         The Simpsons: Bart Wars        4.972430\n",
            "2429  1979.0                      Alien: Collector's Edition        4.970744\n",
            "404   1987.0                                 Wings of Desire        4.952919\n"
          ]
        }
      ],
      "source": [
        "# Create a shallow copy for the movies dataset\n",
        "user_712664 = df_title.copy()\n",
        "\n",
        "user_712664 = user_712664.reset_index()\n",
        "\n",
        "#To remove all the movies rated less often\n",
        "user_712664 = user_712664[~user_712664['Movie_Id'].isin(drop_movie_list)]\n",
        "\n",
        "\n",
        "# getting full dataset\n",
        "data = Dataset.load_from_df(dataset[['Cust_Id', 'Movie_Id', 'Rating']], reader)\n",
        "\n",
        "#create a training set for svd\n",
        "trainset = data.build_full_trainset()\n",
        "svd.fit(trainset)\n",
        "\n",
        "#Predict the ratings for user_712664\n",
        "user_712664['Estimate_Score'] = user_712664['Movie_Id'].apply(lambda x: svd.predict(712664, x).est)\n",
        "\n",
        "#Drop extra columns from the user_712664 data frame\n",
        "user_712664 = user_712664.drop('Movie_Id', axis = 1)\n",
        "\n",
        "# Sort predicted ratings for user_712664 in descending order\n",
        "user_712664 = user_712664.sort_values('Estimate_Score', ascending=False)\n",
        "\n",
        "#Print top 10 recommendations\n",
        "print(user_712664.head(10))"
      ]
    },
    {
      "cell_type": "code",
      "execution_count": null,
      "metadata": {
        "id": "l89I57VfSsoW"
      },
      "outputs": [],
      "source": []
    }
  ],
  "metadata": {
    "kernelspec": {
      "display_name": "Python 3",
      "language": "python",
      "name": "python3"
    },
    "language_info": {
      "codemirror_mode": {
        "name": "ipython",
        "version": 3
      },
      "file_extension": ".py",
      "mimetype": "text/x-python",
      "name": "python",
      "nbconvert_exporter": "python",
      "pygments_lexer": "ipython3",
      "version": "3.8.8"
    },
    "colab": {
      "provenance": [],
      "include_colab_link": true
    }
  },
  "nbformat": 4,
  "nbformat_minor": 0
}