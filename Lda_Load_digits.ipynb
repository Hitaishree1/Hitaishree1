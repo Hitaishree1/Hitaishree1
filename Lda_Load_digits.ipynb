{
  "nbformat": 4,
  "nbformat_minor": 0,
  "metadata": {
    "colab": {
      "provenance": [],
      "include_colab_link": true
    },
    "kernelspec": {
      "name": "python3",
      "display_name": "Python 3"
    },
    "language_info": {
      "name": "python"
    }
  },
  "cells": [
    {
      "cell_type": "markdown",
      "metadata": {
        "id": "view-in-github",
        "colab_type": "text"
      },
      "source": [
        "<a href=\"https://colab.research.google.com/github/Hitaishree1/Hitaishree1/blob/main/Lda_Load_digits.ipynb\" target=\"_parent\"><img src=\"https://colab.research.google.com/assets/colab-badge.svg\" alt=\"Open In Colab\"/></a>"
      ]
    },
    {
      "cell_type": "code",
      "execution_count": null,
      "metadata": {
        "colab": {
          "base_uri": "https://localhost:8080/"
        },
        "id": "99OS9YA5AIwF",
        "outputId": "7068169b-0dd0-4163-e6ce-277b8bbcc87a"
      },
      "outputs": [
        {
          "output_type": "execute_result",
          "data": {
            "text/plain": [
              "{'data': array([[ 0.,  0.,  5., ...,  0.,  0.,  0.],\n",
              "        [ 0.,  0.,  0., ..., 10.,  0.,  0.],\n",
              "        [ 0.,  0.,  0., ..., 16.,  9.,  0.],\n",
              "        ...,\n",
              "        [ 0.,  0.,  1., ...,  6.,  0.,  0.],\n",
              "        [ 0.,  0.,  2., ..., 12.,  0.,  0.],\n",
              "        [ 0.,  0., 10., ..., 12.,  1.,  0.]]),\n",
              " 'target': array([0, 1, 2, ..., 8, 9, 8]),\n",
              " 'frame': None,\n",
              " 'feature_names': ['pixel_0_0',\n",
              "  'pixel_0_1',\n",
              "  'pixel_0_2',\n",
              "  'pixel_0_3',\n",
              "  'pixel_0_4',\n",
              "  'pixel_0_5',\n",
              "  'pixel_0_6',\n",
              "  'pixel_0_7',\n",
              "  'pixel_1_0',\n",
              "  'pixel_1_1',\n",
              "  'pixel_1_2',\n",
              "  'pixel_1_3',\n",
              "  'pixel_1_4',\n",
              "  'pixel_1_5',\n",
              "  'pixel_1_6',\n",
              "  'pixel_1_7',\n",
              "  'pixel_2_0',\n",
              "  'pixel_2_1',\n",
              "  'pixel_2_2',\n",
              "  'pixel_2_3',\n",
              "  'pixel_2_4',\n",
              "  'pixel_2_5',\n",
              "  'pixel_2_6',\n",
              "  'pixel_2_7',\n",
              "  'pixel_3_0',\n",
              "  'pixel_3_1',\n",
              "  'pixel_3_2',\n",
              "  'pixel_3_3',\n",
              "  'pixel_3_4',\n",
              "  'pixel_3_5',\n",
              "  'pixel_3_6',\n",
              "  'pixel_3_7',\n",
              "  'pixel_4_0',\n",
              "  'pixel_4_1',\n",
              "  'pixel_4_2',\n",
              "  'pixel_4_3',\n",
              "  'pixel_4_4',\n",
              "  'pixel_4_5',\n",
              "  'pixel_4_6',\n",
              "  'pixel_4_7',\n",
              "  'pixel_5_0',\n",
              "  'pixel_5_1',\n",
              "  'pixel_5_2',\n",
              "  'pixel_5_3',\n",
              "  'pixel_5_4',\n",
              "  'pixel_5_5',\n",
              "  'pixel_5_6',\n",
              "  'pixel_5_7',\n",
              "  'pixel_6_0',\n",
              "  'pixel_6_1',\n",
              "  'pixel_6_2',\n",
              "  'pixel_6_3',\n",
              "  'pixel_6_4',\n",
              "  'pixel_6_5',\n",
              "  'pixel_6_6',\n",
              "  'pixel_6_7',\n",
              "  'pixel_7_0',\n",
              "  'pixel_7_1',\n",
              "  'pixel_7_2',\n",
              "  'pixel_7_3',\n",
              "  'pixel_7_4',\n",
              "  'pixel_7_5',\n",
              "  'pixel_7_6',\n",
              "  'pixel_7_7'],\n",
              " 'target_names': array([0, 1, 2, 3, 4, 5, 6, 7, 8, 9]),\n",
              " 'images': array([[[ 0.,  0.,  5., ...,  1.,  0.,  0.],\n",
              "         [ 0.,  0., 13., ..., 15.,  5.,  0.],\n",
              "         [ 0.,  3., 15., ..., 11.,  8.,  0.],\n",
              "         ...,\n",
              "         [ 0.,  4., 11., ..., 12.,  7.,  0.],\n",
              "         [ 0.,  2., 14., ..., 12.,  0.,  0.],\n",
              "         [ 0.,  0.,  6., ...,  0.,  0.,  0.]],\n",
              " \n",
              "        [[ 0.,  0.,  0., ...,  5.,  0.,  0.],\n",
              "         [ 0.,  0.,  0., ...,  9.,  0.,  0.],\n",
              "         [ 0.,  0.,  3., ...,  6.,  0.,  0.],\n",
              "         ...,\n",
              "         [ 0.,  0.,  1., ...,  6.,  0.,  0.],\n",
              "         [ 0.,  0.,  1., ...,  6.,  0.,  0.],\n",
              "         [ 0.,  0.,  0., ..., 10.,  0.,  0.]],\n",
              " \n",
              "        [[ 0.,  0.,  0., ..., 12.,  0.,  0.],\n",
              "         [ 0.,  0.,  3., ..., 14.,  0.,  0.],\n",
              "         [ 0.,  0.,  8., ..., 16.,  0.,  0.],\n",
              "         ...,\n",
              "         [ 0.,  9., 16., ...,  0.,  0.,  0.],\n",
              "         [ 0.,  3., 13., ..., 11.,  5.,  0.],\n",
              "         [ 0.,  0.,  0., ..., 16.,  9.,  0.]],\n",
              " \n",
              "        ...,\n",
              " \n",
              "        [[ 0.,  0.,  1., ...,  1.,  0.,  0.],\n",
              "         [ 0.,  0., 13., ...,  2.,  1.,  0.],\n",
              "         [ 0.,  0., 16., ..., 16.,  5.,  0.],\n",
              "         ...,\n",
              "         [ 0.,  0., 16., ..., 15.,  0.,  0.],\n",
              "         [ 0.,  0., 15., ..., 16.,  0.,  0.],\n",
              "         [ 0.,  0.,  2., ...,  6.,  0.,  0.]],\n",
              " \n",
              "        [[ 0.,  0.,  2., ...,  0.,  0.,  0.],\n",
              "         [ 0.,  0., 14., ..., 15.,  1.,  0.],\n",
              "         [ 0.,  4., 16., ..., 16.,  7.,  0.],\n",
              "         ...,\n",
              "         [ 0.,  0.,  0., ..., 16.,  2.,  0.],\n",
              "         [ 0.,  0.,  4., ..., 16.,  2.,  0.],\n",
              "         [ 0.,  0.,  5., ..., 12.,  0.,  0.]],\n",
              " \n",
              "        [[ 0.,  0., 10., ...,  1.,  0.,  0.],\n",
              "         [ 0.,  2., 16., ...,  1.,  0.,  0.],\n",
              "         [ 0.,  0., 15., ..., 15.,  0.,  0.],\n",
              "         ...,\n",
              "         [ 0.,  4., 16., ..., 16.,  6.,  0.],\n",
              "         [ 0.,  8., 16., ..., 16.,  8.,  0.],\n",
              "         [ 0.,  1.,  8., ..., 12.,  1.,  0.]]]),\n",
              " 'DESCR': \".. _digits_dataset:\\n\\nOptical recognition of handwritten digits dataset\\n--------------------------------------------------\\n\\n**Data Set Characteristics:**\\n\\n    :Number of Instances: 1797\\n    :Number of Attributes: 64\\n    :Attribute Information: 8x8 image of integer pixels in the range 0..16.\\n    :Missing Attribute Values: None\\n    :Creator: E. Alpaydin (alpaydin '@' boun.edu.tr)\\n    :Date: July; 1998\\n\\nThis is a copy of the test set of the UCI ML hand-written digits datasets\\nhttps://archive.ics.uci.edu/ml/datasets/Optical+Recognition+of+Handwritten+Digits\\n\\nThe data set contains images of hand-written digits: 10 classes where\\neach class refers to a digit.\\n\\nPreprocessing programs made available by NIST were used to extract\\nnormalized bitmaps of handwritten digits from a preprinted form. From a\\ntotal of 43 people, 30 contributed to the training set and different 13\\nto the test set. 32x32 bitmaps are divided into nonoverlapping blocks of\\n4x4 and the number of on pixels are counted in each block. This generates\\nan input matrix of 8x8 where each element is an integer in the range\\n0..16. This reduces dimensionality and gives invariance to small\\ndistortions.\\n\\nFor info on NIST preprocessing routines, see M. D. Garris, J. L. Blue, G.\\nT. Candela, D. L. Dimmick, J. Geist, P. J. Grother, S. A. Janet, and C.\\nL. Wilson, NIST Form-Based Handprint Recognition System, NISTIR 5469,\\n1994.\\n\\n.. topic:: References\\n\\n  - C. Kaynak (1995) Methods of Combining Multiple Classifiers and Their\\n    Applications to Handwritten Digit Recognition, MSc Thesis, Institute of\\n    Graduate Studies in Science and Engineering, Bogazici University.\\n  - E. Alpaydin, C. Kaynak (1998) Cascading Classifiers, Kybernetika.\\n  - Ken Tang and Ponnuthurai N. Suganthan and Xi Yao and A. Kai Qin.\\n    Linear dimensionalityreduction using relevance weighted LDA. School of\\n    Electrical and Electronic Engineering Nanyang Technological University.\\n    2005.\\n  - Claudio Gentile. A New Approximate Maximal Margin Classification\\n    Algorithm. NIPS. 2000.\\n\"}"
            ]
          },
          "metadata": {},
          "execution_count": 4
        }
      ],
      "source": [
        "from sklearn import datasets\n",
        "from sklearn.datasets import load_digits\n",
        "\n",
        "digits = load_digits()\n",
        "digits"
      ]
    },
    {
      "cell_type": "code",
      "source": [
        "digits.keys()"
      ],
      "metadata": {
        "colab": {
          "base_uri": "https://localhost:8080/"
        },
        "id": "SZ_l_sN6BzFj",
        "outputId": "f7c1193f-e26d-46fe-83dc-473b5e4c6a66"
      },
      "execution_count": null,
      "outputs": [
        {
          "output_type": "execute_result",
          "data": {
            "text/plain": [
              "dict_keys(['data', 'target', 'frame', 'feature_names', 'target_names', 'images', 'DESCR'])"
            ]
          },
          "metadata": {},
          "execution_count": 5
        }
      ]
    },
    {
      "cell_type": "code",
      "source": [
        "\n",
        "digits = datasets.load_digits()\n",
        "digits"
      ],
      "metadata": {
        "colab": {
          "base_uri": "https://localhost:8080/"
        },
        "id": "s7TW2MoxwyFa",
        "outputId": "b7d7e3af-dd4b-4d72-c679-ead8e2debe3b"
      },
      "execution_count": null,
      "outputs": [
        {
          "output_type": "execute_result",
          "data": {
            "text/plain": [
              "{'data': array([[ 0.,  0.,  5., ...,  0.,  0.,  0.],\n",
              "        [ 0.,  0.,  0., ..., 10.,  0.,  0.],\n",
              "        [ 0.,  0.,  0., ..., 16.,  9.,  0.],\n",
              "        ...,\n",
              "        [ 0.,  0.,  1., ...,  6.,  0.,  0.],\n",
              "        [ 0.,  0.,  2., ..., 12.,  0.,  0.],\n",
              "        [ 0.,  0., 10., ..., 12.,  1.,  0.]]),\n",
              " 'target': array([0, 1, 2, ..., 8, 9, 8]),\n",
              " 'frame': None,\n",
              " 'feature_names': ['pixel_0_0',\n",
              "  'pixel_0_1',\n",
              "  'pixel_0_2',\n",
              "  'pixel_0_3',\n",
              "  'pixel_0_4',\n",
              "  'pixel_0_5',\n",
              "  'pixel_0_6',\n",
              "  'pixel_0_7',\n",
              "  'pixel_1_0',\n",
              "  'pixel_1_1',\n",
              "  'pixel_1_2',\n",
              "  'pixel_1_3',\n",
              "  'pixel_1_4',\n",
              "  'pixel_1_5',\n",
              "  'pixel_1_6',\n",
              "  'pixel_1_7',\n",
              "  'pixel_2_0',\n",
              "  'pixel_2_1',\n",
              "  'pixel_2_2',\n",
              "  'pixel_2_3',\n",
              "  'pixel_2_4',\n",
              "  'pixel_2_5',\n",
              "  'pixel_2_6',\n",
              "  'pixel_2_7',\n",
              "  'pixel_3_0',\n",
              "  'pixel_3_1',\n",
              "  'pixel_3_2',\n",
              "  'pixel_3_3',\n",
              "  'pixel_3_4',\n",
              "  'pixel_3_5',\n",
              "  'pixel_3_6',\n",
              "  'pixel_3_7',\n",
              "  'pixel_4_0',\n",
              "  'pixel_4_1',\n",
              "  'pixel_4_2',\n",
              "  'pixel_4_3',\n",
              "  'pixel_4_4',\n",
              "  'pixel_4_5',\n",
              "  'pixel_4_6',\n",
              "  'pixel_4_7',\n",
              "  'pixel_5_0',\n",
              "  'pixel_5_1',\n",
              "  'pixel_5_2',\n",
              "  'pixel_5_3',\n",
              "  'pixel_5_4',\n",
              "  'pixel_5_5',\n",
              "  'pixel_5_6',\n",
              "  'pixel_5_7',\n",
              "  'pixel_6_0',\n",
              "  'pixel_6_1',\n",
              "  'pixel_6_2',\n",
              "  'pixel_6_3',\n",
              "  'pixel_6_4',\n",
              "  'pixel_6_5',\n",
              "  'pixel_6_6',\n",
              "  'pixel_6_7',\n",
              "  'pixel_7_0',\n",
              "  'pixel_7_1',\n",
              "  'pixel_7_2',\n",
              "  'pixel_7_3',\n",
              "  'pixel_7_4',\n",
              "  'pixel_7_5',\n",
              "  'pixel_7_6',\n",
              "  'pixel_7_7'],\n",
              " 'target_names': array([0, 1, 2, 3, 4, 5, 6, 7, 8, 9]),\n",
              " 'images': array([[[ 0.,  0.,  5., ...,  1.,  0.,  0.],\n",
              "         [ 0.,  0., 13., ..., 15.,  5.,  0.],\n",
              "         [ 0.,  3., 15., ..., 11.,  8.,  0.],\n",
              "         ...,\n",
              "         [ 0.,  4., 11., ..., 12.,  7.,  0.],\n",
              "         [ 0.,  2., 14., ..., 12.,  0.,  0.],\n",
              "         [ 0.,  0.,  6., ...,  0.,  0.,  0.]],\n",
              " \n",
              "        [[ 0.,  0.,  0., ...,  5.,  0.,  0.],\n",
              "         [ 0.,  0.,  0., ...,  9.,  0.,  0.],\n",
              "         [ 0.,  0.,  3., ...,  6.,  0.,  0.],\n",
              "         ...,\n",
              "         [ 0.,  0.,  1., ...,  6.,  0.,  0.],\n",
              "         [ 0.,  0.,  1., ...,  6.,  0.,  0.],\n",
              "         [ 0.,  0.,  0., ..., 10.,  0.,  0.]],\n",
              " \n",
              "        [[ 0.,  0.,  0., ..., 12.,  0.,  0.],\n",
              "         [ 0.,  0.,  3., ..., 14.,  0.,  0.],\n",
              "         [ 0.,  0.,  8., ..., 16.,  0.,  0.],\n",
              "         ...,\n",
              "         [ 0.,  9., 16., ...,  0.,  0.,  0.],\n",
              "         [ 0.,  3., 13., ..., 11.,  5.,  0.],\n",
              "         [ 0.,  0.,  0., ..., 16.,  9.,  0.]],\n",
              " \n",
              "        ...,\n",
              " \n",
              "        [[ 0.,  0.,  1., ...,  1.,  0.,  0.],\n",
              "         [ 0.,  0., 13., ...,  2.,  1.,  0.],\n",
              "         [ 0.,  0., 16., ..., 16.,  5.,  0.],\n",
              "         ...,\n",
              "         [ 0.,  0., 16., ..., 15.,  0.,  0.],\n",
              "         [ 0.,  0., 15., ..., 16.,  0.,  0.],\n",
              "         [ 0.,  0.,  2., ...,  6.,  0.,  0.]],\n",
              " \n",
              "        [[ 0.,  0.,  2., ...,  0.,  0.,  0.],\n",
              "         [ 0.,  0., 14., ..., 15.,  1.,  0.],\n",
              "         [ 0.,  4., 16., ..., 16.,  7.,  0.],\n",
              "         ...,\n",
              "         [ 0.,  0.,  0., ..., 16.,  2.,  0.],\n",
              "         [ 0.,  0.,  4., ..., 16.,  2.,  0.],\n",
              "         [ 0.,  0.,  5., ..., 12.,  0.,  0.]],\n",
              " \n",
              "        [[ 0.,  0., 10., ...,  1.,  0.,  0.],\n",
              "         [ 0.,  2., 16., ...,  1.,  0.,  0.],\n",
              "         [ 0.,  0., 15., ..., 15.,  0.,  0.],\n",
              "         ...,\n",
              "         [ 0.,  4., 16., ..., 16.,  6.,  0.],\n",
              "         [ 0.,  8., 16., ..., 16.,  8.,  0.],\n",
              "         [ 0.,  1.,  8., ..., 12.,  1.,  0.]]]),\n",
              " 'DESCR': \".. _digits_dataset:\\n\\nOptical recognition of handwritten digits dataset\\n--------------------------------------------------\\n\\n**Data Set Characteristics:**\\n\\n    :Number of Instances: 1797\\n    :Number of Attributes: 64\\n    :Attribute Information: 8x8 image of integer pixels in the range 0..16.\\n    :Missing Attribute Values: None\\n    :Creator: E. Alpaydin (alpaydin '@' boun.edu.tr)\\n    :Date: July; 1998\\n\\nThis is a copy of the test set of the UCI ML hand-written digits datasets\\nhttps://archive.ics.uci.edu/ml/datasets/Optical+Recognition+of+Handwritten+Digits\\n\\nThe data set contains images of hand-written digits: 10 classes where\\neach class refers to a digit.\\n\\nPreprocessing programs made available by NIST were used to extract\\nnormalized bitmaps of handwritten digits from a preprinted form. From a\\ntotal of 43 people, 30 contributed to the training set and different 13\\nto the test set. 32x32 bitmaps are divided into nonoverlapping blocks of\\n4x4 and the number of on pixels are counted in each block. This generates\\nan input matrix of 8x8 where each element is an integer in the range\\n0..16. This reduces dimensionality and gives invariance to small\\ndistortions.\\n\\nFor info on NIST preprocessing routines, see M. D. Garris, J. L. Blue, G.\\nT. Candela, D. L. Dimmick, J. Geist, P. J. Grother, S. A. Janet, and C.\\nL. Wilson, NIST Form-Based Handprint Recognition System, NISTIR 5469,\\n1994.\\n\\n.. topic:: References\\n\\n  - C. Kaynak (1995) Methods of Combining Multiple Classifiers and Their\\n    Applications to Handwritten Digit Recognition, MSc Thesis, Institute of\\n    Graduate Studies in Science and Engineering, Bogazici University.\\n  - E. Alpaydin, C. Kaynak (1998) Cascading Classifiers, Kybernetika.\\n  - Ken Tang and Ponnuthurai N. Suganthan and Xi Yao and A. Kai Qin.\\n    Linear dimensionalityreduction using relevance weighted LDA. School of\\n    Electrical and Electronic Engineering Nanyang Technological University.\\n    2005.\\n  - Claudio Gentile. A New Approximate Maximal Margin Classification\\n    Algorithm. NIPS. 2000.\\n\"}"
            ]
          },
          "metadata": {},
          "execution_count": 6
        }
      ]
    },
    {
      "cell_type": "code",
      "source": [
        "import pandas as pd\n",
        "df = pd.DataFrame(digits.data, columns = digits.feature_names)\n",
        "df.head()"
      ],
      "metadata": {
        "colab": {
          "base_uri": "https://localhost:8080/",
          "height": 255
        },
        "id": "OfsIHEoUCPJH",
        "outputId": "53e7cf3f-7c93-46ef-a689-2f38220101cf"
      },
      "execution_count": null,
      "outputs": [
        {
          "output_type": "execute_result",
          "data": {
            "text/plain": [
              "   pixel_0_0  pixel_0_1  pixel_0_2  pixel_0_3  pixel_0_4  pixel_0_5  \\\n",
              "0        0.0        0.0        5.0       13.0        9.0        1.0   \n",
              "1        0.0        0.0        0.0       12.0       13.0        5.0   \n",
              "2        0.0        0.0        0.0        4.0       15.0       12.0   \n",
              "3        0.0        0.0        7.0       15.0       13.0        1.0   \n",
              "4        0.0        0.0        0.0        1.0       11.0        0.0   \n",
              "\n",
              "   pixel_0_6  pixel_0_7  pixel_1_0  pixel_1_1  ...  pixel_6_6  pixel_6_7  \\\n",
              "0        0.0        0.0        0.0        0.0  ...        0.0        0.0   \n",
              "1        0.0        0.0        0.0        0.0  ...        0.0        0.0   \n",
              "2        0.0        0.0        0.0        0.0  ...        5.0        0.0   \n",
              "3        0.0        0.0        0.0        8.0  ...        9.0        0.0   \n",
              "4        0.0        0.0        0.0        0.0  ...        0.0        0.0   \n",
              "\n",
              "   pixel_7_0  pixel_7_1  pixel_7_2  pixel_7_3  pixel_7_4  pixel_7_5  \\\n",
              "0        0.0        0.0        6.0       13.0       10.0        0.0   \n",
              "1        0.0        0.0        0.0       11.0       16.0       10.0   \n",
              "2        0.0        0.0        0.0        3.0       11.0       16.0   \n",
              "3        0.0        0.0        7.0       13.0       13.0        9.0   \n",
              "4        0.0        0.0        0.0        2.0       16.0        4.0   \n",
              "\n",
              "   pixel_7_6  pixel_7_7  \n",
              "0        0.0        0.0  \n",
              "1        0.0        0.0  \n",
              "2        9.0        0.0  \n",
              "3        0.0        0.0  \n",
              "4        0.0        0.0  \n",
              "\n",
              "[5 rows x 64 columns]"
            ],
            "text/html": [
              "\n",
              "  <div id=\"df-fd0e0a2d-445e-4c2e-8aa8-8933cf495ffe\" class=\"colab-df-container\">\n",
              "    <div>\n",
              "<style scoped>\n",
              "    .dataframe tbody tr th:only-of-type {\n",
              "        vertical-align: middle;\n",
              "    }\n",
              "\n",
              "    .dataframe tbody tr th {\n",
              "        vertical-align: top;\n",
              "    }\n",
              "\n",
              "    .dataframe thead th {\n",
              "        text-align: right;\n",
              "    }\n",
              "</style>\n",
              "<table border=\"1\" class=\"dataframe\">\n",
              "  <thead>\n",
              "    <tr style=\"text-align: right;\">\n",
              "      <th></th>\n",
              "      <th>pixel_0_0</th>\n",
              "      <th>pixel_0_1</th>\n",
              "      <th>pixel_0_2</th>\n",
              "      <th>pixel_0_3</th>\n",
              "      <th>pixel_0_4</th>\n",
              "      <th>pixel_0_5</th>\n",
              "      <th>pixel_0_6</th>\n",
              "      <th>pixel_0_7</th>\n",
              "      <th>pixel_1_0</th>\n",
              "      <th>pixel_1_1</th>\n",
              "      <th>...</th>\n",
              "      <th>pixel_6_6</th>\n",
              "      <th>pixel_6_7</th>\n",
              "      <th>pixel_7_0</th>\n",
              "      <th>pixel_7_1</th>\n",
              "      <th>pixel_7_2</th>\n",
              "      <th>pixel_7_3</th>\n",
              "      <th>pixel_7_4</th>\n",
              "      <th>pixel_7_5</th>\n",
              "      <th>pixel_7_6</th>\n",
              "      <th>pixel_7_7</th>\n",
              "    </tr>\n",
              "  </thead>\n",
              "  <tbody>\n",
              "    <tr>\n",
              "      <th>0</th>\n",
              "      <td>0.0</td>\n",
              "      <td>0.0</td>\n",
              "      <td>5.0</td>\n",
              "      <td>13.0</td>\n",
              "      <td>9.0</td>\n",
              "      <td>1.0</td>\n",
              "      <td>0.0</td>\n",
              "      <td>0.0</td>\n",
              "      <td>0.0</td>\n",
              "      <td>0.0</td>\n",
              "      <td>...</td>\n",
              "      <td>0.0</td>\n",
              "      <td>0.0</td>\n",
              "      <td>0.0</td>\n",
              "      <td>0.0</td>\n",
              "      <td>6.0</td>\n",
              "      <td>13.0</td>\n",
              "      <td>10.0</td>\n",
              "      <td>0.0</td>\n",
              "      <td>0.0</td>\n",
              "      <td>0.0</td>\n",
              "    </tr>\n",
              "    <tr>\n",
              "      <th>1</th>\n",
              "      <td>0.0</td>\n",
              "      <td>0.0</td>\n",
              "      <td>0.0</td>\n",
              "      <td>12.0</td>\n",
              "      <td>13.0</td>\n",
              "      <td>5.0</td>\n",
              "      <td>0.0</td>\n",
              "      <td>0.0</td>\n",
              "      <td>0.0</td>\n",
              "      <td>0.0</td>\n",
              "      <td>...</td>\n",
              "      <td>0.0</td>\n",
              "      <td>0.0</td>\n",
              "      <td>0.0</td>\n",
              "      <td>0.0</td>\n",
              "      <td>0.0</td>\n",
              "      <td>11.0</td>\n",
              "      <td>16.0</td>\n",
              "      <td>10.0</td>\n",
              "      <td>0.0</td>\n",
              "      <td>0.0</td>\n",
              "    </tr>\n",
              "    <tr>\n",
              "      <th>2</th>\n",
              "      <td>0.0</td>\n",
              "      <td>0.0</td>\n",
              "      <td>0.0</td>\n",
              "      <td>4.0</td>\n",
              "      <td>15.0</td>\n",
              "      <td>12.0</td>\n",
              "      <td>0.0</td>\n",
              "      <td>0.0</td>\n",
              "      <td>0.0</td>\n",
              "      <td>0.0</td>\n",
              "      <td>...</td>\n",
              "      <td>5.0</td>\n",
              "      <td>0.0</td>\n",
              "      <td>0.0</td>\n",
              "      <td>0.0</td>\n",
              "      <td>0.0</td>\n",
              "      <td>3.0</td>\n",
              "      <td>11.0</td>\n",
              "      <td>16.0</td>\n",
              "      <td>9.0</td>\n",
              "      <td>0.0</td>\n",
              "    </tr>\n",
              "    <tr>\n",
              "      <th>3</th>\n",
              "      <td>0.0</td>\n",
              "      <td>0.0</td>\n",
              "      <td>7.0</td>\n",
              "      <td>15.0</td>\n",
              "      <td>13.0</td>\n",
              "      <td>1.0</td>\n",
              "      <td>0.0</td>\n",
              "      <td>0.0</td>\n",
              "      <td>0.0</td>\n",
              "      <td>8.0</td>\n",
              "      <td>...</td>\n",
              "      <td>9.0</td>\n",
              "      <td>0.0</td>\n",
              "      <td>0.0</td>\n",
              "      <td>0.0</td>\n",
              "      <td>7.0</td>\n",
              "      <td>13.0</td>\n",
              "      <td>13.0</td>\n",
              "      <td>9.0</td>\n",
              "      <td>0.0</td>\n",
              "      <td>0.0</td>\n",
              "    </tr>\n",
              "    <tr>\n",
              "      <th>4</th>\n",
              "      <td>0.0</td>\n",
              "      <td>0.0</td>\n",
              "      <td>0.0</td>\n",
              "      <td>1.0</td>\n",
              "      <td>11.0</td>\n",
              "      <td>0.0</td>\n",
              "      <td>0.0</td>\n",
              "      <td>0.0</td>\n",
              "      <td>0.0</td>\n",
              "      <td>0.0</td>\n",
              "      <td>...</td>\n",
              "      <td>0.0</td>\n",
              "      <td>0.0</td>\n",
              "      <td>0.0</td>\n",
              "      <td>0.0</td>\n",
              "      <td>0.0</td>\n",
              "      <td>2.0</td>\n",
              "      <td>16.0</td>\n",
              "      <td>4.0</td>\n",
              "      <td>0.0</td>\n",
              "      <td>0.0</td>\n",
              "    </tr>\n",
              "  </tbody>\n",
              "</table>\n",
              "<p>5 rows × 64 columns</p>\n",
              "</div>\n",
              "    <div class=\"colab-df-buttons\">\n",
              "\n",
              "  <div class=\"colab-df-container\">\n",
              "    <button class=\"colab-df-convert\" onclick=\"convertToInteractive('df-fd0e0a2d-445e-4c2e-8aa8-8933cf495ffe')\"\n",
              "            title=\"Convert this dataframe to an interactive table.\"\n",
              "            style=\"display:none;\">\n",
              "\n",
              "  <svg xmlns=\"http://www.w3.org/2000/svg\" height=\"24px\" viewBox=\"0 -960 960 960\">\n",
              "    <path d=\"M120-120v-720h720v720H120Zm60-500h600v-160H180v160Zm220 220h160v-160H400v160Zm0 220h160v-160H400v160ZM180-400h160v-160H180v160Zm440 0h160v-160H620v160ZM180-180h160v-160H180v160Zm440 0h160v-160H620v160Z\"/>\n",
              "  </svg>\n",
              "    </button>\n",
              "\n",
              "  <style>\n",
              "    .colab-df-container {\n",
              "      display:flex;\n",
              "      gap: 12px;\n",
              "    }\n",
              "\n",
              "    .colab-df-convert {\n",
              "      background-color: #E8F0FE;\n",
              "      border: none;\n",
              "      border-radius: 50%;\n",
              "      cursor: pointer;\n",
              "      display: none;\n",
              "      fill: #1967D2;\n",
              "      height: 32px;\n",
              "      padding: 0 0 0 0;\n",
              "      width: 32px;\n",
              "    }\n",
              "\n",
              "    .colab-df-convert:hover {\n",
              "      background-color: #E2EBFA;\n",
              "      box-shadow: 0px 1px 2px rgba(60, 64, 67, 0.3), 0px 1px 3px 1px rgba(60, 64, 67, 0.15);\n",
              "      fill: #174EA6;\n",
              "    }\n",
              "\n",
              "    .colab-df-buttons div {\n",
              "      margin-bottom: 4px;\n",
              "    }\n",
              "\n",
              "    [theme=dark] .colab-df-convert {\n",
              "      background-color: #3B4455;\n",
              "      fill: #D2E3FC;\n",
              "    }\n",
              "\n",
              "    [theme=dark] .colab-df-convert:hover {\n",
              "      background-color: #434B5C;\n",
              "      box-shadow: 0px 1px 3px 1px rgba(0, 0, 0, 0.15);\n",
              "      filter: drop-shadow(0px 1px 2px rgba(0, 0, 0, 0.3));\n",
              "      fill: #FFFFFF;\n",
              "    }\n",
              "  </style>\n",
              "\n",
              "    <script>\n",
              "      const buttonEl =\n",
              "        document.querySelector('#df-fd0e0a2d-445e-4c2e-8aa8-8933cf495ffe button.colab-df-convert');\n",
              "      buttonEl.style.display =\n",
              "        google.colab.kernel.accessAllowed ? 'block' : 'none';\n",
              "\n",
              "      async function convertToInteractive(key) {\n",
              "        const element = document.querySelector('#df-fd0e0a2d-445e-4c2e-8aa8-8933cf495ffe');\n",
              "        const dataTable =\n",
              "          await google.colab.kernel.invokeFunction('convertToInteractive',\n",
              "                                                    [key], {});\n",
              "        if (!dataTable) return;\n",
              "\n",
              "        const docLinkHtml = 'Like what you see? Visit the ' +\n",
              "          '<a target=\"_blank\" href=https://colab.research.google.com/notebooks/data_table.ipynb>data table notebook</a>'\n",
              "          + ' to learn more about interactive tables.';\n",
              "        element.innerHTML = '';\n",
              "        dataTable['output_type'] = 'display_data';\n",
              "        await google.colab.output.renderOutput(dataTable, element);\n",
              "        const docLink = document.createElement('div');\n",
              "        docLink.innerHTML = docLinkHtml;\n",
              "        element.appendChild(docLink);\n",
              "      }\n",
              "    </script>\n",
              "  </div>\n",
              "\n",
              "\n",
              "<div id=\"df-dc7e0605-1ec8-4e00-9a7e-0955414c3c00\">\n",
              "  <button class=\"colab-df-quickchart\" onclick=\"quickchart('df-dc7e0605-1ec8-4e00-9a7e-0955414c3c00')\"\n",
              "            title=\"Suggest charts\"\n",
              "            style=\"display:none;\">\n",
              "\n",
              "<svg xmlns=\"http://www.w3.org/2000/svg\" height=\"24px\"viewBox=\"0 0 24 24\"\n",
              "     width=\"24px\">\n",
              "    <g>\n",
              "        <path d=\"M19 3H5c-1.1 0-2 .9-2 2v14c0 1.1.9 2 2 2h14c1.1 0 2-.9 2-2V5c0-1.1-.9-2-2-2zM9 17H7v-7h2v7zm4 0h-2V7h2v10zm4 0h-2v-4h2v4z\"/>\n",
              "    </g>\n",
              "</svg>\n",
              "  </button>\n",
              "\n",
              "<style>\n",
              "  .colab-df-quickchart {\n",
              "      --bg-color: #E8F0FE;\n",
              "      --fill-color: #1967D2;\n",
              "      --hover-bg-color: #E2EBFA;\n",
              "      --hover-fill-color: #174EA6;\n",
              "      --disabled-fill-color: #AAA;\n",
              "      --disabled-bg-color: #DDD;\n",
              "  }\n",
              "\n",
              "  [theme=dark] .colab-df-quickchart {\n",
              "      --bg-color: #3B4455;\n",
              "      --fill-color: #D2E3FC;\n",
              "      --hover-bg-color: #434B5C;\n",
              "      --hover-fill-color: #FFFFFF;\n",
              "      --disabled-bg-color: #3B4455;\n",
              "      --disabled-fill-color: #666;\n",
              "  }\n",
              "\n",
              "  .colab-df-quickchart {\n",
              "    background-color: var(--bg-color);\n",
              "    border: none;\n",
              "    border-radius: 50%;\n",
              "    cursor: pointer;\n",
              "    display: none;\n",
              "    fill: var(--fill-color);\n",
              "    height: 32px;\n",
              "    padding: 0;\n",
              "    width: 32px;\n",
              "  }\n",
              "\n",
              "  .colab-df-quickchart:hover {\n",
              "    background-color: var(--hover-bg-color);\n",
              "    box-shadow: 0 1px 2px rgba(60, 64, 67, 0.3), 0 1px 3px 1px rgba(60, 64, 67, 0.15);\n",
              "    fill: var(--button-hover-fill-color);\n",
              "  }\n",
              "\n",
              "  .colab-df-quickchart-complete:disabled,\n",
              "  .colab-df-quickchart-complete:disabled:hover {\n",
              "    background-color: var(--disabled-bg-color);\n",
              "    fill: var(--disabled-fill-color);\n",
              "    box-shadow: none;\n",
              "  }\n",
              "\n",
              "  .colab-df-spinner {\n",
              "    border: 2px solid var(--fill-color);\n",
              "    border-color: transparent;\n",
              "    border-bottom-color: var(--fill-color);\n",
              "    animation:\n",
              "      spin 1s steps(1) infinite;\n",
              "  }\n",
              "\n",
              "  @keyframes spin {\n",
              "    0% {\n",
              "      border-color: transparent;\n",
              "      border-bottom-color: var(--fill-color);\n",
              "      border-left-color: var(--fill-color);\n",
              "    }\n",
              "    20% {\n",
              "      border-color: transparent;\n",
              "      border-left-color: var(--fill-color);\n",
              "      border-top-color: var(--fill-color);\n",
              "    }\n",
              "    30% {\n",
              "      border-color: transparent;\n",
              "      border-left-color: var(--fill-color);\n",
              "      border-top-color: var(--fill-color);\n",
              "      border-right-color: var(--fill-color);\n",
              "    }\n",
              "    40% {\n",
              "      border-color: transparent;\n",
              "      border-right-color: var(--fill-color);\n",
              "      border-top-color: var(--fill-color);\n",
              "    }\n",
              "    60% {\n",
              "      border-color: transparent;\n",
              "      border-right-color: var(--fill-color);\n",
              "    }\n",
              "    80% {\n",
              "      border-color: transparent;\n",
              "      border-right-color: var(--fill-color);\n",
              "      border-bottom-color: var(--fill-color);\n",
              "    }\n",
              "    90% {\n",
              "      border-color: transparent;\n",
              "      border-bottom-color: var(--fill-color);\n",
              "    }\n",
              "  }\n",
              "</style>\n",
              "\n",
              "  <script>\n",
              "    async function quickchart(key) {\n",
              "      const quickchartButtonEl =\n",
              "        document.querySelector('#' + key + ' button');\n",
              "      quickchartButtonEl.disabled = true;  // To prevent multiple clicks.\n",
              "      quickchartButtonEl.classList.add('colab-df-spinner');\n",
              "      try {\n",
              "        const charts = await google.colab.kernel.invokeFunction(\n",
              "            'suggestCharts', [key], {});\n",
              "      } catch (error) {\n",
              "        console.error('Error during call to suggestCharts:', error);\n",
              "      }\n",
              "      quickchartButtonEl.classList.remove('colab-df-spinner');\n",
              "      quickchartButtonEl.classList.add('colab-df-quickchart-complete');\n",
              "    }\n",
              "    (() => {\n",
              "      let quickchartButtonEl =\n",
              "        document.querySelector('#df-dc7e0605-1ec8-4e00-9a7e-0955414c3c00 button');\n",
              "      quickchartButtonEl.style.display =\n",
              "        google.colab.kernel.accessAllowed ? 'block' : 'none';\n",
              "    })();\n",
              "  </script>\n",
              "</div>\n",
              "\n",
              "    </div>\n",
              "  </div>\n"
            ],
            "application/vnd.google.colaboratory.intrinsic+json": {
              "type": "dataframe",
              "variable_name": "df"
            }
          },
          "metadata": {},
          "execution_count": 7
        }
      ]
    },
    {
      "cell_type": "code",
      "source": [
        "df.shape"
      ],
      "metadata": {
        "colab": {
          "base_uri": "https://localhost:8080/"
        },
        "id": "2zXSEspTDO2_",
        "outputId": "523cb4c3-7a2e-44d8-ecde-7d2e57906555"
      },
      "execution_count": null,
      "outputs": [
        {
          "output_type": "execute_result",
          "data": {
            "text/plain": [
              "(1797, 64)"
            ]
          },
          "metadata": {},
          "execution_count": 8
        }
      ]
    },
    {
      "cell_type": "code",
      "source": [
        "digits.data[1700]"
      ],
      "metadata": {
        "colab": {
          "base_uri": "https://localhost:8080/"
        },
        "id": "QAsHVkFOFeRk",
        "outputId": "2f62fe66-b1a1-4ce0-ef7f-5c8924af5ea8"
      },
      "execution_count": null,
      "outputs": [
        {
          "output_type": "execute_result",
          "data": {
            "text/plain": [
              "array([ 0.,  0.,  4.,  9., 12., 16.,  8.,  0.,  0.,  0., 15., 15.,  8.,\n",
              "        8.,  2.,  0.,  0.,  4., 16., 11.,  4.,  1.,  0.,  0.,  0.,  8.,\n",
              "       16., 16., 16., 14.,  0.,  0.,  0.,  0., 11.,  9.,  8., 16.,  0.,\n",
              "        0.,  0.,  0.,  0.,  0.,  7., 16.,  0.,  0.,  0.,  0.,  0.,  8.,\n",
              "       16., 12.,  0.,  0.,  0.,  0.,  3., 13.,  9.,  1.,  0.,  0.])"
            ]
          },
          "metadata": {},
          "execution_count": 9
        }
      ]
    },
    {
      "cell_type": "code",
      "source": [
        "digits.data[0].reshape(8,8)"
      ],
      "metadata": {
        "colab": {
          "base_uri": "https://localhost:8080/"
        },
        "id": "Nd5OdqnxDgJE",
        "outputId": "ea8f0cdf-6912-45ad-ade4-2b4dc117e1b6"
      },
      "execution_count": null,
      "outputs": [
        {
          "output_type": "execute_result",
          "data": {
            "text/plain": [
              "array([[ 0.,  0.,  5., 13.,  9.,  1.,  0.,  0.],\n",
              "       [ 0.,  0., 13., 15., 10., 15.,  5.,  0.],\n",
              "       [ 0.,  3., 15.,  2.,  0., 11.,  8.,  0.],\n",
              "       [ 0.,  4., 12.,  0.,  0.,  8.,  8.,  0.],\n",
              "       [ 0.,  5.,  8.,  0.,  0.,  9.,  8.,  0.],\n",
              "       [ 0.,  4., 11.,  0.,  1., 12.,  7.,  0.],\n",
              "       [ 0.,  2., 14.,  5., 10., 12.,  0.,  0.],\n",
              "       [ 0.,  0.,  6., 13., 10.,  0.,  0.,  0.]])"
            ]
          },
          "metadata": {},
          "execution_count": 10
        }
      ]
    },
    {
      "cell_type": "code",
      "source": [],
      "metadata": {
        "id": "Z1R-aWGHFVcZ"
      },
      "execution_count": null,
      "outputs": []
    },
    {
      "cell_type": "code",
      "source": [
        "# imshow , matshow\n",
        "print(\"target is :\", digits.target[1700])\n",
        "import matplotlib.pyplot as plt\n",
        "plt.gray()\n",
        "plt.matshow(digits.data[1700].reshape(8,8))"
      ],
      "metadata": {
        "colab": {
          "base_uri": "https://localhost:8080/",
          "height": 489
        },
        "id": "XFCdN4WEDqgS",
        "outputId": "13527b24-0b47-456d-8db2-4f8d2406a2ad"
      },
      "execution_count": null,
      "outputs": [
        {
          "output_type": "stream",
          "name": "stdout",
          "text": [
            "target is : 5\n"
          ]
        },
        {
          "output_type": "execute_result",
          "data": {
            "text/plain": [
              "<matplotlib.image.AxesImage at 0x7ccc48245330>"
            ]
          },
          "metadata": {},
          "execution_count": 11
        },
        {
          "output_type": "display_data",
          "data": {
            "text/plain": [
              "<Figure size 640x480 with 0 Axes>"
            ]
          },
          "metadata": {}
        },
        {
          "output_type": "display_data",
          "data": {
            "text/plain": [
              "<Figure size 480x480 with 1 Axes>"
            ],
            "image/png": "[encoded data removed]"
          },
          "metadata": {}
        }
      ]
    },
    {
      "cell_type": "code",
      "source": [
        "import numpy as np\n",
        "plt.figure(figsize=(15,4))\n",
        "for index, (image, label) in enumerate(zip(digits.data[0:5], digits.target[0:5])):\n",
        "    plt.subplot(1,5, index+1)\n",
        "    plt.imshow(np.reshape(image, (8,8)), cmap=plt.cm.gray)\n",
        "    plt.title(f\"Training: {label,index}\", fontsize=20)"
      ],
      "metadata": {
        "colab": {
          "base_uri": "https://localhost:8080/",
          "height": 164
        },
        "id": "rcrMq6uEEWj3",
        "outputId": "ce9b5b83-0b50-48d5-ca07-7ceb26bcaa4b"
      },
      "execution_count": null,
      "outputs": [
        {
          "output_type": "display_data",
          "data": {
            "text/plain": [
              "<Figure size 1500x400 with 5 Axes>"
            ],
            "image/png": "[encoded data removed]"
          },
          "metadata": {}
        }
      ]
    },
    {
      "cell_type": "code",
      "source": [
        "#Our task is to reduce the dimension of the data and then pass the lower dimension data to the model so that it can predict which number is\n",
        "# displaying in the particular image"
      ],
      "metadata": {
        "id": "qSo22FTNFMA-"
      },
      "execution_count": null,
      "outputs": []
    },
    {
      "cell_type": "markdown",
      "source": [
        "# Basic Steps:\n",
        "\n",
        "## Step 1: Divide the data into x and y (x-> features, y-> target)\n",
        "              \n",
        "## Step 2: train test split\n",
        "\n",
        "## Step 3: build the model\n",
        "\n",
        "## Step 4: Train the model (pass x train and y train\n",
        "\n",
        "## Step 5: test the model -> do predictions --> .predict()\n",
        "\n",
        "## Step 6: evaluate the model\n",
        "\n",
        "###   Regression data -> r2 score , rmse, mse, mae\n",
        "\n",
        "###  Classification data -> accuracy_score, confusion matrix, classification report"
      ],
      "metadata": {
        "id": "QIqoCaCjHGac"
      }
    },
    {
      "cell_type": "code",
      "source": [
        "X = digits.data #\n",
        "y = digits.target"
      ],
      "metadata": {
        "id": "ZE5WatQXHBg3"
      },
      "execution_count": null,
      "outputs": []
    },
    {
      "cell_type": "code",
      "source": [
        "from sklearn.model_selection import train_test_split\n",
        "\n",
        "X_train, X_test, y_train, y_test = train_test_split(X,y, test_size = 0.2,random_state = 23)"
      ],
      "metadata": {
        "id": "LYaNu1yYJJgm"
      },
      "execution_count": null,
      "outputs": []
    },
    {
      "cell_type": "code",
      "source": [
        "X_train"
      ],
      "metadata": {
        "colab": {
          "base_uri": "https://localhost:8080/"
        },
        "id": "3-XmJGYjNBM5",
        "outputId": "f9a049e3-8cbc-4568-cf56-decd875ed7e2"
      },
      "execution_count": null,
      "outputs": [
        {
          "output_type": "execute_result",
          "data": {
            "text/plain": [
              "array([[ 0.,  0.,  7., ...,  7.,  0.,  0.],\n",
              "       [ 0.,  0.,  0., ..., 16.,  1.,  0.],\n",
              "       [ 0.,  0.,  5., ..., 12.,  9.,  0.],\n",
              "       ...,\n",
              "       [ 0.,  0.,  7., ...,  0.,  0.,  0.],\n",
              "       [ 0.,  0.,  4., ...,  3.,  0.,  0.],\n",
              "       [ 0.,  0.,  1., ...,  7.,  0.,  0.]])"
            ]
          },
          "metadata": {},
          "execution_count": 16
        }
      ]
    },
    {
      "cell_type": "code",
      "source": [
        "X_train.shape"
      ],
      "metadata": {
        "colab": {
          "base_uri": "https://localhost:8080/"
        },
        "id": "uiefvFNI1KO6",
        "outputId": "973fd6a9-dcea-4446-eed1-79241b8a8a1d"
      },
      "execution_count": null,
      "outputs": [
        {
          "output_type": "execute_result",
          "data": {
            "text/plain": [
              "(1437, 9)"
            ]
          },
          "metadata": {},
          "execution_count": 28
        }
      ]
    },
    {
      "cell_type": "code",
      "source": [
        "from sklearn.preprocessing import StandardScaler\n",
        "\n",
        "sc = StandardScaler()\n",
        "\n",
        "X_train = sc.fit_transform(X_train)\n",
        "X_test = sc.fit_transform(X_test)\n"
      ],
      "metadata": {
        "id": "IgBpIP8OJcjQ"
      },
      "execution_count": null,
      "outputs": []
    },
    {
      "cell_type": "code",
      "source": [
        "X_train"
      ],
      "metadata": {
        "colab": {
          "base_uri": "https://localhost:8080/"
        },
        "id": "lTeQ_mZeNDOf",
        "outputId": "00560e42-27af-4c31-c60e-15a9fac68425"
      },
      "execution_count": null,
      "outputs": [
        {
          "output_type": "execute_result",
          "data": {
            "text/plain": [
              "array([[ 0.        , -0.33228752,  0.40450247, ...,  0.02409317,\n",
              "        -0.51266429, -0.20088485],\n",
              "       [ 0.        , -0.33228752, -1.07617089, ...,  1.55905369,\n",
              "        -0.27064767, -0.20088485],\n",
              "       [ 0.        , -0.33228752, -0.01854706, ...,  0.87684901,\n",
              "         1.66548528, -0.20088485],\n",
              "       ...,\n",
              "       [ 0.        , -0.33228752,  0.40450247, ..., -1.16976501,\n",
              "        -0.51266429, -0.20088485],\n",
              "       [ 0.        , -0.33228752, -0.23007182, ..., -0.6581115 ,\n",
              "        -0.51266429, -0.20088485],\n",
              "       [ 0.        , -0.33228752, -0.86464612, ...,  0.02409317,\n",
              "        -0.51266429, -0.20088485]])"
            ]
          },
          "metadata": {},
          "execution_count": 18
        }
      ]
    },
    {
      "cell_type": "code",
      "source": [
        "from sklearn.discriminant_analysis import LinearDiscriminantAnalysis\n",
        "\n",
        "lda = LinearDiscriminantAnalysis(n_components = 9) # build of model (number of classes -1)\n",
        "X_train = lda.fit_transform(X_train, y_train)\n",
        "X_test = lda.transform(X_test)"
      ],
      "metadata": {
        "id": "Xl6FQpYOLZDn"
      },
      "execution_count": null,
      "outputs": []
    },
    {
      "cell_type": "code",
      "source": [
        "pd.DataFrame(X_train, columns = [\"LD1\", \"LD2\", \"LD3\", \"LD4\", \"LD5\", \"LD6\", \"LD7\", \"LD8\", \"LD9\"])"
      ],
      "metadata": {
        "colab": {
          "base_uri": "https://localhost:8080/",
          "height": 443
        },
        "id": "eq-Q_kIXMmSB",
        "outputId": "5f991657-c518-41b3-c1e0-9fcf1dd33d1e"
      },
      "execution_count": null,
      "outputs": [
        {
          "output_type": "execute_result",
          "data": {
            "text/plain": [
              "           LD1       LD2       LD3       LD4       LD5       LD6       LD7  \\\n",
              "0     2.805666 -3.583847 -1.729052 -1.584454  2.360684 -0.221192 -0.657687   \n",
              "1    -2.756619 -2.008959  2.579649  3.648875 -0.629593  0.126108 -0.534989   \n",
              "2     3.660434  1.026739  4.266263 -1.627725 -2.259883  2.990275 -0.707576   \n",
              "3     4.786232  1.849139  2.899168 -0.970458 -3.931655  1.545703  2.697758   \n",
              "4     3.483746 -0.140662  0.298324  0.423185  1.338983 -1.374223  2.373297   \n",
              "...        ...       ...       ...       ...       ...       ...       ...   \n",
              "1432 -6.601057  4.115884 -1.503249 -3.659814  0.652178  1.162304  1.570020   \n",
              "1433  2.371552  0.505351 -1.121479  1.170240  0.650525  0.804737  4.099886   \n",
              "1434 -1.141189 -0.283623 -3.729010  4.239223 -0.828516  3.155211  0.318567   \n",
              "1435  1.032038  0.050118  1.141319 -1.446479  1.696416 -1.470908 -1.528294   \n",
              "1436 -0.561786 -4.144224  1.283615 -1.483977 -0.619994 -0.903362 -0.430083   \n",
              "\n",
              "           LD8       LD9  \n",
              "0    -0.967548 -1.404569  \n",
              "1     1.906349  1.821795  \n",
              "2    -0.559080 -1.100419  \n",
              "3    -1.210940  0.030868  \n",
              "4     0.431837  1.853524  \n",
              "...        ...       ...  \n",
              "1432 -1.696669  0.231821  \n",
              "1433 -0.766358  0.164349  \n",
              "1434  0.897164  0.266222  \n",
              "1435 -2.498099  2.055511  \n",
              "1436  0.252602  1.093930  \n",
              "\n",
              "[1437 rows x 9 columns]"
            ],
            "text/html": [
              "\n",
              "  <div id=\"df-543f27e8-6151-4c01-86da-e9a4f1d88b90\" class=\"colab-df-container\">\n",
              "    <div>\n",
              "<style scoped>\n",
              "    .dataframe tbody tr th:only-of-type {\n",
              "        vertical-align: middle;\n",
              "    }\n",
              "\n",
              "    .dataframe tbody tr th {\n",
              "        vertical-align: top;\n",
              "    }\n",
              "\n",
              "    .dataframe thead th {\n",
              "        text-align: right;\n",
              "    }\n",
              "</style>\n",
              "<table border=\"1\" class=\"dataframe\">\n",
              "  <thead>\n",
              "    <tr style=\"text-align: right;\">\n",
              "      <th></th>\n",
              "      <th>LD1</th>\n",
              "      <th>LD2</th>\n",
              "      <th>LD3</th>\n",
              "      <th>LD4</th>\n",
              "      <th>LD5</th>\n",
              "      <th>LD6</th>\n",
              "      <th>LD7</th>\n",
              "      <th>LD8</th>\n",
              "      <th>LD9</th>\n",
              "    </tr>\n",
              "  </thead>\n",
              "  <tbody>\n",
              "    <tr>\n",
              "      <th>0</th>\n",
              "      <td>2.805666</td>\n",
              "      <td>-3.583847</td>\n",
              "      <td>-1.729052</td>\n",
              "      <td>-1.584454</td>\n",
              "      <td>2.360684</td>\n",
              "      <td>-0.221192</td>\n",
              "      <td>-0.657687</td>\n",
              "      <td>-0.967548</td>\n",
              "      <td>-1.404569</td>\n",
              "    </tr>\n",
              "    <tr>\n",
              "      <th>1</th>\n",
              "      <td>-2.756619</td>\n",
              "      <td>-2.008959</td>\n",
              "      <td>2.579649</td>\n",
              "      <td>3.648875</td>\n",
              "      <td>-0.629593</td>\n",
              "      <td>0.126108</td>\n",
              "      <td>-0.534989</td>\n",
              "      <td>1.906349</td>\n",
              "      <td>1.821795</td>\n",
              "    </tr>\n",
              "    <tr>\n",
              "      <th>2</th>\n",
              "      <td>3.660434</td>\n",
              "      <td>1.026739</td>\n",
              "      <td>4.266263</td>\n",
              "      <td>-1.627725</td>\n",
              "      <td>-2.259883</td>\n",
              "      <td>2.990275</td>\n",
              "      <td>-0.707576</td>\n",
              "      <td>-0.559080</td>\n",
              "      <td>-1.100419</td>\n",
              "    </tr>\n",
              "    <tr>\n",
              "      <th>3</th>\n",
              "      <td>4.786232</td>\n",
              "      <td>1.849139</td>\n",
              "      <td>2.899168</td>\n",
              "      <td>-0.970458</td>\n",
              "      <td>-3.931655</td>\n",
              "      <td>1.545703</td>\n",
              "      <td>2.697758</td>\n",
              "      <td>-1.210940</td>\n",
              "      <td>0.030868</td>\n",
              "    </tr>\n",
              "    <tr>\n",
              "      <th>4</th>\n",
              "      <td>3.483746</td>\n",
              "      <td>-0.140662</td>\n",
              "      <td>0.298324</td>\n",
              "      <td>0.423185</td>\n",
              "      <td>1.338983</td>\n",
              "      <td>-1.374223</td>\n",
              "      <td>2.373297</td>\n",
              "      <td>0.431837</td>\n",
              "      <td>1.853524</td>\n",
              "    </tr>\n",
              "    <tr>\n",
              "      <th>...</th>\n",
              "      <td>...</td>\n",
              "      <td>...</td>\n",
              "      <td>...</td>\n",
              "      <td>...</td>\n",
              "      <td>...</td>\n",
              "      <td>...</td>\n",
              "      <td>...</td>\n",
              "      <td>...</td>\n",
              "      <td>...</td>\n",
              "    </tr>\n",
              "    <tr>\n",
              "      <th>1432</th>\n",
              "      <td>-6.601057</td>\n",
              "      <td>4.115884</td>\n",
              "      <td>-1.503249</td>\n",
              "      <td>-3.659814</td>\n",
              "      <td>0.652178</td>\n",
              "      <td>1.162304</td>\n",
              "      <td>1.570020</td>\n",
              "      <td>-1.696669</td>\n",
              "      <td>0.231821</td>\n",
              "    </tr>\n",
              "    <tr>\n",
              "      <th>1433</th>\n",
              "      <td>2.371552</td>\n",
              "      <td>0.505351</td>\n",
              "      <td>-1.121479</td>\n",
              "      <td>1.170240</td>\n",
              "      <td>0.650525</td>\n",
              "      <td>0.804737</td>\n",
              "      <td>4.099886</td>\n",
              "      <td>-0.766358</td>\n",
              "      <td>0.164349</td>\n",
              "    </tr>\n",
              "    <tr>\n",
              "      <th>1434</th>\n",
              "      <td>-1.141189</td>\n",
              "      <td>-0.283623</td>\n",
              "      <td>-3.729010</td>\n",
              "      <td>4.239223</td>\n",
              "      <td>-0.828516</td>\n",
              "      <td>3.155211</td>\n",
              "      <td>0.318567</td>\n",
              "      <td>0.897164</td>\n",
              "      <td>0.266222</td>\n",
              "    </tr>\n",
              "    <tr>\n",
              "      <th>1435</th>\n",
              "      <td>1.032038</td>\n",
              "      <td>0.050118</td>\n",
              "      <td>1.141319</td>\n",
              "      <td>-1.446479</td>\n",
              "      <td>1.696416</td>\n",
              "      <td>-1.470908</td>\n",
              "      <td>-1.528294</td>\n",
              "      <td>-2.498099</td>\n",
              "      <td>2.055511</td>\n",
              "    </tr>\n",
              "    <tr>\n",
              "      <th>1436</th>\n",
              "      <td>-0.561786</td>\n",
              "      <td>-4.144224</td>\n",
              "      <td>1.283615</td>\n",
              "      <td>-1.483977</td>\n",
              "      <td>-0.619994</td>\n",
              "      <td>-0.903362</td>\n",
              "      <td>-0.430083</td>\n",
              "      <td>0.252602</td>\n",
              "      <td>1.093930</td>\n",
              "    </tr>\n",
              "  </tbody>\n",
              "</table>\n",
              "<p>1437 rows × 9 columns</p>\n",
              "</div>\n",
              "    <div class=\"colab-df-buttons\">\n",
              "\n",
              "  <div class=\"colab-df-container\">\n",
              "    <button class=\"colab-df-convert\" onclick=\"convertToInteractive('df-543f27e8-6151-4c01-86da-e9a4f1d88b90')\"\n",
              "            title=\"Convert this dataframe to an interactive table.\"\n",
              "            style=\"display:none;\">\n",
              "\n",
              "  <svg xmlns=\"http://www.w3.org/2000/svg\" height=\"24px\" viewBox=\"0 -960 960 960\">\n",
              "    <path d=\"M120-120v-720h720v720H120Zm60-500h600v-160H180v160Zm220 220h160v-160H400v160Zm0 220h160v-160H400v160ZM180-400h160v-160H180v160Zm440 0h160v-160H620v160ZM180-180h160v-160H180v160Zm440 0h160v-160H620v160Z\"/>\n",
              "  </svg>\n",
              "    </button>\n",
              "\n",
              "  <style>\n",
              "    .colab-df-container {\n",
              "      display:flex;\n",
              "      gap: 12px;\n",
              "    }\n",
              "\n",
              "    .colab-df-convert {\n",
              "      background-color: #E8F0FE;\n",
              "      border: none;\n",
              "      border-radius: 50%;\n",
              "      cursor: pointer;\n",
              "      display: none;\n",
              "      fill: #1967D2;\n",
              "      height: 32px;\n",
              "      padding: 0 0 0 0;\n",
              "      width: 32px;\n",
              "    }\n",
              "\n",
              "    .colab-df-convert:hover {\n",
              "      background-color: #E2EBFA;\n",
              "      box-shadow: 0px 1px 2px rgba(60, 64, 67, 0.3), 0px 1px 3px 1px rgba(60, 64, 67, 0.15);\n",
              "      fill: #174EA6;\n",
              "    }\n",
              "\n",
              "    .colab-df-buttons div {\n",
              "      margin-bottom: 4px;\n",
              "    }\n",
              "\n",
              "    [theme=dark] .colab-df-convert {\n",
              "      background-color: #3B4455;\n",
              "      fill: #D2E3FC;\n",
              "    }\n",
              "\n",
              "    [theme=dark] .colab-df-convert:hover {\n",
              "      background-color: #434B5C;\n",
              "      box-shadow: 0px 1px 3px 1px rgba(0, 0, 0, 0.15);\n",
              "      filter: drop-shadow(0px 1px 2px rgba(0, 0, 0, 0.3));\n",
              "      fill: #FFFFFF;\n",
              "    }\n",
              "  </style>\n",
              "\n",
              "    <script>\n",
              "      const buttonEl =\n",
              "        document.querySelector('#df-543f27e8-6151-4c01-86da-e9a4f1d88b90 button.colab-df-convert');\n",
              "      buttonEl.style.display =\n",
              "        google.colab.kernel.accessAllowed ? 'block' : 'none';\n",
              "\n",
              "      async function convertToInteractive(key) {\n",
              "        const element = document.querySelector('#df-543f27e8-6151-4c01-86da-e9a4f1d88b90');\n",
              "        const dataTable =\n",
              "          await google.colab.kernel.invokeFunction('convertToInteractive',\n",
              "                                                    [key], {});\n",
              "        if (!dataTable) return;\n",
              "\n",
              "        const docLinkHtml = 'Like what you see? Visit the ' +\n",
              "          '<a target=\"_blank\" href=https://colab.research.google.com/notebooks/data_table.ipynb>data table notebook</a>'\n",
              "          + ' to learn more about interactive tables.';\n",
              "        element.innerHTML = '';\n",
              "        dataTable['output_type'] = 'display_data';\n",
              "        await google.colab.output.renderOutput(dataTable, element);\n",
              "        const docLink = document.createElement('div');\n",
              "        docLink.innerHTML = docLinkHtml;\n",
              "        element.appendChild(docLink);\n",
              "      }\n",
              "    </script>\n",
              "  </div>\n",
              "\n",
              "\n",
              "<div id=\"df-c04b3dbc-7052-431b-a916-338556afe083\">\n",
              "  <button class=\"colab-df-quickchart\" onclick=\"quickchart('df-c04b3dbc-7052-431b-a916-338556afe083')\"\n",
              "            title=\"Suggest charts\"\n",
              "            style=\"display:none;\">\n",
              "\n",
              "<svg xmlns=\"http://www.w3.org/2000/svg\" height=\"24px\"viewBox=\"0 0 24 24\"\n",
              "     width=\"24px\">\n",
              "    <g>\n",
              "        <path d=\"M19 3H5c-1.1 0-2 .9-2 2v14c0 1.1.9 2 2 2h14c1.1 0 2-.9 2-2V5c0-1.1-.9-2-2-2zM9 17H7v-7h2v7zm4 0h-2V7h2v10zm4 0h-2v-4h2v4z\"/>\n",
              "    </g>\n",
              "</svg>\n",
              "  </button>\n",
              "\n",
              "<style>\n",
              "  .colab-df-quickchart {\n",
              "      --bg-color: #E8F0FE;\n",
              "      --fill-color: #1967D2;\n",
              "      --hover-bg-color: #E2EBFA;\n",
              "      --hover-fill-color: #174EA6;\n",
              "      --disabled-fill-color: #AAA;\n",
              "      --disabled-bg-color: #DDD;\n",
              "  }\n",
              "\n",
              "  [theme=dark] .colab-df-quickchart {\n",
              "      --bg-color: #3B4455;\n",
              "      --fill-color: #D2E3FC;\n",
              "      --hover-bg-color: #434B5C;\n",
              "      --hover-fill-color: #FFFFFF;\n",
              "      --disabled-bg-color: #3B4455;\n",
              "      --disabled-fill-color: #666;\n",
              "  }\n",
              "\n",
              "  .colab-df-quickchart {\n",
              "    background-color: var(--bg-color);\n",
              "    border: none;\n",
              "    border-radius: 50%;\n",
              "    cursor: pointer;\n",
              "    display: none;\n",
              "    fill: var(--fill-color);\n",
              "    height: 32px;\n",
              "    padding: 0;\n",
              "    width: 32px;\n",
              "  }\n",
              "\n",
              "  .colab-df-quickchart:hover {\n",
              "    background-color: var(--hover-bg-color);\n",
              "    box-shadow: 0 1px 2px rgba(60, 64, 67, 0.3), 0 1px 3px 1px rgba(60, 64, 67, 0.15);\n",
              "    fill: var(--button-hover-fill-color);\n",
              "  }\n",
              "\n",
              "  .colab-df-quickchart-complete:disabled,\n",
              "  .colab-df-quickchart-complete:disabled:hover {\n",
              "    background-color: var(--disabled-bg-color);\n",
              "    fill: var(--disabled-fill-color);\n",
              "    box-shadow: none;\n",
              "  }\n",
              "\n",
              "  .colab-df-spinner {\n",
              "    border: 2px solid var(--fill-color);\n",
              "    border-color: transparent;\n",
              "    border-bottom-color: var(--fill-color);\n",
              "    animation:\n",
              "      spin 1s steps(1) infinite;\n",
              "  }\n",
              "\n",
              "  @keyframes spin {\n",
              "    0% {\n",
              "      border-color: transparent;\n",
              "      border-bottom-color: var(--fill-color);\n",
              "      border-left-color: var(--fill-color);\n",
              "    }\n",
              "    20% {\n",
              "      border-color: transparent;\n",
              "      border-left-color: var(--fill-color);\n",
              "      border-top-color: var(--fill-color);\n",
              "    }\n",
              "    30% {\n",
              "      border-color: transparent;\n",
              "      border-left-color: var(--fill-color);\n",
              "      border-top-color: var(--fill-color);\n",
              "      border-right-color: var(--fill-color);\n",
              "    }\n",
              "    40% {\n",
              "      border-color: transparent;\n",
              "      border-right-color: var(--fill-color);\n",
              "      border-top-color: var(--fill-color);\n",
              "    }\n",
              "    60% {\n",
              "      border-color: transparent;\n",
              "      border-right-color: var(--fill-color);\n",
              "    }\n",
              "    80% {\n",
              "      border-color: transparent;\n",
              "      border-right-color: var(--fill-color);\n",
              "      border-bottom-color: var(--fill-color);\n",
              "    }\n",
              "    90% {\n",
              "      border-color: transparent;\n",
              "      border-bottom-color: var(--fill-color);\n",
              "    }\n",
              "  }\n",
              "</style>\n",
              "\n",
              "  <script>\n",
              "    async function quickchart(key) {\n",
              "      const quickchartButtonEl =\n",
              "        document.querySelector('#' + key + ' button');\n",
              "      quickchartButtonEl.disabled = true;  // To prevent multiple clicks.\n",
              "      quickchartButtonEl.classList.add('colab-df-spinner');\n",
              "      try {\n",
              "        const charts = await google.colab.kernel.invokeFunction(\n",
              "            'suggestCharts', [key], {});\n",
              "      } catch (error) {\n",
              "        console.error('Error during call to suggestCharts:', error);\n",
              "      }\n",
              "      quickchartButtonEl.classList.remove('colab-df-spinner');\n",
              "      quickchartButtonEl.classList.add('colab-df-quickchart-complete');\n",
              "    }\n",
              "    (() => {\n",
              "      let quickchartButtonEl =\n",
              "        document.querySelector('#df-c04b3dbc-7052-431b-a916-338556afe083 button');\n",
              "      quickchartButtonEl.style.display =\n",
              "        google.colab.kernel.accessAllowed ? 'block' : 'none';\n",
              "    })();\n",
              "  </script>\n",
              "</div>\n",
              "\n",
              "    </div>\n",
              "  </div>\n"
            ],
            "application/vnd.google.colaboratory.intrinsic+json": {
              "type": "dataframe",
              "summary": "{\n  \"name\": \"pd\",\n  \"rows\": 1437,\n  \"fields\": [\n    {\n      \"column\": \"LD1\",\n      \"properties\": {\n        \"dtype\": \"number\",\n        \"std\": 2.9581357861902116,\n        \"min\": -8.770915648213832,\n        \"max\": 5.824724834555853,\n        \"num_unique_values\": 1437,\n        \"samples\": [\n          3.450747532198315,\n          3.015868455565113,\n          5.012091910748983\n        ],\n        \"semantic_type\": \"\",\n        \"description\": \"\"\n      }\n    },\n    {\n      \"column\": \"LD2\",\n      \"properties\": {\n        \"dtype\": \"number\",\n        \"std\": 2.4307469995256494,\n        \"min\": -6.937092935520022,\n        \"max\": 5.2373891176823175,\n        \"num_unique_values\": 1437,\n        \"samples\": [\n          0.9853744041305287,\n          3.733983813724876,\n          1.166634944040743\n        ],\n        \"semantic_type\": \"\",\n        \"description\": \"\"\n      }\n    },\n    {\n      \"column\": \"LD3\",\n      \"properties\": {\n        \"dtype\": \"number\",\n        \"std\": 2.3297734219134036,\n        \"min\": -6.700515078408182,\n        \"max\": 5.461338094027002,\n        \"num_unique_values\": 1437,\n        \"samples\": [\n          2.3782649598327805,\n          3.112392514779312,\n          2.0511682600707837\n        ],\n        \"semantic_type\": \"\",\n        \"description\": \"\"\n      }\n    },\n    {\n      \"column\": \"LD4\",\n      \"properties\": {\n        \"dtype\": \"number\",\n        \"std\": 2.0000703240910003,\n        \"min\": -5.382084625894983,\n        \"max\": 5.942172517559911,\n        \"num_unique_values\": 1437,\n        \"samples\": [\n          -1.2625267086184644,\n          -1.3639701589418416,\n          -1.3607492911679129\n        ],\n        \"semantic_type\": \"\",\n        \"description\": \"\"\n      }\n    },\n    {\n      \"column\": \"LD5\",\n      \"properties\": {\n        \"dtype\": \"number\",\n        \"std\": 1.7775634918558034,\n        \"min\": -5.295344581129912,\n        \"max\": 5.010566110918164,\n        \"num_unique_values\": 1437,\n        \"samples\": [\n          -2.2299555282321957,\n          0.8639227957424339,\n          -2.4876904713489036\n        ],\n        \"semantic_type\": \"\",\n        \"description\": \"\"\n      }\n    },\n    {\n      \"column\": \"LD6\",\n      \"properties\": {\n        \"dtype\": \"number\",\n        \"std\": 1.6543717878644022,\n        \"min\": -4.828796310455821,\n        \"max\": 5.094604912903827,\n        \"num_unique_values\": 1437,\n        \"samples\": [\n          2.295709553643602,\n          0.40751753131132823,\n          -0.06659588609684178\n        ],\n        \"semantic_type\": \"\",\n        \"description\": \"\"\n      }\n    },\n    {\n      \"column\": \"LD7\",\n      \"properties\": {\n        \"dtype\": \"number\",\n        \"std\": 1.470427517196067,\n        \"min\": -3.3806748302982625,\n        \"max\": 4.797419987306314,\n        \"num_unique_values\": 1437,\n        \"samples\": [\n          -0.6274168233343146,\n          0.24977321991017393,\n          -0.6098268937955382\n        ],\n        \"semantic_type\": \"\",\n        \"description\": \"\"\n      }\n    },\n    {\n      \"column\": \"LD8\",\n      \"properties\": {\n        \"dtype\": \"number\",\n        \"std\": 1.33258991103219,\n        \"min\": -4.146867502719055,\n        \"max\": 4.233949954484903,\n        \"num_unique_values\": 1437,\n        \"samples\": [\n          -2.0444042110387297,\n          4.059600615654234,\n          -2.878966509789183\n        ],\n        \"semantic_type\": \"\",\n        \"description\": \"\"\n      }\n    },\n    {\n      \"column\": \"LD9\",\n      \"properties\": {\n        \"dtype\": \"number\",\n        \"std\": 1.2470919849891209,\n        \"min\": -3.907413060626853,\n        \"max\": 3.809685909891051,\n        \"num_unique_values\": 1437,\n        \"samples\": [\n          -1.1404953764022718,\n          -1.6756644613618925,\n          1.972247974284076\n        ],\n        \"semantic_type\": \"\",\n        \"description\": \"\"\n      }\n    }\n  ]\n}"
            }
          },
          "metadata": {},
          "execution_count": 20
        }
      ]
    },
    {
      "cell_type": "code",
      "source": [
        "from sklearn.ensemble import RandomForestClassifier\n",
        "\n",
        "rf = RandomForestClassifier(n_estimators = 100)\n",
        "rf.fit(X_train, y_train)\n"
      ],
      "metadata": {
        "colab": {
          "base_uri": "https://localhost:8080/",
          "height": 74
        },
        "id": "SgXBMsnNOLIo",
        "outputId": "e855e34e-f0c4-4900-91de-4797ad88045f"
      },
      "execution_count": null,
      "outputs": [
        {
          "output_type": "execute_result",
          "data": {
            "text/plain": [
              "RandomForestClassifier()"
            ],
            "text/html": [
              "<style>#sk-container-id-1 {color: black;background-color: white;}#sk-container-id-1 pre{padding: 0;}#sk-container-id-1 div.sk-toggleable {background-color: white;}#sk-container-id-1 label.sk-toggleable__label {cursor: pointer;display: block;width: 100%;margin-bottom: 0;padding: 0.3em;box-sizing: border-box;text-align: center;}#sk-container-id-1 label.sk-toggleable__label-arrow:before {content: \"▸\";float: left;margin-right: 0.25em;color: #696969;}#sk-container-id-1 label.sk-toggleable__label-arrow:hover:before {color: black;}#sk-container-id-1 div.sk-estimator:hover label.sk-toggleable__label-arrow:before {color: black;}#sk-container-id-1 div.sk-toggleable__content {max-height: 0;max-width: 0;overflow: hidden;text-align: left;background-color: #f0f8ff;}#sk-container-id-1 div.sk-toggleable__content pre {margin: 0.2em;color: black;border-radius: 0.25em;background-color: #f0f8ff;}#sk-container-id-1 input.sk-toggleable__control:checked~div.sk-toggleable__content {max-height: 200px;max-width: 100%;overflow: auto;}#sk-container-id-1 input.sk-toggleable__control:checked~label.sk-toggleable__label-arrow:before {content: \"▾\";}#sk-container-id-1 div.sk-estimator input.sk-toggleable__control:checked~label.sk-toggleable__label {background-color: #d4ebff;}#sk-container-id-1 div.sk-label input.sk-toggleable__control:checked~label.sk-toggleable__label {background-color: #d4ebff;}#sk-container-id-1 input.sk-hidden--visually {border: 0;clip: rect(1px 1px 1px 1px);clip: rect(1px, 1px, 1px, 1px);height: 1px;margin: -1px;overflow: hidden;padding: 0;position: absolute;width: 1px;}#sk-container-id-1 div.sk-estimator {font-family: monospace;background-color: #f0f8ff;border: 1px dotted black;border-radius: 0.25em;box-sizing: border-box;margin-bottom: 0.5em;}#sk-container-id-1 div.sk-estimator:hover {background-color: #d4ebff;}#sk-container-id-1 div.sk-parallel-item::after {content: \"\";width: 100%;border-bottom: 1px solid gray;flex-grow: 1;}#sk-container-id-1 div.sk-label:hover label.sk-toggleable__label {background-color: #d4ebff;}#sk-container-id-1 div.sk-serial::before {content: \"\";position: absolute;border-left: 1px solid gray;box-sizing: border-box;top: 0;bottom: 0;left: 50%;z-index: 0;}#sk-container-id-1 div.sk-serial {display: flex;flex-direction: column;align-items: center;background-color: white;padding-right: 0.2em;padding-left: 0.2em;position: relative;}#sk-container-id-1 div.sk-item {position: relative;z-index: 1;}#sk-container-id-1 div.sk-parallel {display: flex;align-items: stretch;justify-content: center;background-color: white;position: relative;}#sk-container-id-1 div.sk-item::before, #sk-container-id-1 div.sk-parallel-item::before {content: \"\";position: absolute;border-left: 1px solid gray;box-sizing: border-box;top: 0;bottom: 0;left: 50%;z-index: -1;}#sk-container-id-1 div.sk-parallel-item {display: flex;flex-direction: column;z-index: 1;position: relative;background-color: white;}#sk-container-id-1 div.sk-parallel-item:first-child::after {align-self: flex-end;width: 50%;}#sk-container-id-1 div.sk-parallel-item:last-child::after {align-self: flex-start;width: 50%;}#sk-container-id-1 div.sk-parallel-item:only-child::after {width: 0;}#sk-container-id-1 div.sk-dashed-wrapped {border: 1px dashed gray;margin: 0 0.4em 0.5em 0.4em;box-sizing: border-box;padding-bottom: 0.4em;background-color: white;}#sk-container-id-1 div.sk-label label {font-family: monospace;font-weight: bold;display: inline-block;line-height: 1.2em;}#sk-container-id-1 div.sk-label-container {text-align: center;}#sk-container-id-1 div.sk-container {/* jupyter's `normalize.less` sets `[hidden] { display: none; }` but bootstrap.min.css set `[hidden] { display: none !important; }` so we also need the `!important` here to be able to override the default hidden behavior on the sphinx rendered scikit-learn.org. See: https://github.com/scikit-learn/scikit-learn/issues/21755 */display: inline-block !important;position: relative;}#sk-container-id-1 div.sk-text-repr-fallback {display: none;}</style><div id=\"sk-container-id-1\" class=\"sk-top-container\"><div class=\"sk-text-repr-fallback\"><pre>RandomForestClassifier()</pre><b>In a Jupyter environment, please rerun this cell to show the HTML representation or trust the notebook. <br />On GitHub, the HTML representation is unable to render, please try loading this page with nbviewer.org.</b></div><div class=\"sk-container\" hidden><div class=\"sk-item\"><div class=\"sk-estimator sk-toggleable\"><input class=\"sk-toggleable__control sk-hidden--visually\" id=\"sk-estimator-id-1\" type=\"checkbox\" checked><label for=\"sk-estimator-id-1\" class=\"sk-toggleable__label sk-toggleable__label-arrow\">RandomForestClassifier</label><div class=\"sk-toggleable__content\"><pre>RandomForestClassifier()</pre></div></div></div></div></div>"
            ]
          },
          "metadata": {},
          "execution_count": 21
        }
      ]
    },
    {
      "cell_type": "code",
      "source": [
        "predictions = rf.predict(X_test)\n",
        "predictions # these are the predictions values"
      ],
      "metadata": {
        "colab": {
          "base_uri": "https://localhost:8080/"
        },
        "id": "acIx5NC9QBXh",
        "outputId": "5b61a711-a85c-4732-a0ed-eafc8d594667"
      },
      "execution_count": null,
      "outputs": [
        {
          "output_type": "execute_result",
          "data": {
            "text/plain": [
              "array([4, 6, 5, 8, 5, 4, 0, 5, 4, 5, 6, 5, 8, 7, 8, 3, 1, 9, 8, 8, 3, 4,\n",
              "       2, 9, 4, 7, 8, 1, 9, 2, 9, 7, 8, 1, 5, 5, 3, 9, 4, 5, 4, 9, 0, 4,\n",
              "       1, 3, 7, 6, 5, 5, 2, 7, 3, 3, 8, 6, 1, 3, 1, 9, 5, 5, 9, 1, 6, 5,\n",
              "       6, 8, 1, 5, 4, 2, 5, 8, 9, 7, 5, 4, 6, 0, 8, 0, 5, 4, 6, 8, 2, 2,\n",
              "       1, 4, 2, 5, 1, 5, 1, 1, 3, 8, 5, 9, 2, 9, 8, 8, 4, 4, 6, 1, 4, 1,\n",
              "       8, 0, 3, 2, 4, 6, 3, 9, 6, 2, 9, 1, 3, 4, 1, 4, 0, 7, 4, 4, 2, 0,\n",
              "       1, 1, 4, 8, 4, 0, 5, 0, 7, 6, 3, 5, 9, 4, 3, 4, 5, 7, 3, 7, 8, 3,\n",
              "       3, 1, 5, 7, 7, 6, 2, 0, 0, 4, 1, 2, 1, 7, 5, 1, 2, 2, 2, 6, 5, 9,\n",
              "       5, 0, 3, 2, 8, 9, 0, 7, 9, 2, 2, 8, 3, 8, 6, 7, 0, 1, 4, 7, 1, 1,\n",
              "       0, 6, 1, 5, 4, 5, 3, 2, 6, 6, 5, 4, 8, 1, 9, 6, 1, 0, 0, 8, 8, 5,\n",
              "       8, 3, 3, 8, 8, 4, 0, 6, 9, 6, 3, 8, 5, 9, 0, 6, 9, 7, 6, 6, 2, 0,\n",
              "       9, 9, 5, 1, 1, 3, 9, 9, 9, 5, 7, 3, 5, 1, 3, 3, 9, 4, 1, 5, 9, 5,\n",
              "       8, 9, 8, 7, 2, 5, 6, 0, 8, 5, 8, 6, 5, 0, 3, 9, 7, 0, 2, 0, 0, 4,\n",
              "       7, 2, 1, 5, 2, 9, 2, 8, 2, 9, 0, 4, 2, 0, 3, 2, 2, 4, 3, 2, 7, 2,\n",
              "       9, 2, 7, 9, 8, 8, 0, 7, 7, 9, 8, 5, 9, 7, 3, 4, 7, 1, 7, 0, 2, 3,\n",
              "       4, 7, 4, 7, 6, 4, 5, 8, 4, 1, 6, 1, 4, 0, 8, 1, 5, 5, 0, 5, 3, 1,\n",
              "       0, 2, 6, 2, 6, 8, 6, 4])"
            ]
          },
          "metadata": {},
          "execution_count": 22
        }
      ]
    },
    {
      "cell_type": "code",
      "source": [
        "y_test # these are actual values"
      ],
      "metadata": {
        "colab": {
          "base_uri": "https://localhost:8080/"
        },
        "id": "XMIcDBb4QVtm",
        "outputId": "a9b76bb0-21af-4c12-a1d8-b301a29faacc"
      },
      "execution_count": null,
      "outputs": [
        {
          "output_type": "execute_result",
          "data": {
            "text/plain": [
              "array([4, 6, 5, 8, 5, 4, 0, 5, 4, 5, 6, 5, 8, 7, 8, 3, 1, 8, 8, 8, 3, 4,\n",
              "       2, 9, 4, 9, 8, 6, 9, 2, 9, 7, 8, 1, 5, 5, 3, 9, 4, 5, 4, 9, 0, 4,\n",
              "       1, 3, 4, 6, 5, 5, 2, 7, 3, 3, 8, 6, 1, 3, 1, 9, 5, 5, 9, 1, 6, 5,\n",
              "       6, 8, 1, 5, 4, 2, 5, 8, 9, 7, 5, 4, 6, 0, 1, 0, 5, 4, 6, 8, 2, 2,\n",
              "       1, 4, 2, 5, 1, 5, 1, 8, 3, 8, 5, 9, 2, 9, 8, 8, 4, 4, 6, 1, 4, 1,\n",
              "       8, 0, 3, 2, 4, 6, 3, 9, 6, 2, 9, 1, 3, 4, 1, 4, 0, 7, 4, 4, 2, 0,\n",
              "       2, 1, 4, 8, 4, 0, 5, 0, 7, 6, 3, 5, 9, 4, 9, 4, 5, 7, 3, 7, 8, 3,\n",
              "       3, 1, 5, 7, 7, 6, 2, 0, 0, 4, 1, 2, 1, 7, 5, 1, 2, 2, 2, 6, 5, 9,\n",
              "       5, 9, 3, 2, 8, 9, 0, 7, 9, 2, 2, 8, 3, 1, 6, 7, 0, 1, 4, 7, 1, 1,\n",
              "       0, 6, 1, 5, 4, 5, 3, 2, 6, 6, 5, 4, 8, 1, 9, 6, 1, 1, 0, 8, 8, 5,\n",
              "       8, 3, 3, 8, 7, 4, 0, 6, 9, 1, 3, 8, 5, 9, 0, 6, 9, 7, 6, 6, 2, 0,\n",
              "       9, 9, 5, 1, 1, 3, 9, 9, 9, 5, 7, 3, 5, 1, 3, 3, 9, 4, 1, 5, 9, 5,\n",
              "       8, 9, 8, 7, 2, 5, 6, 0, 8, 8, 8, 6, 5, 0, 2, 9, 7, 0, 2, 0, 0, 4,\n",
              "       7, 2, 1, 5, 2, 9, 2, 8, 2, 9, 0, 4, 2, 0, 9, 2, 2, 4, 3, 2, 7, 2,\n",
              "       9, 2, 7, 9, 8, 9, 0, 7, 7, 9, 8, 5, 9, 7, 3, 4, 9, 1, 7, 0, 2, 3,\n",
              "       4, 7, 4, 7, 6, 4, 8, 8, 4, 1, 6, 1, 4, 0, 9, 1, 5, 5, 0, 5, 3, 1,\n",
              "       0, 2, 6, 2, 6, 8, 6, 1])"
            ]
          },
          "metadata": {},
          "execution_count": 23
        }
      ]
    },
    {
      "cell_type": "code",
      "source": [
        "from sklearn.metrics import *\n",
        "\n",
        "accuracy_score(y_test, predictions)"
      ],
      "metadata": {
        "colab": {
          "base_uri": "https://localhost:8080/"
        },
        "id": "tdh0_DqOQdR0",
        "outputId": "469f64c3-90af-4db8-b78c-1cce39bb402c"
      },
      "execution_count": null,
      "outputs": [
        {
          "output_type": "execute_result",
          "data": {
            "text/plain": [
              "0.9416666666666667"
            ]
          },
          "metadata": {},
          "execution_count": 37
        }
      ]
    },
    {
      "cell_type": "code",
      "source": [
        " print(confusion_matrix(y_test,predictions))"
      ],
      "metadata": {
        "colab": {
          "base_uri": "https://localhost:8080/"
        },
        "id": "59ehp4NL2vHf",
        "outputId": "3a666230-306d-4466-c1b0-9859cf2247e7"
      },
      "execution_count": null,
      "outputs": [
        {
          "output_type": "stream",
          "name": "stdout",
          "text": [
            "[[30  0  0  0  0  0  0  0  0  0]\n",
            " [ 1 35  0  0  1  0  1  0  2  0]\n",
            " [ 0  1 36  1  0  0  0  0  0  0]\n",
            " [ 0  0  0 29  0  0  0  0  0  0]\n",
            " [ 0  0  0  0 39  0  0  1  0  0]\n",
            " [ 0  0  0  0  0 44  0  0  0  0]\n",
            " [ 0  1  0  0  0  0 30  0  0  0]\n",
            " [ 0  0  0  0  0  0  0 27  1  0]\n",
            " [ 0  1  0  0  0  2  0  0 34  1]\n",
            " [ 1  0  0  2  0  0  0  2  2 35]]\n"
          ]
        }
      ]
    },
    {
      "cell_type": "code",
      "source": [
        "X_train[1]"
      ],
      "metadata": {
        "colab": {
          "base_uri": "https://localhost:8080/"
        },
        "id": "fg1Wd64ySae-",
        "outputId": "3b01f727-2776-4699-930e-624158f2f988"
      },
      "execution_count": null,
      "outputs": [
        {
          "output_type": "execute_result",
          "data": {
            "text/plain": [
              "array([ 2.75661928,  2.00895933,  2.57964884,  3.64887492,  0.6295927 ,\n",
              "        0.12610818,  0.53498907, -1.90634947,  1.82179468])"
            ]
          },
          "metadata": {},
          "execution_count": 42
        }
      ]
    },
    {
      "cell_type": "code",
      "source": [
        "X_test[1]"
      ],
      "metadata": {
        "id": "GfMU48w87GiI",
        "outputId": "b1745230-5790-4bcc-8476-120e32744cbe",
        "colab": {
          "base_uri": "https://localhost:8080/"
        }
      },
      "execution_count": null,
      "outputs": [
        {
          "output_type": "execute_result",
          "data": {
            "text/plain": [
              "array([ 3.17442839, -0.86192105,  2.78548468,  2.60597508,  1.37120679,\n",
              "       -0.58992794, -0.71611932, -2.07715323, -0.7963431 ])"
            ]
          },
          "metadata": {},
          "execution_count": 44
        }
      ]
    },
    {
      "cell_type": "code",
      "source": [
        "import plotly.express as px\n",
        "fig = px.scatter_3d(df, x=X_train[:,0], y=y_train, z=X_train[:,1],\n",
        "                    labels={\n",
        "                        \"x\": \"LD1\",\n",
        "                        \"y\": \"LD2\",\n",
        "                        \"z\": \"LD3\"\n",
        "                    },\n",
        "                    opacity=1, color = y_train)\n",
        "\n",
        "# Change chart background color\n",
        "fig.update_layout(scene=dict(xaxis_backgroundcolor=\"white\",\n",
        "                             yaxis_backgroundcolor=\"white\",\n",
        "                             zaxis_backgroundcolor=\"white\"))\n",
        "\n",
        "# Update axes lines\n",
        "fig.update_layout(scene=dict(xaxis_showgrid=True, xaxis_gridwidth=1, xaxis_gridcolor='lightgrey',\n",
        "                             xaxis_zeroline=True, xaxis_zerolinewidth=1, xaxis_zerolinecolor='lightgrey',\n",
        "                             xaxis_showline=True, xaxis_linewidth=1, xaxis_linecolor='black',\n",
        "                             yaxis_showgrid=True, yaxis_gridwidth=1, yaxis_gridcolor='lightgrey',\n",
        "                             yaxis_zeroline=True, yaxis_zerolinewidth=1, yaxis_zerolinecolor='lightgrey',\n",
        "                             yaxis_showline=True, yaxis_linewidth=1, yaxis_linecolor='black',\n",
        "                             zaxis_showgrid=True, zaxis_gridwidth=1, zaxis_gridcolor='lightgrey',\n",
        "                             zaxis_zeroline=True, zaxis_zerolinewidth=1, zaxis_zerolinecolor='lightgrey',\n",
        "                             zaxis_showline=True, zaxis_linewidth=1, zaxis_linecolor='black'))\n",
        "\n",
        "# Set figure title\n",
        "fig.update_layout(title_text=\"3D LDA scatter plot\")\n",
        "\n",
        "# Update marker size\n",
        "fig.update_traces(marker=dict(size=3))\n",
        "\n",
        "fig.show()\n"
      ],
      "metadata": {
        "colab": {
          "base_uri": "https://localhost:8080/",
          "height": 542
        },
        "id": "b17YyQfNRcLe",
        "outputId": "b9ca430b-f522-47f6-a7d4-005691e4aa2c"
      },
      "execution_count": null,
      "outputs": [
        {
          "output_type": "display_data",
          "data": {
            "text/html": [
              "<html>\n",
              "<head><meta charset=\"utf-8\" /></head>\n",
              "<body>\n",
              "    <div>            <script src=\"https://cdnjs.cloudflare.com/ajax/libs/mathjax/2.7.5/MathJax.js?config=TeX-AMS-MML_SVG\"></script><script type=\"text/javascript\">if (window.MathJax && window.MathJax.Hub && window.MathJax.Hub.Config) {window.MathJax.Hub.Config({SVG: {font: \"STIX-Web\"}});}</script>                <script type=\"text/javascript\">window.PlotlyConfig = {MathJaxConfig: 'local'};</script>\n",
              "        <script charset=\"utf-8\" src=\"https://cdn.plot.ly/plotly-2.24.1.min.js\"></script>                <div id=\"63a1de6a-08e7-4c9b-a3bb-438acbeba196\" class=\"plotly-graph-div\" style=\"height:525px; width:100%;\"></div>            <script type=\"text/javascript\">                                    window.PLOTLYENV=window.PLOTLYENV || {};                                    if (document.getElementById(\"63a1de6a-08e7-4c9b-a3bb-438acbeba196\")) {                    Plotly.newPlot(                        \"63a1de6a-08e7-4c9b-a3bb-438acbeba196\",                        [{\"hovertemplate\":\"LD1=%{x}\\u003cbr\\u003eLD2=%{y}\\u003cbr\\u003eLD3=%{z}\\u003cbr\\u003ecolor=%{marker.color}\\u003cextra\\u003e\\u003c\\u002fextra\\u003e\",\"legendgroup\":\"\",\"marker\":{\"color\":[9,6,2,2,3,4,7,8,4,7,4,3,6,4,4,7,1,6,5,9,7,6,9,3,2,5,1,7,7,8,8,0,4,6,2,4,7,8,3,3,6,5,6,9,7,3,0,7,4,3,9,1,3,9,0,5,9,8,3,9,9,6,2,3,3,2,0,0,0,1,8,4,8,6,1,2,1,2,0,9,5,1,9,9,6,1,8,5,3,9,7,4,5,3,6,5,5,8,8,0,7,7,1,1,7,6,3,0,9,1,3,6,1,0,6,9,6,5,9,9,5,1,3,5,7,3,1,9,7,9,4,6,2,5,0,1,8,0,5,6,7,7,6,7,4,8,0,2,9,7,1,3,5,3,4,7,6,4,2,9,7,1,6,2,4,0,1,1,9,1,2,8,0,0,0,9,1,6,9,6,2,2,2,9,3,8,6,3,4,2,2,1,2,8,6,0,8,7,3,8,6,7,3,1,0,7,3,9,3,3,9,4,5,7,0,4,8,6,7,0,9,3,1,2,2,1,6,2,3,9,5,2,9,3,5,1,5,5,2,0,1,1,1,3,0,3,2,1,6,2,6,8,0,6,3,1,3,8,0,7,6,1,0,6,0,3,5,8,3,6,9,5,8,0,5,1,3,0,9,4,9,6,1,4,4,3,3,4,2,0,7,2,5,3,5,5,9,5,6,8,3,1,8,3,0,7,6,9,2,4,3,3,8,0,7,9,7,3,8,1,0,5,3,2,3,1,4,2,0,8,2,4,6,7,2,4,2,3,1,6,2,6,2,2,7,7,7,9,9,3,9,8,2,4,1,7,8,9,2,9,0,4,8,0,4,9,0,6,9,8,1,4,0,2,7,9,4,5,0,1,7,1,8,2,2,9,3,1,3,9,1,0,3,5,8,2,8,8,1,5,1,4,9,3,9,8,0,6,3,0,9,6,7,6,4,0,7,3,7,1,6,9,9,0,6,3,9,6,3,7,4,8,8,6,8,3,8,6,0,7,5,8,2,7,6,3,9,2,6,7,0,6,1,7,0,1,5,8,5,2,1,8,0,1,6,5,0,1,6,7,2,5,1,0,7,9,6,0,8,3,4,8,8,8,1,5,8,3,5,4,8,9,1,8,9,5,2,9,4,8,8,4,2,5,6,9,7,3,7,6,2,1,4,8,3,9,4,5,2,6,3,4,5,3,2,6,4,8,1,4,9,4,4,0,0,7,9,8,7,5,3,3,7,4,2,3,9,1,7,0,5,2,6,7,9,0,7,8,4,8,6,2,3,2,8,6,4,5,1,2,4,4,7,0,3,6,2,0,5,6,7,3,7,6,2,9,0,4,8,4,2,0,8,1,2,3,7,7,1,9,5,5,5,1,0,0,1,2,5,4,1,7,5,6,6,9,9,2,1,6,6,6,5,3,6,9,2,2,4,4,2,6,2,8,6,4,5,8,7,1,5,8,5,8,6,1,5,4,1,2,0,9,6,3,1,8,4,9,4,9,3,7,2,9,4,3,9,4,0,7,4,2,0,2,1,5,6,2,1,3,0,0,8,1,0,5,6,0,3,4,7,2,9,0,7,3,1,4,3,6,5,8,3,1,7,0,4,3,0,3,3,3,9,2,9,1,7,5,0,6,9,2,0,2,2,1,8,5,5,3,3,9,8,0,9,3,2,7,6,8,7,6,6,9,8,1,5,6,1,7,1,1,0,7,1,8,4,4,9,6,7,6,7,9,6,8,5,6,0,0,4,9,7,9,3,6,0,0,6,6,3,6,8,2,5,4,4,6,6,0,4,4,4,0,0,8,5,3,4,5,4,7,0,1,7,9,1,4,7,5,0,6,5,5,2,4,6,2,6,0,9,9,5,7,7,8,7,5,1,3,1,3,1,5,1,6,4,0,3,7,7,6,3,3,6,0,1,7,8,8,9,6,9,5,2,2,7,9,7,9,8,0,0,7,0,1,1,2,9,8,7,8,5,0,3,0,5,2,0,7,2,6,2,6,1,4,4,1,2,1,2,0,5,7,1,1,8,6,1,7,7,4,4,4,4,4,6,4,5,7,5,3,6,5,9,1,5,0,4,6,9,1,8,7,5,0,6,8,4,4,7,7,5,7,5,2,5,3,7,8,6,4,7,8,3,5,8,1,0,2,8,0,6,9,0,8,3,9,5,8,4,9,7,3,2,9,8,7,1,5,6,0,6,3,2,9,0,7,7,3,9,3,2,9,5,6,0,3,0,6,9,9,4,0,8,5,9,3,9,0,7,9,5,5,2,5,1,8,7,6,4,2,3,8,0,4,5,1,6,3,5,5,7,7,8,2,4,4,4,3,8,5,1,7,1,5,3,9,4,7,1,0,3,2,3,7,6,6,0,5,4,7,4,9,3,5,5,1,1,8,6,3,0,2,1,7,6,9,0,3,3,7,3,3,0,1,7,8,7,1,4,5,7,2,3,9,9,4,4,0,4,5,6,2,9,4,2,0,4,1,8,1,8,1,2,7,2,6,6,5,8,9,8,3,5,1,0,2,4,2,3,0,8,4,2,4,9,5,8,4,8,9,4,6,0,1,1,3,5,0,2,4,5,8,5,9,3,8,4,9,2,6,4,4,3,3,7,6,6,0,6,6,0,4,2,8,4,0,1,8,7,1,7,0,7,1,2,0,4,8,5,1,3,6,0,8,7,5,6,6,1,3,8,2,5,4,0,7,2,5,7,0,7,2,2,9,7,8,0,5,7,2,2,4,9,8,2,2,3,8,3,6,1,2,4,1,2,0,5,1,7,5,0,7,8,3,1,3,7,1,6,8,5,1,0,3,1,3,9,6,8,5,1,9,5,9,2,9,4,2,0,8,3,5,3,2,6,3,6,0,8,1,8,3,2,5,6,1,0,2,9,1,0,8,5,7,0,2,6,5,6,8,0,4,6,2,3,4,1,0,1,9,5,7,3,6,7,4,0,6,7,7,4,8,4,7,7,9,7,0,6,5,6,4,6,9,2,2,7,3,4,1,3,3,8,1,1,0,5,0,9,6,0,8,2,9,8,7,4,9,3,0,3,7,0,4,5,8,4,4,8,8,4,0,4,8,2,0,8,8,6,3,1,7,5,4,2,5,9,3,5,2,2,9,5,7,7,5,3,3,6,8,3,5,4,7,1,2,7,1,4,2,5,9,4,7,5,5,2,6,7,2,0,6,4,7,7,3,6,9,3,0,3,8,1,9,1,9,3,9,5,9,4,3,5,8,0],\"coloraxis\":\"coloraxis\",\"opacity\":1,\"symbol\":\"circle\",\"size\":3},\"mode\":\"markers\",\"name\":\"\",\"scene\":\"scene\",\"showlegend\":false,\"x\":[2.805666153254961,-2.756619275020496,3.6604338468508812,4.786231668041842,3.4837463134338265,-5.032314436950698,1.085667987880134,0.4947453727566186,-6.567522782896854,0.6266555797934201,-6.800359684084847,0.7327278936733959,-3.9995341606515757,-6.345061342421476,-6.8874490350401985,-0.16253166645507083,0.28798494226643373,-3.5507988281851235,-0.608599929369837,1.8294245360764718,-0.625799028551213,-3.9749156283657157,2.635416441260786,4.093615459800539,3.74803129942155,1.640313417225057,0.255709741692128,1.3792641955581784,0.4749819699547521,1.348716964513443,0.7757050252098519,-2.9810607844372794,-7.941702192255014,-1.4249758049836336,3.676859472865932,-3.911370721911293,-0.23949419229197794,0.8238272975347656,3.4274047790200872,4.599844939708859,-3.550977541599033,1.4747328236288888,-3.6703012421384065,0.07771333508907631,1.8809263818582194,3.692399234236521,-2.3123476878337965,0.6364467971422958,-7.379968629880697,2.4661005670363725,1.2985447426103933,1.0262049832199356,3.065175897577075,2.5913240458812083,-3.9239777022998377,1.6515846773942502,2.1935823143475934,0.9987032872979756,4.512576665952884,1.7062045143020583,2.264652910997958,-1.7011026330433674,5.477653286183917,4.072012649086944,3.523683872304811,4.8944368480611296,-3.0109306605501573,-2.4910129325384798,-2.739048541891354,1.3332351655656334,1.5923772543021366,-4.3122420992684525,1.3614773339462896,-4.495022944861315,0.2869106561479864,3.432389234475228,0.21513370418587147,4.328460059802594,-3.6279557202435613,0.6025498194944994,-0.026111244387632192,0.7621808932484347,0.7623869685479123,2.5372744750564333,-3.1777107842651344,-0.010926728442912668,-0.24460804429872596,1.0508363985090805,3.9824277215492643,1.1060721691701756,-1.2866883064582264,-3.758380605445802,1.4346171231913547,3.088632186216847,-3.882229012307444,1.2163076005791555,1.1809034243960768,1.5077041289712008,0.4553332876748027,-1.7004808457419152,1.060672924132027,0.06770373738701074,1.473648294371068,-0.6561915355437103,-0.30589590320776405,-2.0480100819658533,3.3727017606606626,-2.8173691838538764,1.9519564375669765,1.0523960105754966,3.780233373798248,-3.0453564825516475,-0.22519586619828683,-3.341423375440681,-5.1583130143969935,-0.9969919083897923,-4.0555141993768045,1.0917842687473336,1.2716626070147918,2.1262220386676773,2.2492469313907084,0.8537439455835844,3.7625569995394845,0.7534199080121882,-0.02073708934555001,3.0027562394327822,-0.5774197255995561,2.2416704603257878,1.7671089042215553,0.446820800607467,-5.3544698101966945,-2.380510058416929,4.076982089972346,2.555230009905064,-2.186265981569492,1.572746020083269,2.4079613462581846,-1.829757560033105,1.6117303877565163,-3.929840245350184,0.07530356114309385,-0.32549194644379714,-4.127338980760297,0.4659559479928907,-3.463782942619868,0.9730293442359471,-2.973872781906562,3.7759715105929126,0.7989246351416763,1.495528063749966,-0.6577333964493113,1.5646847069252339,-1.058514198705341,2.662659740189228,-7.755687727499332,1.5698885481444433,-3.7792251931764285,-4.937771704245984,3.353011884315622,1.2550163143902748,1.2051930250620513,-1.6849769703309707,-5.029071675996048,5.120786267072787,-5.034307014801477,-1.7214548240462737,0.9852392401335578,-0.7186167472173157,1.448968817137711,1.4679272885421117,4.086082464371724,1.2972634454420262,-2.144573960479533,-2.2954500782245404,-4.495109947840106,0.5805984935276698,1.857091862303031,-1.960620040916058,2.34038224628907,-1.7941700455988663,4.457071898599944,3.0490174745844043,4.473141980485216,1.2309247824186844,4.125389883145494,1.2548060343297578,-2.641578008299723,3.385767153700686,-5.399773455666692,2.0763784644759866,4.643722298194413,1.5980699810341985,3.494981877942258,1.130608426482725,-3.9164792379787117,-2.568032721501347,0.7072069079192396,-2.5112327934279706,2.822543862949639,1.6262404729577145,-2.049888961945855,-0.06456011841005503,3.898564211664885,0.8391080823347838,-2.900986838948014,0.7483096260289188,3.890694590237661,1.2884074703997406,4.653837934176428,2.084157371668655,0.944197521801214,-6.042152027741006,0.5480901166591627,0.21620028936913122,-3.593851788432389,-6.637080742560669,0.553651633822409,-3.8831861774848573,-0.6022757531686234,-2.202829438344413,1.722195966458,4.372210229466007,0.17859136603362338,3.6267156670601075,3.47111757816352,-0.13561618782262683,-3.0504067321365826,3.025060086132202,3.3362053714784063,1.989648084923273,1.5550325834742211,3.284736696148248,3.1880188741572777,4.502212914712256,-0.5548767172810457,1.1329988235032011,2.244589907200106,-0.2903103232926376,2.556759599045941,-1.4631060802038738,0.18679411792641065,0.9469715289409958,-0.3008809992437144,3.878819065807016,-1.7321694418634959,5.156983731797757,3.635819890564351,0.17764938693426263,-5.121560317470227,3.2334945317740966,-4.8675062880601505,1.030531450684115,-3.530024690591231,-2.032852110294386,3.2322329286606473,-1.440903337305055,3.7119143338439033,1.6751231220242266,-1.7206214370430315,-0.40957757756717666,-3.8962043238043282,-0.24217126394727123,-1.543324480755578,-2.616456004103917,-2.894498397104863,2.4722876733136334,3.001142708861001,0.49017653357748275,4.5691358576088055,-2.803788009646794,2.037877314821126,1.7715159653635235,0.5120909210646297,-3.0553533384286014,2.4561333396282405,0.4011921083502544,2.662454716132248,-2.088200620324969,1.68563820309915,-4.401467448035858,1.132362625319657,-4.221166851626263,1.3149511369361209,-3.7193568635389407,-5.3545133456628955,3.3012470442724275,5.101622562848559,-6.29773500173332,4.349207087878795,-1.9151332505183842,1.0189213827965389,3.830450712994718,-1.2864309508026883,2.4450053376592167,-0.18427311957989678,-0.22559849767321655,2.631278274383949,0.3517617258753554,-3.279300237895119,-0.9766149819906526,4.537211040339569,-0.24669979927650815,0.6100302074481948,4.389662562073936,-1.957739026696678,1.7383685571854852,-2.96239325702217,1.662091042969263,4.654443556755798,-7.4999922206744225,4.270286362811432,5.152121455736611,0.4352357660901032,-2.6562562729016737,0.49915998131494205,0.1920154771996018,0.08374001710000185,2.970422344682976,1.6085915723389468,0.6123746456340176,-2.455885654756251,1.9516251010643166,3.8907300610736044,4.362041286963718,3.8699341765004007,0.0022840907502386784,0.0803893804615435,4.504342995851811,-5.0308436974883435,0.4608410685396707,4.0025414696773165,-7.085828804513686,-3.7793900591811473,-1.0548495294282276,1.3408791259237665,-7.124459522819105,4.591869681467266,3.7128398453430598,1.2593187451580754,-3.470709520624553,4.4431111244123365,-3.2263311942573965,3.766064532653294,2.3236485129756885,2.1238114713756833,1.7533749943066543,0.28308290596837365,2.1603601640263457,1.7332160411809774,3.945001075905327,1.9013335580821265,2.602920951634568,4.309118021660732,-7.811379794671192,1.2513294106712556,-0.03126407626071064,0.2888396440667792,1.6299032756731169,4.127848619424817,0.22122710077722213,-1.6092384816465628,-5.9272632414296105,0.9355827907696762,-2.893725881896608,-6.6992569211667625,1.6558963478499378,-1.883566291625844,-2.7903587277822126,-0.18535418530421519,0.9478816802271236,0.5657613018033463,-5.417837033874809,-1.783959969117243,5.261341857628169,1.4274935469037777,2.2162795455877173,-6.143717717505516,0.7809439446055226,-2.8840249300479086,0.6404023559014372,1.1759347777593472,-0.40073752606391627,0.4911554440863331,1.8667426868944292,4.628075387120583,0.8812413114065756,3.780101577394787,-1.128688950540192,4.023887024037738,2.2563465767824806,0.153914724956089,-3.26686111751949,3.3468947273409526,2.208785560889418,2.649380724925167,4.06147654297186,1.1525687986492625,-0.012502071694400686,1.154578275692729,1.66338696867476,1.1894208498495384,-4.721966312891958,2.132851584410139,4.460978533801309,1.2364398217556094,0.5876021067401764,-2.792216596027302,-4.434642776324302,2.9049191215136525,-2.697133928417881,1.9606471264957426,-3.438886885914698,0.08125705412764912,-3.5654332779424878,-7.041694900003138,-2.9095875321628033,1.9826304767394787,5.701381407736917,-0.3193656032762522,-0.035263199947888235,-3.5700933018917267,2.456053667179461,2.3674281765927176,-1.4491153118039157,-2.6078030647885577,3.8731792062277397,0.04857418719270643,-3.5893082296430383,3.72035382809827,1.8845078990870454,-7.385498640798128,0.7226529155807946,-1.429717507000955,-3.3131807787091194,1.7707058658649828,3.10732097561821,-0.32086293973365315,-3.5637199341418864,-1.1302543008165247,0.9575218824966573,-0.06461290616052309,1.7863402558490828,2.541098179862596,0.343917538016631,-4.1602051959271895,4.151723906854911,1.1518973997543176,3.078075412547368,-2.994257483239081,0.3111178813308791,-2.3435541522244057,-3.036480811488351,1.5528260481846168,0.9456860731897139,-2.880586757078216,1.507007136433839,0.7847941023616154,-0.19221168949425488,1.2679449504486444,3.494452299982734,1.1679918308271549,0.48213325596741036,-2.1925696611091228,-0.2824748068978138,-4.983355531263097,0.5650299543546402,-1.3635724800288052,1.9807038899165559,-2.1725987541991385,0.4343852939294874,3.4179826695932705,1.4679150164482975,0.913327171342594,-2.277348618731714,1.7376023772055036,1.0957493243198153,-3.9657629431346115,-1.6541833259681917,0.12497751941773085,2.4025448370709466,-4.201442800372759,0.6060045337784892,2.2489665071899188,0.6669722731294176,-0.19296321862088306,1.9936751120347982,0.5038810845295799,-0.022810533667676946,1.408128068218872,-5.852632697901029,0.7549252003056692,3.681689474104075,0.8679997431215641,1.1846076793393923,-1.125575227502748,1.7115282435456467,3.9621187408731355,0.48928793453185876,-6.452697747594532,0.5413239462083705,-0.1329341522472326,-5.822312517174753,1.5020159584313872,0.8051400446185568,-4.074589473928152,1.0437162657993873,0.6673539968216877,4.492005225646756,0.3205439450250102,-3.283113135362646,4.449074124099791,-0.6506436082609821,-5.826234280021674,1.0649758089827612,3.9863483846551264,1.027644872374827,-6.042535953410836,2.7221305548272765,3.4864360003581134,-3.394782636022927,5.0877684533738945,-5.863128879887436,2.7561105866823548,3.5323057499316004,1.4475796909903909,-3.5569268569868595,-4.905380814896256,0.057536946898866605,0.5237235508864786,-3.2415494974014676,1.741909292037028,-6.388675068853628,-6.460465237897188,-2.9414080939479805,-1.198969104828828,0.516757316658899,1.826546415938416,0.6756975141776461,-1.3692465233392013,1.3455717578810584,4.487611121273021,4.354407203333454,1.4150471320918157,-6.109518568940632,2.879930613571963,3.5911846081370924,2.7387844506358574,1.2798866627731604,0.28493375050570063,-2.0122971783616506,1.0078285131049531,3.7183270476396864,-2.048153466648724,-0.9723486896358476,0.3281792807878956,-1.9452372447077606,0.9138338177667749,-1.3118625047100572,-5.1129225704404755,-0.20240591060526142,-3.0334607899227133,4.795059618701714,2.8148627375966244,4.5798305192098105,-0.021401367977231068,-2.511161401364338,-5.9639718917559525,1.1311181011010003,1.3867761867956694,3.2918095043265394,-5.590223159865543,-7.755364957306854,0.4012532586615633,-0.8082961134863126,3.212704374556574,-3.6647647520365045,2.7051816121821193,-1.4886637890898309,-0.5369861413631485,-3.570229588214852,1.1769960591598525,4.79657658978821,0.5463013678586499,-3.0339314792051204,3.8905113988767996,2.1823851750015137,-3.0454705119813625,-5.49405539557356,0.536077511084093,-6.071306258867223,5.824724834555853,-3.492780494013008,0.23230985395351827,-0.11050993555558157,3.450747532198315,2.0277806916897023,0.9981139401804725,0.8868851533871902,1.8598869048225224,2.2695254196697086,0.028545941276777745,0.8784733530163149,1.467727863333238,-0.23571247057948883,-2.7731503549048284,-1.6484830339272964,0.7820815417329768,1.2962659579203046,1.8506274109102503,-5.726974052929524,0.019866898368314914,-1.7907640349262859,0.4065166022641737,-2.850685089192896,-2.451644895136599,0.8172831971650732,1.598054711736788,3.1877922115949935,2.774917794513727,-2.0573111291190087,-3.5163770300608665,-3.275496617530026,0.4831220200513083,4.673061736292724,-2.920499852607536,-1.2022617997697622,4.698562879671917,3.342312501151043,-5.36283947287335,-6.431386082773403,5.012091910748983,-3.5254642440066677,3.9424278270190447,0.4680735743373419,-3.759451290406311,-3.2590820549972057,1.8078727825424945,1.8092130353758418,2.380644919662969,1.6202766628354284,0.37829408455995206,-1.1786530843219538,2.686368743743896,1.0233766407121552,-2.7341590464896397,0.9897936308818098,0.4467038153302748,-7.187855233894562,-1.898510268884817,3.4422287671885474,-2.1437097638973497,1.0014905317135934,-2.5757411634786123,4.7000371976964415,0.10034979794089129,-0.1444015565816254,-6.341311697582097,1.175610471809277,-5.47077720212316,0.2732739091881556,3.9895318203804115,1.163914431325371,1.9172608756397158,1.797546936966252,-6.063053056406259,2.402639726757674,1.5528804022201375,-3.9402950690308534,-1.8729373606214708,-0.4752760046658529,-5.125364897562755,4.047956174286849,-1.7191936500468092,3.5194025478936295,0.8293177779823815,0.6717997313741,-3.1562734241521913,3.7205486533117313,0.7207660218442158,3.7543563896180343,-1.456304293713282,-1.8229206673487708,1.2668231956302598,1.208738980500358,-1.8975735760339278,0.8727446735451622,-2.9794581144947854,-2.429105976073217,3.476855575719979,-6.1667992091818595,1.2814836080625034,4.412989434684365,0.8403624051290756,-2.4976510963823717,-1.1426218526088796,4.101824335721459,0.05792782247674535,-6.164599941746348,5.149443361658468,-3.393876733298273,1.5146410318577663,0.20530476860356833,5.164976149525024,0.555125761983224,0.1539842054394442,-0.8674670984876475,-6.513723044209341,2.5178764837742906,-1.716721020352235,4.354779650805605,2.194361717066438,1.5904794791324934,1.871543998080843,3.955339677509291,1.023129917918837,1.56445986018047,-0.2628120183701444,0.13788620466710194,-1.0410438202529642,-2.353129648344089,2.0891744727570405,2.4172777086587107,-2.7440249811290727,3.717765837243331,3.975328274782979,0.11427922952702761,0.566026997089322,2.963853734554088,0.20974300699579335,2.6951253499024297,4.9301655948467475,1.8339435520999918,1.820789207164081,-2.3832787282268932,1.2426467667365726,2.7937246939531497,3.196775011012483,-0.9555319210998345,-3.9390100889054978,0.08388567929834696,0.14538137950331348,-3.5515433031678425,-4.246935343426266,0.007823399295522995,0.6030209237064026,1.1229836641469804,1.5741152038592667,-3.7278578027785607,0.5398964307544462,0.16482269109623254,0.11022929770440253,0.9824573807229492,-0.37207365648936874,1.0377865255157606,3.015868455565113,0.27096587430115987,-5.152786841084058,-5.395892193869074,1.3939637275789944,-3.6961041500958305,-2.452832396504608,-3.1737230858910532,0.5832106859293396,3.540033948992993,-5.765816448487983,1.4779541913134926,-0.44388579540210954,-2.2932493953093553,-1.6993889167046305,-2.9755257920440488,-3.092018431107168,2.986983834431813,1.4020446975766423,1.5157079632044703,3.544183514138025,-4.076474852095171,-1.049173866344337,-2.369170254234876,-3.889078732675695,-4.608495923256883,4.272586211804115,-3.193310836897553,-2.3271412720256763,0.5922821957151267,1.6116011059705537,-7.564351145292711,-4.1820524480169645,-3.8644741197682286,-2.375872020768067,-2.1185575227873668,-4.676265984356594,-6.587542230128823,-5.983573670480119,-2.2668158880652447,-2.6217576425934723,-0.5215379328464521,0.36941062758449134,3.6260422669632355,-6.04942444012717,0.2583302924984066,-6.014201534409063,1.4460161068607553,-1.0209700572270852,-0.181524908565941,-1.175885697603813,-0.12650973008405875,0.9813599236230021,-4.651776023157732,0.7553920430290857,-0.8573214994960294,-2.1655908871798406,-3.2292163378165095,2.6238660575599297,0.304517700520782,3.12621028090574,-3.340379974565155,-3.678781913761261,2.8085356914588218,-3.681767778312151,-1.9970111279926768,1.2461635599634278,0.4829357209288757,1.3880856776513568,0.4315878164921611,1.7675475640164162,1.2388363982193933,0.6636771952880918,0.9400483186623496,-1.0465809183196924,3.8937318621029657,0.09080312292765742,3.1052502547410725,-0.4585896327859726,1.46663554181636,1.5877075918051065,-3.6080809651260464,-8.001144238823489,-2.8743350515588957,4.600321378540445,0.2424709289033818,-0.1021913847109585,-3.9393115616731857,1.8096133734346656,3.29295630678538,-3.38969046914846,-2.2606579185147377,2.649536984753216,-0.9731721761535489,1.551514924474838,0.36257956099932,0.8296639314851577,-2.5281895388855853,1.8466579577725795,-0.6051346719164458,4.140152543702205,4.399654184535467,1.235642187548579,1.2934914450894757,-0.37805737814384904,-0.822648429055485,0.9628612883617692,-2.0593707309387277,-2.5950699021362627,0.16795176264231954,-2.898293133631878,1.027020065969731,0.5822765028324811,4.1523763427805935,0.5121471699513671,1.5573028634246333,0.4299486948159858,0.9221164031627554,0.022940130090528157,-1.7329666943681319,5.362367017352438,-2.333063122155453,0.19864811990395032,5.113851965537163,-0.6572145219328885,1.6149894812989225,0.8226153293281795,-3.7813715317639436,3.5865859426197586,-3.3342218665028964,2.0013024271562703,-5.498840622406563,-6.791140663747395,0.20610160627743707,3.0412162968563607,0.9966276081966813,3.898307622464021,-0.6973327097386055,-0.03445724756385865,0.34304921454215204,0.08079253566838117,0.8983413465667565,1.0570127352834526,-1.993450737028389,-1.241465209347184,-0.14066883108353118,0.025833792830393068,-6.306564500902863,-7.2526043425596045,-5.359113246058454,-5.453651892734957,-3.7187731544494285,-2.459390698726891,-4.163389425644659,0.20489850104671498,-2.7148122687346175,1.0552446332109686,3.2875923464656664,-4.201443923279275,0.6965449607873235,2.1128749614474267,1.4613071716958403,-0.4683085163418139,-3.184909302218948,-4.230848214921901,-3.0978785276598035,0.7764372312396367,0.4798777127882751,-0.9869360305441965,-0.18458328751256625,1.6491212554675205,-1.9973051356148377,-2.9505888923858237,0.8635968044052111,-6.783149804923974,-6.329134352498953,1.2133907267350112,0.13484411089267653,-0.954936229700703,-0.8869528111721247,1.0465649658849039,4.104577044074998,-1.5807736907740495,3.668911015004301,-0.10849932938392852,-0.6453635517697519,-2.411423829685536,-0.07482337349203726,0.7229112488136322,1.3452356786395032,3.498540601430764,1.1045469399082637,0.29554019445768237,1.425894738732999,-0.8884757705507332,4.3209663448975,0.6207817727687543,-1.7234537098905156,-3.2064805957364926,2.518688085054188,-1.80448115096756,0.7817651037026673,3.217523882552948,1.4889298291751014,0.024763728122246947,0.9582955084297659,-7.585728502395002,0.5452151151537683,-0.10113136578940017,4.031924805629298,3.9597194958920134,1.824949701900207,0.7234314452558515,0.7889969882913213,1.2475827192622873,0.03789463836822145,-4.255894803776753,-2.0822482784406424,-3.1175215760653288,4.161459885336676,3.25551674768162,1.9859183626705141,-2.108677490922274,0.8195322355430803,-1.1232580288358867,4.060882143344015,1.6087052673419517,3.6313068775503474,4.283146872836684,0.7443299160699419,2.445668656341772,-3.043862270302564,-1.879913743196009,4.193655703595599,-2.903463043536759,-2.627449200727312,0.8046092641584691,2.4646562363866686,-7.401171275823894,-2.4358450853815947,1.0052496596729952,0.9500428374583704,2.591354688223952,1.9370404233651626,1.7234278819838633,-2.018283412711018,1.683376657059652,2.7003573115948463,1.7704102546977585,0.5488737762962503,2.0590670134612177,0.8715436209502174,0.08536681222226362,0.46087248310662376,1.556570959017927,-4.10998430085125,-3.7558124475376795,3.7552094300545784,4.9228912284189965,1.322762744225214,-2.6702416612566027,-5.93794825933031,1.7808895124747663,0.18043933935571171,-2.3888629341676166,3.976250744178649,-0.21563046261922958,-0.5605423102454923,1.8803459422748867,0.3071605148422453,1.4899225881369302,4.606931642609309,-6.469408564168766,-4.032560686568475,-2.750547679712648,4.441369078194037,0.4740440468256706,1.5689375200233937,-0.9231047409031995,1.7716649731884755,1.3478755523900272,1.6748177200926537,3.97417400959923,1.2280257721258423,-6.151803815921169,0.19339372426817897,-0.49353344392242204,-1.576416508217075,3.904614277945548,1.2062069191436553,4.485783668794002,0.7743136923780007,-3.264010665137868,-4.6714071314641465,-2.277217933487909,-1.008596255772891,-4.352761435029921,0.710104736340984,-6.331206586951559,2.040704113864766,4.384108702271997,1.5124697236837032,2.1278094827376615,0.6421866363463858,0.5872512071482978,1.6374771965485413,-3.7887693598392174,2.1167060091550507,-4.271020871217819,2.5270426365565544,2.643344891940759,1.0679453550431284,-3.8456930192869923,1.910260650376743,-2.4637108341611444,4.174397393531652,3.00064373259874,-0.6443793627123438,1.8250601652122356,3.309895988310216,-2.17650701725545,-1.3685519654179554,0.3318444178218069,0.677010563759147,1.404514927924344,2.1656880672520686,-5.002943408476859,-0.1271387135253599,0.5614477285141739,3.771528123920932,2.7956723003366624,2.1132737495643465,0.3535084059344213,-6.84243303557467,-5.739960921113141,-3.1607282629401596,-2.53463437037651,0.0518289881505078,-2.740964434979893,3.0218736909356925,1.9185420190087976,-6.623306240090854,2.2071662858714034,-3.0289041432694943,-5.44423688011356,1.4023829242168884,1.1073963543743393,1.3732155905171,0.3820499782979021,0.9102352717619622,1.5353756515012666,1.1652712480406888,4.558114579632149,-4.127620415468147,-3.0211448012305993,1.58780392819769,1.297743818362894,2.0599047730446443,0.030374843823421618,2.2624300070207046,-0.4889256722901356,2.9042019636939806,-1.1039687870401775,3.391509412445757,-4.415890264056655,3.23625807291486,3.883019036508394,-2.877271798955519,0.48424200034601333,-6.820265837277444,4.8421004457706225,-6.532054067231713,0.998611834569275,1.2665143069146205,0.7556704566045872,-6.899659253887297,0.22320690792319386,2.437044951157698,-4.869333179220412,-2.8721608055817924,-3.0054294344132746,2.735477975303959,2.097854138816965,3.612435862572976,-0.7038945596898747,-2.15877366978112,3.433315833818517,-6.275664864404575,-0.1357032050704868,0.576059584236238,1.481035800295297,1.8601703138631527,3.669207737394287,0.6250454694935601,-6.416265128063231,2.1128942214296935,4.953980088155247,-3.6855840889569422,-3.9209696066095505,-5.1540053535784365,4.004851051008024,5.063963634814897,0.2334038624981734,-3.6819349441664886,-4.204414167656392,-2.3375335384223987,-1.6496205422044177,-2.6336153592667375,-4.020115727603181,-6.708331426841335,4.218901495565248,2.3359350030297144,-3.0288792011324737,-2.4269075637121142,0.7579621516200974,1.709814054041523,1.7953263638159669,1.423056560825779,1.5677418003225791,-3.2775516692075617,-0.6738207441745585,0.7051747635515901,3.1295026391699143,-1.8345826728135133,-6.487553746628959,0.5599006897922902,-0.7745447707254915,0.3278596589308241,2.1311846227915017,-3.4262098113029973,-0.7509179670837699,0.12284767846023341,0.6300629182017332,-0.05441249036146552,-3.556548669992373,-2.8382359767508576,0.04722886602300035,2.2624408362328947,0.9421588997460579,4.277172049081188,1.7034844954356925,-6.964557130123216,-0.7973292720030283,1.2302335584593938,3.0716041457566665,1.9792277550073158,0.604230374203834,-2.811344714599461,-0.07711623050353576,2.5511070997657446,5.442690640529788,1.563038020771837,-2.0859681266514425,1.4661976378445447,-0.5498074132343329,1.5647073671790184,-0.6825808296468944,3.292831768539801,3.0146013568403007,-6.936806248248911,1.3413818362444658,1.6901266770388306,3.942711977802367,4.572090967309592,1.8750148321149749,-0.03378756320530298,2.1417822829310786,-3.071225416758155,-0.8482975326909588,2.727856473167996,-5.309545039239368,0.7050331539447333,4.2091072170028285,-2.6595117497123155,-0.2647286244891743,-0.12069582203732637,-1.3152203303450019,1.0505546632960643,-2.0572642987660608,1.741299790565349,0.8909408807535624,2.97487041027417,1.6718145885765792,2.8873051676554784,0.9630551219572648,-0.07765500373951666,-4.454632667660911,0.774616334822368,1.7690067448733608,0.8140535598210016,-1.8548064289087487,3.7601928622716017,1.1753944741843088,3.5188947152287504,1.5282287026393802,-3.3055046358079623,-0.7670794159652782,1.0572277188955248,0.11150612010552437,0.7498142071487508,0.38454111062779367,1.2421395511260853,3.4285054888316884,2.101526853416945,-3.9366669697308985,4.597132313601585,-3.509652787628801,1.2933441983144416,3.593393590096698,0.5676946922778199,2.795464492831824,2.970870434519575,-4.140448211643641,4.275860229610199,-1.5280482570163396,-2.4649029995243668,1.0099188154714727,-0.2660686253379489,-0.2758769048296078,2.9766896048986804,2.654168563005327,1.4081842806269644,-3.1781971859242697,1.0076617848887877,-2.0715716393434342,3.977117786587031,0.799273950703767,1.8196993576295801,-2.451249983340886,0.815016144765312,1.3828140227519778,1.5940898104053738,-1.0997413572956058,3.143134886575723,-0.17575975086121393,1.527186138448985,-3.681503403416745,2.4892442375447623,-2.0903864527833305,-6.772252037387164,-3.073189482981037,1.3341624309731421,4.6807346579343605,-4.5287259915057785,1.8686305059115476,-1.927500205480433,0.2748906194582164,1.8128984091439162,0.9117397810657837,1.0562932852378173,3.9693418387628268,-3.9855613503986764,0.6828830045439356,-4.9498778857121195,-4.047905367788947,-4.3255123808840406,0.9716755345738596,0.23388239001106964,-6.190008257395705,0.2331562845052875,-6.4204119899646255,-0.2747090588446993,-0.16830680478943272,3.1050754457494887,0.43460124350561774,-2.7239858739307534,-2.9567357369080467,0.8470041056830131,-2.2530996800874856,-6.959235518204585,-4.082728548087873,0.6735810964987367,2.619049475155342,4.144746087511403,0.7102636976582162,1.88771091236629,-5.823926612699459,-0.49103918712528116,4.301197219635966,3.130430871127577,1.5727210364386424,0.9783010873182322,1.4845826810499496,-1.3808181484322255,1.161883208514175,-2.0023781901711915,-0.6622984959345392,-3.3554087503611,-3.696676873323584,-1.1965985313794054,3.520545010764309,3.225969580530892,0.5495339261119758,1.2425611851204463,-4.485176731196798,2.5827800105146475,1.8166810003724538,-2.189249692087886,4.349237635550813,1.566659250123767,-2.238608025423109,-2.6954199416162097,-1.5694791372394974,0.4838796785151526,-5.862644356806499,-5.43685027243883,0.9648329595903932,0.8956783940994394,-0.914264966805178,-2.5508887796196134,-8.770915648213832,0.9512062070163566,3.8657812554828936,-3.219520712054531,-0.2995078546657939,1.3861880656418917,-2.8232915177161195,4.569902068746916,0.7475191426086559,-0.3029097728747664,-0.4070556040223154,-5.564403893788,3.5671465501497295,0.7477384711701025,0.20771392512473905,3.2205098681569897,0.878193155938715,1.7367212090562598,2.065198318932137,0.32325703144627693,0.25568225507455533,0.463029039709333,1.912603424972033,0.307963513478493,5.076230591295567,4.6995665509497115,-2.5381389663459553,2.292301056996249,3.434816519845484,0.6918775695070472,-5.850477355741086,1.3826612895596095,1.8628785176188734,2.424515381485299,-0.16566478114446903,-1.1121706037142882,-5.647680470146068,3.2707183055757616,0.93785774456952,1.1854024331754291,-6.589041156349635,1.748711863977476,2.1066482663422796,0.647030730995938,2.4672362632513,-3.657450556167351,0.25536872259954385,4.038477197861208,-3.7458596633037367,-3.0479595115320364,-6.060622432085943,2.1045393183436714,1.6986211145606527,3.794218546134641,-4.263089597363563,2.451628607242188,3.63793125869833,-2.2463082529550213,4.1086357308780554,0.916215708286855,0.6919517705686093,-0.5617715356114767,0.8785198175979665,2.5620109411641474,3.134360159748933,2.0131274656271825,0.6327430657207431,3.1792540868962917,-6.601056646861677,2.371552164244776,-1.1411889309583654,1.0320375198555414,-0.5617856320413662],\"y\":[9,6,2,2,3,4,7,8,4,7,4,3,6,4,4,7,1,6,5,9,7,6,9,3,2,5,1,7,7,8,8,0,4,6,2,4,7,8,3,3,6,5,6,9,7,3,0,7,4,3,9,1,3,9,0,5,9,8,3,9,9,6,2,3,3,2,0,0,0,1,8,4,8,6,1,2,1,2,0,9,5,1,9,9,6,1,8,5,3,9,7,4,5,3,6,5,5,8,8,0,7,7,1,1,7,6,3,0,9,1,3,6,1,0,6,9,6,5,9,9,5,1,3,5,7,3,1,9,7,9,4,6,2,5,0,1,8,0,5,6,7,7,6,7,4,8,0,2,9,7,1,3,5,3,4,7,6,4,2,9,7,1,6,2,4,0,1,1,9,1,2,8,0,0,0,9,1,6,9,6,2,2,2,9,3,8,6,3,4,2,2,1,2,8,6,0,8,7,3,8,6,7,3,1,0,7,3,9,3,3,9,4,5,7,0,4,8,6,7,0,9,3,1,2,2,1,6,2,3,9,5,2,9,3,5,1,5,5,2,0,1,1,1,3,0,3,2,1,6,2,6,8,0,6,3,1,3,8,0,7,6,1,0,6,0,3,5,8,3,6,9,5,8,0,5,1,3,0,9,4,9,6,1,4,4,3,3,4,2,0,7,2,5,3,5,5,9,5,6,8,3,1,8,3,0,7,6,9,2,4,3,3,8,0,7,9,7,3,8,1,0,5,3,2,3,1,4,2,0,8,2,4,6,7,2,4,2,3,1,6,2,6,2,2,7,7,7,9,9,3,9,8,2,4,1,7,8,9,2,9,0,4,8,0,4,9,0,6,9,8,1,4,0,2,7,9,4,5,0,1,7,1,8,2,2,9,3,1,3,9,1,0,3,5,8,2,8,8,1,5,1,4,9,3,9,8,0,6,3,0,9,6,7,6,4,0,7,3,7,1,6,9,9,0,6,3,9,6,3,7,4,8,8,6,8,3,8,6,0,7,5,8,2,7,6,3,9,2,6,7,0,6,1,7,0,1,5,8,5,2,1,8,0,1,6,5,0,1,6,7,2,5,1,0,7,9,6,0,8,3,4,8,8,8,1,5,8,3,5,4,8,9,1,8,9,5,2,9,4,8,8,4,2,5,6,9,7,3,7,6,2,1,4,8,3,9,4,5,2,6,3,4,5,3,2,6,4,8,1,4,9,4,4,0,0,7,9,8,7,5,3,3,7,4,2,3,9,1,7,0,5,2,6,7,9,0,7,8,4,8,6,2,3,2,8,6,4,5,1,2,4,4,7,0,3,6,2,0,5,6,7,3,7,6,2,9,0,4,8,4,2,0,8,1,2,3,7,7,1,9,5,5,5,1,0,0,1,2,5,4,1,7,5,6,6,9,9,2,1,6,6,6,5,3,6,9,2,2,4,4,2,6,2,8,6,4,5,8,7,1,5,8,5,8,6,1,5,4,1,2,0,9,6,3,1,8,4,9,4,9,3,7,2,9,4,3,9,4,0,7,4,2,0,2,1,5,6,2,1,3,0,0,8,1,0,5,6,0,3,4,7,2,9,0,7,3,1,4,3,6,5,8,3,1,7,0,4,3,0,3,3,3,9,2,9,1,7,5,0,6,9,2,0,2,2,1,8,5,5,3,3,9,8,0,9,3,2,7,6,8,7,6,6,9,8,1,5,6,1,7,1,1,0,7,1,8,4,4,9,6,7,6,7,9,6,8,5,6,0,0,4,9,7,9,3,6,0,0,6,6,3,6,8,2,5,4,4,6,6,0,4,4,4,0,0,8,5,3,4,5,4,7,0,1,7,9,1,4,7,5,0,6,5,5,2,4,6,2,6,0,9,9,5,7,7,8,7,5,1,3,1,3,1,5,1,6,4,0,3,7,7,6,3,3,6,0,1,7,8,8,9,6,9,5,2,2,7,9,7,9,8,0,0,7,0,1,1,2,9,8,7,8,5,0,3,0,5,2,0,7,2,6,2,6,1,4,4,1,2,1,2,0,5,7,1,1,8,6,1,7,7,4,4,4,4,4,6,4,5,7,5,3,6,5,9,1,5,0,4,6,9,1,8,7,5,0,6,8,4,4,7,7,5,7,5,2,5,3,7,8,6,4,7,8,3,5,8,1,0,2,8,0,6,9,0,8,3,9,5,8,4,9,7,3,2,9,8,7,1,5,6,0,6,3,2,9,0,7,7,3,9,3,2,9,5,6,0,3,0,6,9,9,4,0,8,5,9,3,9,0,7,9,5,5,2,5,1,8,7,6,4,2,3,8,0,4,5,1,6,3,5,5,7,7,8,2,4,4,4,3,8,5,1,7,1,5,3,9,4,7,1,0,3,2,3,7,6,6,0,5,4,7,4,9,3,5,5,1,1,8,6,3,0,2,1,7,6,9,0,3,3,7,3,3,0,1,7,8,7,1,4,5,7,2,3,9,9,4,4,0,4,5,6,2,9,4,2,0,4,1,8,1,8,1,2,7,2,6,6,5,8,9,8,3,5,1,0,2,4,2,3,0,8,4,2,4,9,5,8,4,8,9,4,6,0,1,1,3,5,0,2,4,5,8,5,9,3,8,4,9,2,6,4,4,3,3,7,6,6,0,6,6,0,4,2,8,4,0,1,8,7,1,7,0,7,1,2,0,4,8,5,1,3,6,0,8,7,5,6,6,1,3,8,2,5,4,0,7,2,5,7,0,7,2,2,9,7,8,0,5,7,2,2,4,9,8,2,2,3,8,3,6,1,2,4,1,2,0,5,1,7,5,0,7,8,3,1,3,7,1,6,8,5,1,0,3,1,3,9,6,8,5,1,9,5,9,2,9,4,2,0,8,3,5,3,2,6,3,6,0,8,1,8,3,2,5,6,1,0,2,9,1,0,8,5,7,0,2,6,5,6,8,0,4,6,2,3,4,1,0,1,9,5,7,3,6,7,4,0,6,7,7,4,8,4,7,7,9,7,0,6,5,6,4,6,9,2,2,7,3,4,1,3,3,8,1,1,0,5,0,9,6,0,8,2,9,8,7,4,9,3,0,3,7,0,4,5,8,4,4,8,8,4,0,4,8,2,0,8,8,6,3,1,7,5,4,2,5,9,3,5,2,2,9,5,7,7,5,3,3,6,8,3,5,4,7,1,2,7,1,4,2,5,9,4,7,5,5,2,6,7,2,0,6,4,7,7,3,6,9,3,0,3,8,1,9,1,9,3,9,5,9,4,3,5,8,0],\"z\":[-3.5838473726931124,-2.0089593304335622,1.026738954376094,1.8491392133959055,-0.14066181294089417,2.7918716610844587,1.4345737188030152,1.785355729061769,2.143296429659915,2.307718664689999,3.753168005273015,-1.8563465978353662,-0.6309884318620234,4.2844825388210825,2.0902503244352477,2.7793423839777693,0.48768259098438427,-0.6829803723531332,-1.3032376524813984,-1.684673693470463,1.624899354608798,-0.0036435508081663084,-1.1737398487546549,-1.5583459860945812,2.7708672302913886,-1.1060433772547082,2.5110775607106945,-1.2730571428922874,2.314868502156116,0.9962150221046676,-0.5918527033865718,-4.9710178620998455,0.6343831242224647,-0.08221383521583939,0.33709933533382,3.5006614715204063,1.972465512001192,-1.980755482300708,-1.6580077746025794,0.9990890568856837,-0.771729027550908,-1.4950126378032975,-0.2159131644768424,1.1857572897672282,1.9066488085921416,-0.09269032035522515,-5.540737273617667,1.420392253234195,2.655659832201288,-1.6700343134772924,-2.3420316025128582,3.970376442598556,0.32141373441757526,-1.1273451826873526,-5.124001693486102,-0.3224713416818649,0.024785861237647068,0.504715357936883,-0.5457149180478789,-2.18486108658604,-1.2558311348684599,-1.449600196903427,1.9341086805299672,-2.1828952110335713,-0.4463004105440284,1.2720867017801816,-6.222097144119155,-5.301445500874862,-3.5872494266961494,3.402769931855737,0.9227819638761107,2.355347652761534,-0.34407759721710107,0.2817506101995848,3.619246528468371,0.5380438766910752,4.11011136814004,-1.5063856892986192,-6.380695927749475,1.8799329174707207,-1.4537698414470406,1.8358901407826866,0.017159653050383077,-1.086282276218404,-0.27618993222651156,1.3763252208536798,0.5366611739131635,-1.0025597684609209,-0.7268452243150377,-0.2101836021564295,0.860388819706802,3.4211079891976373,-2.4785267627565606,-0.7250108689365367,0.08093514255202808,-1.974272448785199,-2.1305819176006704,1.0233209959124758,-0.317605766036282,-5.7605604767648515,0.9207563698040848,2.6236064414112854,3.6719482963680123,3.6043959004304447,0.6407459932095534,0.6157869073926797,-0.5433537335245028,-5.460969737955701,-1.1417152156019348,3.0257275419769685,-0.44215706327116383,-0.4287541191589081,2.8417928985236722,-5.680195798673306,0.07743268628389079,-0.940057012270204,-0.42267655614269817,-1.049715121476113,-1.5679308611449652,-2.6963697460083527,0.3910268021207419,3.8450966246366076,-1.2969534842552333,-1.4661980680947708,2.736821194178447,-1.1945402832847898,2.494576078096184,-1.2758850782568745,3.24857960310217,-2.045753642488897,2.6641920001159107,1.677486542081827,0.33490794826553294,-0.06723750001755929,-5.490158832024046,3.7454365606279088,2.305051097847862,-5.177318651716917,-1.8425880325472965,-0.47252861613951586,0.6468971713396293,1.539618985257267,-0.566454624295122,1.7360948752423395,3.2391597894555804,1.4894384719640674,-5.69044396931518,2.070703592206019,-1.689441065842141,0.51250885029253,2.9773368524916974,-0.7285552658959346,-1.5849721871759068,-0.916650254595966,2.1440793159296936,3.2736137959465235,-0.15126461948094208,1.5906351534873973,1.796426971904131,-0.38008130555706804,1.81847911760962,2.638638314620023,0.37155658190099417,1.9735362780910197,1.7599625899295812,-4.9248422400908405,2.544815701760321,1.2882972622280113,0.5320121719279773,3.047723221714741,3.425243633694198,1.6795486951829393,-5.4952470720159345,-6.189774196615111,-1.4694807317132346,-1.677693326357524,4.228046805518445,-1.7623455629021811,-1.0146128805410555,0.832151048243009,2.3961109939576657,0.5038054908650373,1.6874985851227868,-1.0303921848905033,-0.6584617380845292,-0.6946637085073959,-0.6841460585224111,1.403511998136728,1.7317940094315232,-1.47990331904033,2.8343620675841956,2.8929077810348818,1.3217818270137554,1.247574442061855,0.06554982374844232,-4.124078437309762,-0.755576822825956,3.4810353042629325,-0.8857812078520574,0.5255238011518147,1.2206582737102925,0.1138428840786805,-1.0154068028753862,3.08012149086612,-5.084569205294207,2.0755321670599387,-0.09750467731649846,-1.6032969586395598,-0.6301446262086148,-1.4244177024647167,-1.7137045317955308,3.76127949039687,-1.1997319949846406,2.3502037905880875,-3.9230080958338216,2.875071422492241,0.4153577060387438,-0.5902095033297462,1.6673380524225125,-2.605382023538157,-3.10885098943353,-0.9917760739450864,2.613938495869187,1.3103708825946796,1.5194053958090168,2.8025835724774693,0.2617656114038123,1.270749469895542,-0.40028830586628245,-1.9784991332517832,-2.525014346828541,1.162536236314173,-2.2160955480260216,-1.1290239026583664,-2.9853005390443355,4.161523510587617,-1.6468921397530942,-1.5849715926001844,0.3050717440797669,-4.048983738234776,2.4495070680409365,2.3740164694463126,1.8942287251803824,-0.9557137693067935,-6.297877456362852,-0.6091385217126364,1.4147773566549933,2.4634464016218183,0.19854206048386452,2.0317054921616413,0.5491770121713261,-0.5679593952111661,-4.753243812270103,-0.20191644591475247,-0.9200591376808108,2.8778049619812514,-0.26743038974876393,0.13570235705608266,-5.0569216494529154,1.197299951624204,-2.27715582816117,3.5172079965896814,-4.211727084332963,-1.2281884108087242,-6.182562897415773,0.07846773200085148,0.5011649862280982,0.7970200312150701,-1.478448157949361,0.41553128592355826,-2.3398178586744343,-1.2078370507872027,1.4478684271015512,-6.22437112622893,-1.1932120393504448,2.6492631827720845,-0.7957610375826828,-5.584124615248295,-0.6791704910467665,3.6617418569680473,-2.5501318306026355,-0.49037532858711036,2.690734650198312,2.085274720787913,3.643918582352568,-1.9756532256960584,0.14050201120622313,1.8255081750082087,0.6226462315521553,-4.569035862369009,2.446367910152782,2.390610553526523,-1.0540397663268186,-0.6405619881181082,-2.4414875237826625,-0.522449019840139,-2.212175782860988,-3.539527977293586,0.49201418950517195,-0.6996644655675781,-0.32821510345114413,2.1175203843937997,0.4526101037166559,-0.8456481478016773,-5.063120954129563,1.6769908375788207,0.3523929991753913,1.456832000937922,1.9349005864606559,2.222028157638513,-1.1928980052241551,-1.5826928160892377,2.4099426633753724,-6.266000946256888,1.496444929461608,1.0171899220727116,2.9830884482571234,-0.4543126485962892,0.19001776807323636,2.7342991505793552,-5.268262659492297,-2.031885371703854,-0.9705424706046613,0.4116993283024944,-1.533498115340886,3.135397672662546,2.0019376065284527,0.416955078162936,-3.0674825287403054,-0.21473517224425318,1.279503332604681,2.3693593356425704,0.005298393176730267,2.080133935382387,0.8316009138104528,3.053371749229708,2.0902886548107396,-0.6271539729199348,3.469915356944232,-0.3237001992504477,-0.010429596095014322,-0.6237274262188419,0.561486537033998,0.7514155020102083,2.205726242220701,2.2810969855680985,1.0760881731151917,-0.6728970594204653,-2.421033090848889,-0.7944453038849237,-2.813599166505123,-0.3548710653603294,1.1077519666742501,1.7802926548472413,3.4871679069975854,1.7165046113924811,-0.3673446995922955,-0.9409142457508728,2.007028722702768,-2.169534102381837,-4.503728616967512,1.730325410191963,-2.302751171469769,-5.667944508841146,3.165231262132753,-0.9613010686512797,-3.2165617108086946,1.1099810575701032,0.2320502450288387,0.33374680966830417,2.5851780538159956,2.318410047435343,-5.345046635370838,1.3350185236846304,2.3196786810444987,-2.3016721686580057,1.7956856416253546,-2.0836295480627713,-2.78841688121084,-0.031981968233271686,2.1427345813690457,2.8970889781447107,1.4182042508723829,1.0442220767783081,2.602188556913104,-1.5014464625322794,-0.9892480685965731,4.37544048218459,-0.21471944442123855,-2.6553513050711675,0.7602662110321367,-5.468036247230579,-0.8796636191418913,-2.1161994904263066,0.2833737465152706,1.9788192468426695,0.7797326496946251,0.6906725907337381,1.9039748658654703,-2.0418197750539187,3.425373630412736,3.7519326067629897,-0.6874348375083962,-0.8699815328504522,-1.3026938918094235,0.9672738434953817,-5.770646154972044,0.9087738119312335,0.548156482233346,-5.045182131790599,-1.4337459974388556,-0.7376962025033996,2.4943649025125745,-0.06082755048356677,2.4097736009479904,-5.112512575162126,1.2652190376534704,-0.2585955909165379,2.6296390282504003,1.3974231779512203,-0.6882789802032392,-1.957699493385981,-1.7613920972525274,-6.057298830071381,1.8468408917608206,-1.2902519115300821,0.7941235721952709,-0.9995126874494651,-0.9132415659947988,2.695564858841313,1.993465084121487,-0.7955484236114958,2.8389347623561147,-1.6690171995601017,-1.0402458326917665,0.07807044952372706,-0.08568511280344679,-0.35964096914555926,-4.723128159570443,1.4688319235811373,-2.0353421117698844,0.20009553891470433,0.9054101019804822,3.4558388549103403,-0.5373407535151487,-1.7054251687725064,-2.3934802541129168,-1.0616379893348427,0.864225097487149,2.4241477317958138,-6.030823084362777,0.752250452149182,2.2597252106179124,1.5877526549945586,-5.625156768044472,0.2895246329866484,-0.3149742775266384,1.5324318539113004,-2.5602493327895375,-0.3854364067368461,3.6318657348748205,1.5376675755862579,-5.059667373551407,3.925175993298524,0.5914115466852266,-1.6839698707016912,-3.57822809748691,2.778152930927765,-0.5190028822626581,-0.3275543550497501,-0.5827149392953453,-1.3025403763640795,2.2042899040048747,-4.669868962851474,1.950217639380886,-3.3502896892511296,0.012366620707189293,-5.455970748172767,2.043805749786243,-1.3391558987041443,3.6404098681998986,-0.4416970874128675,1.3800341326794003,0.30028230953510093,1.8710757034246588,-0.8485148102489907,0.8507960304809772,-1.4282696535108075,-2.461401703027614,0.4548482159309625,0.8150401248813911,-1.1368542794372165,2.323443114337795,1.2764583594218406,1.3546044844004197,-1.3741641837574667,2.0572319022194323,-2.0378456903049926,2.4362651050901705,0.8652037218052666,1.2355543415629258,0.23719438358589423,5.2373891176823175,-1.7258580384226687,-0.6404673804709947,-1.6313022569967282,1.9425413270526757,-0.5100128211219618,3.2246662913682242,0.8186940437105125,0.681869628505386,3.129193580217331,2.6255417005617048,-0.12974264092199195,-1.7769452185214563,-1.4714069516543353,2.6635581247036044,-0.31801533828261697,1.7037371256492668,-0.6206713446494733,-0.7156620995179548,2.11708719484686,-1.6197533640141941,-0.87078082189834,0.4884755342913145,0.3420284824086751,2.8080981774927736,2.746150488527631,2.961698679706707,2.718576085150915,-1.8122398351685611,1.4293323881568922,3.3627719075116023,-4.013130434398415,-3.572394379325348,1.5211017058690728,-2.3736488114520182,-0.2542757020173439,1.8378651325362914,-2.5921619729173546,-1.1677491264532611,-2.283066050197168,2.172495832934303,2.2593016893552145,0.2355844650014805,-0.695977541519653,-1.6622204111684888,3.373593841124665,2.8411741182071064,-3.3093537996008404,-1.1661077387819518,3.8014949783330123,-1.1773949710449874,0.5900276204805025,1.3818133630028118,-5.136020434297923,1.6669631682614392,1.3896727953689343,2.563951035976441,1.8562563352733588,-0.8759712115872859,1.926918740112115,-1.013161547285684,0.8274001733736209,0.9285225898010991,-1.8289058044753248,2.633549708362262,-1.9993574456681193,3.1766708653173685,0.4140642244627859,2.525927157366112,3.12086951325817,2.6163449073565674,-5.2201700207448605,0.39868827457746525,0.9058711882344176,0.6048648084882035,-5.651295268741389,-1.2697235656365102,-0.6033022768099445,1.7751898003089888,-0.14235384467209428,4.56749963894427,-0.31921104446485044,-0.2264462478627339,-0.7865442289895717,-6.342568963563022,3.7118986964294627,0.18400894634673984,2.2984049831626954,1.084159357603077,-3.995075233205884,0.5288219022637253,3.820051138738953,0.9853744041305287,-0.4736633221608301,2.614014651114432,2.042514705382154,3.971255419493699,-2.380917215277583,-1.1552959000101242,-2.8987706869293843,-2.5116790952753822,1.3156788664997479,-4.694477818213084,-4.826880101240928,4.493523318335114,1.6587651051704018,-1.6426221886552246,2.980354027255034,3.2539381339442324,2.361710113517807,-1.1711550482864161,2.1177349012079363,-0.37319846651683963,-3.2068494005562735,-3.4796753370596942,1.6908675446727137,0.9320314882851746,-0.5661042264578943,-0.42673756339526,1.0068290184305524,-2.8985817854170293,-1.6385086225458185,-2.5269091157625834,0.44808474132128717,-1.1618746556565338,0.224973915010227,2.231897707292879,0.8440188007471345,1.166634944040743,-0.011658885493400406,1.1462462023961673,1.8990737660970667,-1.5470004399583481,1.999896266585427,-2.3438346066246702,0.09122742055483342,0.866449315459106,3.0017819246449404,-1.3946031315058218,-1.3497227885530665,-1.4293292266464424,1.3610300973299416,-0.9963077600626794,4.440018345141248,-2.846958521143712,2.0313797439606067,1.0499595983142793,1.094464066045872,-6.429323331441758,-2.7951521106370527,1.674048940345605,0.14727247787509404,3.593438466307135,-0.2897563851374126,2.4647564734819816,0.9268946229740551,4.302548290829317,-0.10115536060810545,-0.12214935705544458,2.1222718524687108,-0.5140676142499121,-2.133413415627332,2.411958946572029,-0.6166990980083706,-2.2626722551365206,4.383677305669942,-3.8951954799609156,2.955310140787522,2.098489966586464,1.8004478607033854,-6.038184549750395,-0.36153842707193273,2.662034341486699,-1.6819564567561125,-0.20919351673280617,-1.2687552209002875,3.6675336869599837,-0.21084039978795038,-5.459718791469069,-5.749746183456474,-0.6543506011426634,2.967274380710245,-5.373605807422019,-1.0998528563069156,-1.2098710644118282,-5.310209254233747,-0.36464624225005915,2.6927914731955904,2.790037218203272,0.5298950208182222,-1.5073138016528538,-3.172048551281488,1.514405990645176,0.6814535835046203,1.5513938561174072,3.6545732135065547,-1.325543305458423,-1.0168633715672137,-0.5929829903170698,-0.4207920468817864,-1.5830580434384078,3.768594894799204,0.9965221454273053,-4.937930118000288,2.9217721740813554,0.11816893230495167,-4.894477776248474,-0.9974816183488651,-1.2426017553336566,-2.097995952031083,-1.1749236657599327,1.062854590328188,-1.6176308379120667,3.5739016352451163,3.0724364704759344,-1.3626988149267336,-3.091444111045109,-1.766445822743179,-1.2643744500884895,-0.8582050793401388,-4.2535836937778075,-0.5221548181423576,0.5732145051589868,3.3594225503636355,-0.4170984891763699,-1.4626436618471566,-2.4245956243964994,2.187991810911816,-0.7112877138232394,-1.6928568762929666,0.20699335612083153,-5.765795398230642,-1.250962116127514,-1.2707599124921904,2.3028821625939635,2.3307282045860207,-0.46389578020412275,-0.622288992484427,2.0510635533764185,-0.519177073988678,-0.6608780486852363,-2.0219889285899515,2.594721715143335,1.1311789921688375,-2.4953385851711074,-0.2005618458429402,2.0722225878563973,1.9993354727255295,3.8283446589874854,3.870693013793791,-5.0817001774936665,2.035946045814438,3.733983813724876,0.9533654668103496,2.4650396088501667,2.4598245434302553,-0.8151394604923666,0.46223120837672405,4.448279589083934,-0.14215170404131394,1.8692411658193915,-0.5242394296682175,0.5008158081836512,-0.6550353740795885,-1.5144960553348992,-0.9350964792081445,-5.23843102275988,-5.5995419835080735,3.0166339467423673,-1.2722331608991286,2.2997577771689186,0.3609251910561792,-0.9842896749140599,-1.0281078291627543,-2.6851452396433584,-5.752708333682851,0.7267116641252279,0.4242144610052655,-0.6340639642098883,0.5982213561695008,1.4261850583379023,1.9321977551084955,-2.763195140552823,-0.2640055909340306,3.1179013730074754,1.8946760530518016,-1.8398623097813511,-3.8321727925710016,2.6301537291826413,1.9278854694037884,1.6888768252863697,-5.184224323493134,-4.65081328324999,1.6195850228824529,-1.7899194295415848,-0.5682378577695647,4.973196315165283,-1.9559491037533538,2.0236777392535314,1.7002687726377579,-5.774663269022603,3.093995404572182,2.4240041925636584,-0.5718430969275968,4.376581067703352,-0.5734873952764439,1.3749104232639358,-0.6428373106943474,-4.701858712577015,1.1220105283584765,-1.492286234521525,-1.8132965241473067,1.157637153655048,1.682522041800639,-0.345554677043217,0.922503371856497,0.42281953557765595,-5.62608981758928,-0.7614895071241646,-1.358214964458692,-2.160367761227158,2.850465498534843,2.7216822109909993,0.2941990176833533,3.61149784055525,-1.128239423656466,2.3777440123070104,-2.0305395278230427,3.1176580244800727,-1.0599400596493571,2.40134296516105,-1.391904358807566,0.272188525249128,0.5000397293414447,2.769771590629768,-5.205020473407369,-0.28767969631348317,1.2058515669403629,1.8562634583029738,0.004202330190175379,-1.2511841785322353,-0.10530570014458349,-0.7051752818226377,-4.391741261124045,3.262567994836186,2.0474353016149025,1.4072994931721259,0.5229638427389348,0.5062609787808915,-0.3023838718385159,-0.6717633047920474,-1.013196187832463,1.2650975421708266,1.468861656468252,-0.12825560420178952,-1.8636720357396097,2.5315660014914645,-0.12598867747849235,0.9093796215565576,-4.837239239213578,-5.928232571772725,2.899807159822303,-5.883787507416624,2.6395135444582736,3.564955612891882,2.272671289352176,0.425866214374206,0.16064619671022268,1.5057877172342644,1.5333325414903316,-1.8248127008236363,-5.89780023310698,-0.5675603946058212,-4.674333712587869,-2.6288877689264707,-0.5883527308422587,-5.345454850525668,2.823045158135122,2.9124557511260463,-1.1572799100868896,1.8919713427578089,-0.7311014053069291,4.326702996977877,3.5831146019559723,3.0627335336859374,2.3490010142416216,1.6535635537936695,4.230718209788212,2.915253376569961,-4.8715319784310465,-0.9951032313567482,1.4156653567179327,1.153718108547939,3.9079955509709894,-0.41470103458350116,0.3759458886632991,-0.17343088096667789,2.055550654982024,1.4071370350426495,2.2234274094027295,1.5322194120654118,2.4215820857239407,-0.6667335458047554,1.762749998478348,-0.15388491571747512,1.7379429322255984,-2.392322050889999,0.949226976170129,-3.3434951966866837,-1.2606075901359084,0.40678736421936174,-1.4755039450037193,-2.4135885967997446,1.070129200395755,-1.6230155193544977,-5.907319084970964,2.6837498009815537,-1.1919490918573812,-0.9874741106756236,2.473662083573387,0.965672012095253,1.34630757613667,-0.13157444867138846,-4.918305059685752,-0.14442134579792631,0.44805119291330675,3.664750245427168,1.8533307738645048,3.1851563920890165,2.3441417780030007,-2.331496273764209,1.3309496481922423,-1.9638933901309594,0.9033994643414864,-1.2152429263499873,-0.3312757735370166,1.7043121629043212,1.331069904090897,0.7580886914166384,1.4645650742541663,1.4748924379879165,1.1472610082086605,0.21096735931150123,-1.7953615912508092,1.4514700385186585,1.321023957487243,-3.526508916658096,2.4732428889891493,-0.02362387868755663,-5.49892651132164,-1.464461115121356,-0.869915984363067,-4.601519529279609,-0.2783021761828283,-0.45261884907860434,-0.4683833673548645,-2.313464461919725,0.40909121088066147,1.5054260641423116,-1.740064178202991,2.810688107592936,-0.9897431965351999,1.8886382536576765,-0.9996013533867252,1.040636538705077,2.2699822696615177,3.532892682009877,-0.47564722027583367,0.2527844521023226,-6.395978727571402,0.08592380570111806,-0.45290846963326453,2.023469547655138,-1.2972099267391648,-3.4501722603927285,1.8260535202639272,1.3345878676625287,-0.5222383980173266,-1.7146125553954885,-1.2381900143434739,1.0168019521397558,0.7767978556757797,-1.4151462168224007,0.6219213676075904,-4.9851226379178835,0.10482460749647778,-5.976145898865105,-0.7203209586870369,-2.5017610891292064,-2.602808727391268,3.508530550994927,-6.019334561378212,1.5574557680091663,-2.1243541523400844,-1.3914119814312764,-1.3619026960905558,-1.9453427626736617,-6.937092935520022,2.3854990266169267,-1.2212790059902445,-2.2413474261244137,-1.2796052026858993,2.733279343473675,-2.797005890058631,2.8911252406341976,1.3440330368546893,1.522000943794775,0.297264972110262,2.172643040816027,1.1662654733760727,-0.5098775607925501,1.0884364378703792,-4.36966755098525,3.703191746705741,0.19751329104313176,2.2470116073616833,-1.0624723635659588,0.08633058448269208,-1.2694593967812913,0.16159250183570947,1.4868573144993198,1.828095730185341,0.539195771471666,0.24939022677938333,2.160899961485509,0.972652583248751,4.571993665961215,-2.1515907771792215,1.6716868623654084,0.15191067930585242,2.6055135810584957,1.8698929235887685,3.500355401609481,-1.9980112990896874,0.3056462806731211,0.5885228700304197,1.7468629519656325,0.4595354549732311,2.9567447115849017,-5.166756353901213,-1.1298685611279364,-1.89883139865444,0.7425173520194192,2.969092799829073,-1.27888178064903,-0.332757962927054,-5.6761064213773595,-1.7476724680190439,2.63125090672285,2.1087529611991154,1.3451732309492759,-2.5670218653088597,-1.6269319312213102,-1.5284416768173255,-1.8633774047639526,3.526565997918501,2.8199801092126426,0.8386532299303286,0.1458042411205801,-1.50556211020059,-6.253880169738172,1.7087248631293255,3.619936942288469,2.358345539475158,-1.6125022588147293,-2.2888269488424164,-4.775294264345011,-1.1290462675093362,-0.45262794205478646,1.1053710228899691,-1.0704483097659074,-0.7416720916667479,-6.270190846066869,1.3639516753271423,2.4298041379485604,0.04490930600835091,1.3655557644551215,2.8732067711584306,3.9836711488929035,-1.5529012592414786,1.9042088034921127,2.925176003909183,-0.02413506680944738,-2.043583340461838,0.7998578531466604,2.658608208494552,2.4358623812760443,-3.8355222272494833,4.66902840837195,-0.9984537540901341,-1.0895854337282342,1.2130481543551126,-0.9582141627736199,3.2942558157703643,-0.729908362030605,-4.644157467664384,2.470155746365174,2.4803966519751253,1.5095819828643042,3.3110852273336167,-0.031982362868534946,3.406895262144965,2.8527794290324575,2.02827202964177,1.1216020326414973,-0.6007662482017447,-0.03538011991812019,-1.6394172646842622,0.18067697092575577,-2.2621093437328628,0.290177419081135,-1.0171276799330269,-0.605778442685574,3.458342601311186,-3.7229065409609756,0.32626959689553015,3.933640856115418,0.7677371912621622,0.9692067662715099,-6.266689796439429,1.0277146676894893,1.9421236271730913,1.8785117277811714,1.9717761961959568,0.8207791783278771,-1.8478479180423852,-1.6326442596271786,3.1090345701548525,1.765475320085733,-0.6357292570477947,3.4838014295882886,-0.5771314205170063,-5.38255902041864,4.398258254206618,3.949726383375631,-2.1001727640227705,-1.1652596195763405,-3.8408180946534367,1.140621875499546,3.7233324872422475,-2.784430412444897,-1.0346553903674007,-1.9532106576407597,-2.1854353100166994,-0.13481941016656507,0.583314092453613,2.5704065669833063,-2.386325282724239,1.752256183856296,-1.6370549295693198,4.86041211264241,2.754477775623864,-1.4350978858785084,-1.2055243859620866,2.787381250744566,0.3932699016219099,-0.18033881259849568,-5.719536441020758,-1.363000127536411,2.195406044578037,-5.678704019998748,-0.7874660003963667,1.576177258013059,-0.008729678272177828,2.621271858346583,-5.755650076056344,-0.46350619054632247,0.4887251879468102,1.82203703956441,3.3841656901287163,2.2128220909482508,-5.458509065363959,3.7679830724497316,2.5793239065820144,3.004271801001999,-5.91763225092542,2.0791910079428617,1.5588623620775295,-3.055221774453244,2.6419609498653576,0.22002267524744573,-0.8449351035734093,-4.008234931376339,-0.29271323024859514,0.670416087888889,-1.3180943038271897,-0.5294604647892407,-1.1799003804290005,-0.6509847907817127,-0.6724443238527839,3.1377001918975362,1.019436700310846,-2.144984397406383,3.5386058066249393,-4.464020036429984,1.8702256776090864,-1.29205012261862,-0.5966813464293395,2.1661856619315696,-5.26749298224673,1.6450899411810225,0.7316432763874081,2.086617363436972,-2.1310001846182596,3.770986260342022,-0.22504711380294284,-5.934828778125189,-0.6018389189748089,3.7007712791392704,1.4748673998318622,1.1086699605446464,2.7125063125906843,-2.2871310615542737,-0.28679990235107156,3.0038278851557254,0.17453936142980872,-0.07871905321867338,-1.1275031377797513,-1.453927556658895,-0.7084366983504516,1.4275915248515025,0.2174857664794138,2.4665139567581478,2.3390776254543812,0.6766955601690318,-6.237091845746139,-0.035181326937935666,1.7717121552406898,3.42707648510165,-2.4071850243381565,-4.794554333291264,2.910669619967189,1.422398224936106,-0.8943677849465386,3.428831113090465,-0.5585896127448531,2.176546399386329,2.1459229889083495,0.7444722567047038,0.4095943075967631,-1.1968977231096902,2.390092381063456,-4.305807830663003,-0.3820788325121448,3.95168582955231,-0.40991347693957675,-2.3571983259405958,-0.3517117695479746,1.5414011206704723,-1.5442671316141015,2.2220181752401715,-1.803530851300586,-1.166888784709202,-2.6943281186656356,0.9907208433073459,-1.5172467085047994,1.696474950937119,-0.587553597235033,-5.107608760894113,0.6877771890082524,-1.003540454137477,-1.1015122673975117,-0.5550283647800206,0.42854248330945394,0.27799205506853714,-1.2612804388548258,1.2433578983149562,-5.15134568626218,0.15055420549839044,2.6037988765935816,1.1894210657650897,-0.09072967511070829,-2.1298654987693384,-1.5802016049619136,-1.7375125013638648,4.177894930034537,-6.017735019921879,0.21137204748510718,-1.3756949277143367,2.1056672046176046,-5.190017917071844,3.4303113106351026,-2.7039956487390135,2.4795267230308564,-5.616459129653233,0.49180983496054664,3.1578846783876653,-1.991943932252548,-1.2427144842719025,0.39243000959488106,-4.77468266478559,3.489290531482181,0.59013280807709,-0.5309624044640853,-1.4614167108503513,2.739670426668085,4.498998895185665,-5.164143949248926,2.602868982785163,-0.19215101947371405,-1.6957761582628668,2.6074600222691386,-1.5528514889485263,-1.4384455374998737,1.574349109598801,1.8595272426862792,-4.327008324983371,-1.8996376212975625,0.28804863719736185,1.5176338507883034,2.387521635582409,-0.501825952423539,1.2314363069269219,1.376105992445726,2.2760808444867524,-1.841563561787722,2.840728965613321,-4.9904583996099126,1.1912379806366526,-0.5803817353004512,0.6532159147027479,3.186963497785821,-0.6403086569287026,-0.5829019789276306,-0.3333611693375091,0.4751783198529287,2.0414169449048827,0.024918534615854963,1.9371694489660962,2.299335774725284,-1.0344461561240974,-0.7218666100234852,0.6537811858062235,2.678543367585379,3.110120790758728,-4.977879608745507,-2.521351039869377,-3.582214292806569,1.5029712619390567,-1.3485473102846464,-0.881407530430958,2.095113992826538,1.171152130654637,-0.7823471293410995,0.4777625099352396,1.1048434779781844,2.3704274361252526,-1.9098794227593954,-0.5128257250755479,-5.400637356564581,-0.5846679451896708,2.3920870745822995,-5.008763506416212,2.5305731363601898,-0.9474232530405803,0.3291271291947281,-1.683370244766302,3.9983463996681214,0.4674991845686034,1.116671801141174,1.7442666117897736,-3.72716244850636,1.5088912728097243,0.4103216333328199,-0.5030320824143529,-5.166912751007713,1.6288151773724526,-0.6003716486739974,0.2202044740505038,1.2745820002515615,3.750379219449221,-0.06522380945429701,-2.461480059637221,2.286250208510052,1.1308920720226179,-1.0905605817255837,-1.5970816842902424,-0.039252455644727104,-1.3573205098305599,2.049994692730959,0.4869194975681145,-1.2838938239367403,-2.2396226455612482,2.023579900283277,0.7169214837521528,-1.3495517838985007,-0.4801204288122574,-1.0746882181667616,1.871254233134198,0.4351767653212515,-1.1747501911051488,-1.44914027999925,2.509681950177918,2.0904363830679236,2.695181500601425,1.1952951480299079,1.777652577915625,2.4836138297725654,2.172448208351533,0.9636090144079651,-0.3869719447718068,1.6867349549387303,1.3719338420156855,1.7609864890554414,-2.2830246798267932,-3.0576490833382244,1.6814070784238964,-0.6604668637090705,0.4548780956220393,0.9293897171377441,-3.6876406175557164,-0.6241392220186123,2.3154860198836005,2.4135137503490323,2.3061961649337612,-2.394043776528835,-0.13682886560579327,-1.7601812134245673,0.10028472957818409,-6.3544325425863075,0.12881340472763642,-0.419500192444681,2.8932565357426827,1.0745977534126057,3.0189462790948176,-1.4716766556317806,0.10910956422999916,-1.589332099621449,-1.6459030937750252,-0.2223282133757945,4.115883636970547,0.5053513110166244,-0.2836231174907305,0.050118170290947096,-4.144224242482478],\"type\":\"scatter3d\"}],                        {\"template\":{\"data\":{\"histogram2dcontour\":[{\"type\":\"histogram2dcontour\",\"colorbar\":{\"outlinewidth\":0,\"ticks\":\"\"},\"colorscale\":[[0.0,\"#0d0887\"],[0.1111111111111111,\"#46039f\"],[0.2222222222222222,\"#7201a8\"],[0.3333333333333333,\"#9c179e\"],[0.4444444444444444,\"#bd3786\"],[0.5555555555555556,\"#d8576b\"],[0.6666666666666666,\"#ed7953\"],[0.7777777777777778,\"#fb9f3a\"],[0.8888888888888888,\"#fdca26\"],[1.0,\"#f0f921\"]]}],\"choropleth\":[{\"type\":\"choropleth\",\"colorbar\":{\"outlinewidth\":0,\"ticks\":\"\"}}],\"histogram2d\":[{\"type\":\"histogram2d\",\"colorbar\":{\"outlinewidth\":0,\"ticks\":\"\"},\"colorscale\":[[0.0,\"#0d0887\"],[0.1111111111111111,\"#46039f\"],[0.2222222222222222,\"#7201a8\"],[0.3333333333333333,\"#9c179e\"],[0.4444444444444444,\"#bd3786\"],[0.5555555555555556,\"#d8576b\"],[0.6666666666666666,\"#ed7953\"],[0.7777777777777778,\"#fb9f3a\"],[0.8888888888888888,\"#fdca26\"],[1.0,\"#f0f921\"]]}],\"heatmap\":[{\"type\":\"heatmap\",\"colorbar\":{\"outlinewidth\":0,\"ticks\":\"\"},\"colorscale\":[[0.0,\"#0d0887\"],[0.1111111111111111,\"#46039f\"],[0.2222222222222222,\"#7201a8\"],[0.3333333333333333,\"#9c179e\"],[0.4444444444444444,\"#bd3786\"],[0.5555555555555556,\"#d8576b\"],[0.6666666666666666,\"#ed7953\"],[0.7777777777777778,\"#fb9f3a\"],[0.8888888888888888,\"#fdca26\"],[1.0,\"#f0f921\"]]}],\"heatmapgl\":[{\"type\":\"heatmapgl\",\"colorbar\":{\"outlinewidth\":0,\"ticks\":\"\"},\"colorscale\":[[0.0,\"#0d0887\"],[0.1111111111111111,\"#46039f\"],[0.2222222222222222,\"#7201a8\"],[0.3333333333333333,\"#9c179e\"],[0.4444444444444444,\"#bd3786\"],[0.5555555555555556,\"#d8576b\"],[0.6666666666666666,\"#ed7953\"],[0.7777777777777778,\"#fb9f3a\"],[0.8888888888888888,\"#fdca26\"],[1.0,\"#f0f921\"]]}],\"contourcarpet\":[{\"type\":\"contourcarpet\",\"colorbar\":{\"outlinewidth\":0,\"ticks\":\"\"}}],\"contour\":[{\"type\":\"contour\",\"colorbar\":{\"outlinewidth\":0,\"ticks\":\"\"},\"colorscale\":[[0.0,\"#0d0887\"],[0.1111111111111111,\"#46039f\"],[0.2222222222222222,\"#7201a8\"],[0.3333333333333333,\"#9c179e\"],[0.4444444444444444,\"#bd3786\"],[0.5555555555555556,\"#d8576b\"],[0.6666666666666666,\"#ed7953\"],[0.7777777777777778,\"#fb9f3a\"],[0.8888888888888888,\"#fdca26\"],[1.0,\"#f0f921\"]]}],\"surface\":[{\"type\":\"surface\",\"colorbar\":{\"outlinewidth\":0,\"ticks\":\"\"},\"colorscale\":[[0.0,\"#0d0887\"],[0.1111111111111111,\"#46039f\"],[0.2222222222222222,\"#7201a8\"],[0.3333333333333333,\"#9c179e\"],[0.4444444444444444,\"#bd3786\"],[0.5555555555555556,\"#d8576b\"],[0.6666666666666666,\"#ed7953\"],[0.7777777777777778,\"#fb9f3a\"],[0.8888888888888888,\"#fdca26\"],[1.0,\"#f0f921\"]]}],\"mesh3d\":[{\"type\":\"mesh3d\",\"colorbar\":{\"outlinewidth\":0,\"ticks\":\"\"}}],\"scatter\":[{\"fillpattern\":{\"fillmode\":\"overlay\",\"size\":10,\"solidity\":0.2},\"type\":\"scatter\"}],\"parcoords\":[{\"type\":\"parcoords\",\"line\":{\"colorbar\":{\"outlinewidth\":0,\"ticks\":\"\"}}}],\"scatterpolargl\":[{\"type\":\"scatterpolargl\",\"marker\":{\"colorbar\":{\"outlinewidth\":0,\"ticks\":\"\"}}}],\"bar\":[{\"error_x\":{\"color\":\"#2a3f5f\"},\"error_y\":{\"color\":\"#2a3f5f\"},\"marker\":{\"line\":{\"color\":\"#E5ECF6\",\"width\":0.5},\"pattern\":{\"fillmode\":\"overlay\",\"size\":10,\"solidity\":0.2}},\"type\":\"bar\"}],\"scattergeo\":[{\"type\":\"scattergeo\",\"marker\":{\"colorbar\":{\"outlinewidth\":0,\"ticks\":\"\"}}}],\"scatterpolar\":[{\"type\":\"scatterpolar\",\"marker\":{\"colorbar\":{\"outlinewidth\":0,\"ticks\":\"\"}}}],\"histogram\":[{\"marker\":{\"pattern\":{\"fillmode\":\"overlay\",\"size\":10,\"solidity\":0.2}},\"type\":\"histogram\"}],\"scattergl\":[{\"type\":\"scattergl\",\"marker\":{\"colorbar\":{\"outlinewidth\":0,\"ticks\":\"\"}}}],\"scatter3d\":[{\"type\":\"scatter3d\",\"line\":{\"colorbar\":{\"outlinewidth\":0,\"ticks\":\"\"}},\"marker\":{\"colorbar\":{\"outlinewidth\":0,\"ticks\":\"\"}}}],\"scattermapbox\":[{\"type\":\"scattermapbox\",\"marker\":{\"colorbar\":{\"outlinewidth\":0,\"ticks\":\"\"}}}],\"scatterternary\":[{\"type\":\"scatterternary\",\"marker\":{\"colorbar\":{\"outlinewidth\":0,\"ticks\":\"\"}}}],\"scattercarpet\":[{\"type\":\"scattercarpet\",\"marker\":{\"colorbar\":{\"outlinewidth\":0,\"ticks\":\"\"}}}],\"carpet\":[{\"aaxis\":{\"endlinecolor\":\"#2a3f5f\",\"gridcolor\":\"white\",\"linecolor\":\"white\",\"minorgridcolor\":\"white\",\"startlinecolor\":\"#2a3f5f\"},\"baxis\":{\"endlinecolor\":\"#2a3f5f\",\"gridcolor\":\"white\",\"linecolor\":\"white\",\"minorgridcolor\":\"white\",\"startlinecolor\":\"#2a3f5f\"},\"type\":\"carpet\"}],\"table\":[{\"cells\":{\"fill\":{\"color\":\"#EBF0F8\"},\"line\":{\"color\":\"white\"}},\"header\":{\"fill\":{\"color\":\"#C8D4E3\"},\"line\":{\"color\":\"white\"}},\"type\":\"table\"}],\"barpolar\":[{\"marker\":{\"line\":{\"color\":\"#E5ECF6\",\"width\":0.5},\"pattern\":{\"fillmode\":\"overlay\",\"size\":10,\"solidity\":0.2}},\"type\":\"barpolar\"}],\"pie\":[{\"automargin\":true,\"type\":\"pie\"}]},\"layout\":{\"autotypenumbers\":\"strict\",\"colorway\":[\"#636efa\",\"#EF553B\",\"#00cc96\",\"#ab63fa\",\"#FFA15A\",\"#19d3f3\",\"#FF6692\",\"#B6E880\",\"#FF97FF\",\"#FECB52\"],\"font\":{\"color\":\"#2a3f5f\"},\"hovermode\":\"closest\",\"hoverlabel\":{\"align\":\"left\"},\"paper_bgcolor\":\"white\",\"plot_bgcolor\":\"#E5ECF6\",\"polar\":{\"bgcolor\":\"#E5ECF6\",\"angularaxis\":{\"gridcolor\":\"white\",\"linecolor\":\"white\",\"ticks\":\"\"},\"radialaxis\":{\"gridcolor\":\"white\",\"linecolor\":\"white\",\"ticks\":\"\"}},\"ternary\":{\"bgcolor\":\"#E5ECF6\",\"aaxis\":{\"gridcolor\":\"white\",\"linecolor\":\"white\",\"ticks\":\"\"},\"baxis\":{\"gridcolor\":\"white\",\"linecolor\":\"white\",\"ticks\":\"\"},\"caxis\":{\"gridcolor\":\"white\",\"linecolor\":\"white\",\"ticks\":\"\"}},\"coloraxis\":{\"colorbar\":{\"outlinewidth\":0,\"ticks\":\"\"}},\"colorscale\":{\"sequential\":[[0.0,\"#0d0887\"],[0.1111111111111111,\"#46039f\"],[0.2222222222222222,\"#7201a8\"],[0.3333333333333333,\"#9c179e\"],[0.4444444444444444,\"#bd3786\"],[0.5555555555555556,\"#d8576b\"],[0.6666666666666666,\"#ed7953\"],[0.7777777777777778,\"#fb9f3a\"],[0.8888888888888888,\"#fdca26\"],[1.0,\"#f0f921\"]],\"sequentialminus\":[[0.0,\"#0d0887\"],[0.1111111111111111,\"#46039f\"],[0.2222222222222222,\"#7201a8\"],[0.3333333333333333,\"#9c179e\"],[0.4444444444444444,\"#bd3786\"],[0.5555555555555556,\"#d8576b\"],[0.6666666666666666,\"#ed7953\"],[0.7777777777777778,\"#fb9f3a\"],[0.8888888888888888,\"#fdca26\"],[1.0,\"#f0f921\"]],\"diverging\":[[0,\"#8e0152\"],[0.1,\"#c51b7d\"],[0.2,\"#de77ae\"],[0.3,\"#f1b6da\"],[0.4,\"#fde0ef\"],[0.5,\"#f7f7f7\"],[0.6,\"#e6f5d0\"],[0.7,\"#b8e186\"],[0.8,\"#7fbc41\"],[0.9,\"#4d9221\"],[1,\"#276419\"]]},\"xaxis\":{\"gridcolor\":\"white\",\"linecolor\":\"white\",\"ticks\":\"\",\"title\":{\"standoff\":15},\"zerolinecolor\":\"white\",\"automargin\":true,\"zerolinewidth\":2},\"yaxis\":{\"gridcolor\":\"white\",\"linecolor\":\"white\",\"ticks\":\"\",\"title\":{\"standoff\":15},\"zerolinecolor\":\"white\",\"automargin\":true,\"zerolinewidth\":2},\"scene\":{\"xaxis\":{\"backgroundcolor\":\"#E5ECF6\",\"gridcolor\":\"white\",\"linecolor\":\"white\",\"showbackground\":true,\"ticks\":\"\",\"zerolinecolor\":\"white\",\"gridwidth\":2},\"yaxis\":{\"backgroundcolor\":\"#E5ECF6\",\"gridcolor\":\"white\",\"linecolor\":\"white\",\"showbackground\":true,\"ticks\":\"\",\"zerolinecolor\":\"white\",\"gridwidth\":2},\"zaxis\":{\"backgroundcolor\":\"#E5ECF6\",\"gridcolor\":\"white\",\"linecolor\":\"white\",\"showbackground\":true,\"ticks\":\"\",\"zerolinecolor\":\"white\",\"gridwidth\":2}},\"shapedefaults\":{\"line\":{\"color\":\"#2a3f5f\"}},\"annotationdefaults\":{\"arrowcolor\":\"#2a3f5f\",\"arrowhead\":0,\"arrowwidth\":1},\"geo\":{\"bgcolor\":\"white\",\"landcolor\":\"#E5ECF6\",\"subunitcolor\":\"white\",\"showland\":true,\"showlakes\":true,\"lakecolor\":\"white\"},\"title\":{\"x\":0.05},\"mapbox\":{\"style\":\"light\"}}},\"scene\":{\"domain\":{\"x\":[0.0,1.0],\"y\":[0.0,1.0]},\"xaxis\":{\"title\":{\"text\":\"LD1\"},\"backgroundcolor\":\"white\",\"showgrid\":true,\"gridwidth\":1,\"gridcolor\":\"lightgrey\",\"zeroline\":true,\"zerolinewidth\":1,\"zerolinecolor\":\"lightgrey\",\"showline\":true,\"linewidth\":1,\"linecolor\":\"black\"},\"yaxis\":{\"title\":{\"text\":\"LD2\"},\"backgroundcolor\":\"white\",\"showgrid\":true,\"gridwidth\":1,\"gridcolor\":\"lightgrey\",\"zeroline\":true,\"zerolinewidth\":1,\"zerolinecolor\":\"lightgrey\",\"showline\":true,\"linewidth\":1,\"linecolor\":\"black\"},\"zaxis\":{\"title\":{\"text\":\"LD3\"},\"backgroundcolor\":\"white\",\"showgrid\":true,\"gridwidth\":1,\"gridcolor\":\"lightgrey\",\"zeroline\":true,\"zerolinewidth\":1,\"zerolinecolor\":\"lightgrey\",\"showline\":true,\"linewidth\":1,\"linecolor\":\"black\"}},\"coloraxis\":{\"colorbar\":{\"title\":{\"text\":\"color\"}},\"colorscale\":[[0.0,\"#0d0887\"],[0.1111111111111111,\"#46039f\"],[0.2222222222222222,\"#7201a8\"],[0.3333333333333333,\"#9c179e\"],[0.4444444444444444,\"#bd3786\"],[0.5555555555555556,\"#d8576b\"],[0.6666666666666666,\"#ed7953\"],[0.7777777777777778,\"#fb9f3a\"],[0.8888888888888888,\"#fdca26\"],[1.0,\"#f0f921\"]]},\"legend\":{\"tracegroupgap\":0},\"margin\":{\"t\":60},\"title\":{\"text\":\"3D LDA scatter plot\"}},                        {\"responsive\": true}                    ).then(function(){\n",
              "                            \n",
              "var gd = document.getElementById('63a1de6a-08e7-4c9b-a3bb-438acbeba196');\n",
              "var x = new MutationObserver(function (mutations, observer) {{\n",
              "        var display = window.getComputedStyle(gd).display;\n",
              "        if (!display || display === 'none') {{\n",
              "            console.log([gd, 'removed!']);\n",
              "            Plotly.purge(gd);\n",
              "            observer.disconnect();\n",
              "        }}\n",
              "}});\n",
              "\n",
              "// Listen for the removal of the full notebook cells\n",
              "var notebookContainer = gd.closest('#notebook-container');\n",
              "if (notebookContainer) {{\n",
              "    x.observe(notebookContainer, {childList: true});\n",
              "}}\n",
              "\n",
              "// Listen for the clearing of the current output cell\n",
              "var outputEl = gd.closest('.output');\n",
              "if (outputEl) {{\n",
              "    x.observe(outputEl, {childList: true});\n",
              "}}\n",
              "\n",
              "                        })                };                            </script>        </div>\n",
              "</body>\n",
              "</html>"
            ]
          },
          "metadata": {}
        }
      ]
    },
    {
      "cell_type": "code",
      "source": [],
      "metadata": {
        "id": "9rjjxgNDTQLZ"
      },
      "execution_count": null,
      "outputs": []
    }
  ]
}